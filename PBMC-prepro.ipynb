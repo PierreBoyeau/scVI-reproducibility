{
 "cells": [
  {
   "cell_type": "code",
   "execution_count": 1,
   "metadata": {},
   "outputs": [],
   "source": [
    "%load_ext autoreload\n",
    "%autoreload 2\n",
    "import pandas as pd\n",
    "import numpy as np\n",
    "\n",
    "from sklearn.model_selection import train_test_split\n",
    "import scipy.sparse\n",
    "import scipy.io\n",
    "import matplotlib.pyplot as plt\n",
    "%matplotlib inline\n",
    "plt.rcParams['pdf.fonttype'] = 42\n",
    "plt.rcParams['ps.fonttype'] = 42\n",
    "\n",
    "from IPython.display import clear_output\n",
    "\n",
    "from sklearn.decomposition import PCA\n",
    "from sklearn.decomposition import FactorAnalysis\n",
    "from R_interop import ZIFA\n",
    "from R_interop import ZINB\n",
    "from R_interop import SIMLR\n",
    "\n",
    "from benchmarking import *"
   ]
  },
  {
   "cell_type": "code",
   "execution_count": 2,
   "metadata": {},
   "outputs": [],
   "source": [
    "data_path = \"/home/ubuntu/single-cell-scVI/data/10xPBMCs/\""
   ]
  },
  {
   "cell_type": "markdown",
   "metadata": {},
   "source": [
    "# STEP 1: gene filtering once and for all from original matrix, this was done to produce the file that will be loaded in step 2. Do not execute, we provide the files needed to run the rest of the code"
   ]
  },
  {
   "cell_type": "code",
   "execution_count": 3,
   "metadata": {},
   "outputs": [],
   "source": [
    "gene_names = np.array(pd.read_csv(data_path + \"michael_gene_names.csv\", index_col=0)[\"x\"], dtype=str)"
   ]
  },
  {
   "cell_type": "code",
   "execution_count": 4,
   "metadata": {},
   "outputs": [
    {
     "data": {
      "text/plain": [
       "(12039, 22156)"
      ]
     },
     "execution_count": 4,
     "metadata": {},
     "output_type": "execute_result"
    }
   ],
   "source": [
    "expression = pd.DataFrame(scipy.io.mmread(data_path + \"count.mtx\").T.A, columns=gene_names)\n",
    "expression.shape "
   ]
  },
  {
   "cell_type": "markdown",
   "metadata": {},
   "source": [
    "#### select genes that are in the DE data"
   ]
  },
  {
   "cell_type": "code",
   "execution_count": 5,
   "metadata": {},
   "outputs": [],
   "source": [
    "def dumb_prefix(x, n):\n",
    "    if x != \"GS\":\n",
    "        return str(n) + \"_\" + x\n",
    "    else:\n",
    "        return x"
   ]
  },
  {
   "cell_type": "code",
   "execution_count": 6,
   "metadata": {},
   "outputs": [
    {
     "data": {
      "text/plain": [
       "(6394, 19)"
      ]
     },
     "execution_count": 6,
     "metadata": {},
     "output_type": "execute_result"
    }
   ],
   "source": [
    "# load micro_array data and align existing genes\n",
    "exp_data_1 = pd.read_csv(data_path+\"gene_data/GSE8835_CD4_CD8.tab\", delimiter=\"\\t\")\n",
    "exp_data_1[\"GS\"] = exp_data_1.index\n",
    "exp_data_1.columns = [dumb_prefix(x, \"CD\") for x in exp_data_1.columns] \n",
    "exp_data_2 = pd.read_csv(data_path+\"gene_data/GSE29618_Bcells_mDC.tab\", delimiter=\"\\t\")\n",
    "exp_data_2[\"GS\"] = exp_data_2.index\n",
    "exp_data_2.columns = [dumb_prefix(x, \"BDC\") for x in exp_data_2.columns]\n",
    "exp_data_3 = pd.read_csv(data_path+\"gene_data/GSE22886_Bcells_mDC.tab\", delimiter=\"\\t\")\n",
    "exp_data_3[\"GS\"] = exp_data_3.index\n",
    "exp_data_3.columns = [dumb_prefix(x, \"BDC2\") for x in exp_data_3.columns]\n",
    "exp_data = pd.merge(exp_data_1, \\\n",
    "                          exp_data_2, how=\"inner\", on=\"GS\")\n",
    "exp_data = pd.merge(exp_data, \\\n",
    "                          exp_data_3, how=\"inner\", on=\"GS\")\n",
    "exp_data.shape"
   ]
  },
  {
   "cell_type": "code",
   "execution_count": 7,
   "metadata": {},
   "outputs": [],
   "source": [
    "# order correspondance from datasets\n",
    "gene_dataset_name = pd.DataFrame(gene_names, columns=[\"ENSG\"])\n",
    "gene_correspondance = pd.read_csv(data_path+\"de/new_rownames.tab\", delimiter=\"\\t\")\n",
    "gene_correspondance.columns = [\"ENSG\", \"GS\"]\n",
    "ordered_corres = pd.merge(gene_dataset_name, \\\n",
    "                          gene_correspondance, how=\"inner\", on=\"ENSG\", left_index=True)"
   ]
  },
  {
   "cell_type": "code",
   "execution_count": 8,
   "metadata": {},
   "outputs": [
    {
     "data": {
      "text/plain": [
       "(3346, 20)"
      ]
     },
     "execution_count": 8,
     "metadata": {},
     "output_type": "execute_result"
    }
   ],
   "source": [
    "micro_array_result = pd.merge(ordered_corres, exp_data, how=\"inner\", on=\"GS\", right_index=True)\n",
    "micro_array_result.shape"
   ]
  },
  {
   "cell_type": "code",
   "execution_count": 9,
   "metadata": {},
   "outputs": [],
   "source": [
    "micro_array_result.to_csv(data_path+\"de/gene_info.csv\")"
   ]
  },
  {
   "cell_type": "code",
   "execution_count": 10,
   "metadata": {},
   "outputs": [],
   "source": [
    "expression = expression[micro_array_result[\"ENSG\"]]"
   ]
  },
  {
   "cell_type": "code",
   "execution_count": 11,
   "metadata": {},
   "outputs": [],
   "source": [
    "de_expression = np.copy(expression.as_matrix())\n",
    "de_gene_names = expression.columns"
   ]
  },
  {
   "cell_type": "code",
   "execution_count": 138,
   "metadata": {
    "collapsed": true,
    "deletable": false,
    "editable": false,
    "run_control": {
     "frozen": true
    }
   },
   "outputs": [],
   "source": [
    "np.savetxt(data_path+\"gene_data/gene_names.tab\", gene_names, fmt='%s')"
   ]
  },
  {
   "cell_type": "markdown",
   "metadata": {},
   "source": [
    "## STEP2: now clusters and qc"
   ]
  },
  {
   "cell_type": "code",
   "execution_count": 12,
   "metadata": {},
   "outputs": [],
   "source": [
    "design = pd.read_csv(data_path + \"design.csv\", index_col=0)\n",
    "dim_names = [\"WPC\"+str(i) for i in range(1, 8)]\n",
    "qc_pc = design[dim_names].as_matrix()\n",
    "normalized_qc = pd.read_csv(data_path + \"full_qc.csv\", index_col=0)\n",
    "barcodes = pd.read_csv(data_path + \"barcodes.csv\", index_col=1)\n",
    "batch = pd.read_csv(data_path + \"batch.csv\", index_col=0)"
   ]
  },
  {
   "cell_type": "code",
   "execution_count": 13,
   "metadata": {},
   "outputs": [],
   "source": [
    "raw_qc_8 = pd.read_csv(data_path + \"molecule_qc_8k.txt\", index_col=0, sep=\"\\t\")\n",
    "raw_qc_8.index = raw_qc_8.index.map(lambda s: s+\"-1\")\n",
    "raw_qc_4 = pd.read_csv(data_path + \"molecule_qc_4k.txt\", index_col=0, sep=\"\\t\")\n",
    "raw_qc_8 = raw_qc_8.loc[barcodes.iloc[np.where(batch[\"x\"] == \"pbmc8k\")[0], :].index.values]\n",
    "number_suffix = barcodes.iloc[np.where(batch[\"x\"] == \"pbmc4k\")[0], :].index.map(lambda s: str(s.split(\"-\")[1])).values\n",
    "barcode_prefix = barcodes.iloc[np.where(batch[\"x\"] == \"pbmc4k\")[0], :].index.map(lambda s: str(s.split(\"-\")[0])).values\n",
    "raw_qc_4 = raw_qc_4.loc[barcode_prefix]\n",
    "raw_qc_4.index = raw_qc_4.index +\"-\" +number_suffix"
   ]
  },
  {
   "cell_type": "code",
   "execution_count": 14,
   "metadata": {},
   "outputs": [],
   "source": [
    "raw_qc = pd.concat((raw_qc_8, raw_qc_4)).loc[barcodes.index]"
   ]
  },
  {
   "cell_type": "code",
   "execution_count": 15,
   "metadata": {},
   "outputs": [
    {
     "data": {
      "text/plain": [
       "((12039, 7), (12039, 9), (12039, 9), (12039, 1))"
      ]
     },
     "execution_count": 15,
     "metadata": {},
     "output_type": "execute_result"
    }
   ],
   "source": [
    "qc_pc.shape, normalized_qc.shape, raw_qc.shape, batch.shape"
   ]
  },
  {
   "cell_type": "code",
   "execution_count": 16,
   "metadata": {},
   "outputs": [
    {
     "name": "stdout",
     "output_type": "stream",
     "text": [
      "dataset_population\n"
     ]
    },
    {
     "data": {
      "text/plain": [
       "[(0, 'B cells', 1625),\n",
       " (1, 'CD14+ Monocytes', 2237),\n",
       " (2, 'CD4 T cells', 5024),\n",
       " (3, 'CD8 T cells', 1452),\n",
       " (4, 'Dendritic Cells', 339),\n",
       " (5, 'FCGR3A+ Monocytes', 351),\n",
       " (6, 'Megakaryocytes', 88),\n",
       " (7, 'NK cells', 459),\n",
       " (8, 'Other', 464)]"
      ]
     },
     "execution_count": 16,
     "metadata": {},
     "output_type": "execute_result"
    }
   ],
   "source": [
    "bio = pd.read_csv(data_path + \"bio.csv\", index_col=0)\n",
    "list_clusters = np.unique(bio[\"x\"])\n",
    "def string_to_cluster(string):\n",
    "    return np.where(list_clusters == string)[0][0]\n",
    "data_bio = bio[\"x\"].apply(lambda i: string_to_cluster(i))\n",
    "clusters = data_bio.values\n",
    "counts = data_bio.value_counts()[range(0, 9)].values\n",
    "print \"dataset_population\"\n",
    "zip(list(np.unique(clusters)), list(list_clusters), list(counts))"
   ]
  },
  {
   "cell_type": "code",
   "execution_count": 17,
   "metadata": {},
   "outputs": [],
   "source": [
    "_, batch = np.unique(batch, return_inverse=True)"
   ]
  },
  {
   "cell_type": "code",
   "execution_count": 18,
   "metadata": {},
   "outputs": [],
   "source": [
    "X_train, X_test, \\\n",
    "de_X_train, de_X_test, \\\n",
    "c_train, c_test, \\\n",
    "r_train, r_test, \\\n",
    "b_train, b_test, \\\n",
    "qc_train, qc_test = \\\n",
    "                train_test_split(expression, de_expression, clusters, qc_pc, \\\n",
    "                                 batch, raw_qc.as_matrix(), random_state=0)"
   ]
  },
  {
   "cell_type": "code",
   "execution_count": 31,
   "metadata": {
    "collapsed": true,
    "deletable": false,
    "editable": false,
    "run_control": {
     "frozen": true
    }
   },
   "outputs": [],
   "source": [
    "scipy.sparse.save_npz(data_path + \"data_train.npz\", scipy.sparse.coo_matrix(X_train))\n",
    "scipy.sparse.save_npz(data_path + \"data_test.npz\", scipy.sparse.coo_matrix(X_test))\n",
    "\n",
    "np.save(data_path + \"de/data_train\", de_X_train)\n",
    "np.save(data_path + \"de/data_test\", de_X_test)\n",
    "\n",
    "np.savetxt(data_path + \"label_train\", c_train)\n",
    "np.savetxt(data_path + \"label_test\", c_test)\n",
    "\n",
    "np.savetxt(data_path + \"b_train\", b_train)\n",
    "np.savetxt(data_path + \"b_test\", b_test)\n",
    "\n",
    "np.save(data_path + \"design_train\", r_train)\n",
    "np.save(data_path + \"design_test\", r_test)\n",
    "\n",
    "np.save(data_path + \"qc_train\", qc_train)\n",
    "np.save(data_path + \"qc_test\", qc_test)"
   ]
  },
  {
   "cell_type": "markdown",
   "metadata": {},
   "source": [
    "# Now benchmarking"
   ]
  },
  {
   "cell_type": "code",
   "execution_count": 3,
   "metadata": {},
   "outputs": [],
   "source": [
    "n_latent = 10"
   ]
  },
  {
   "cell_type": "code",
   "execution_count": 4,
   "metadata": {},
   "outputs": [],
   "source": [
    "#X_train = scipy.sparse.load_npz(data_path + \"data_train.npz\").A\n",
    "#X_test = scipy.sparse.load_npz(data_path + \"data_test.npz\").A\n",
    "X_train = np.load(data_path + \"de/data_train.npy\")\n",
    "X_test = np.load(data_path + \"de/data_test.npy\")\n",
    "r_train = np.load(data_path + \"design_train.npy\")\n",
    "r_test = np.load(data_path + \"design_test.npy\")\n",
    "c_train = np.loadtxt(data_path + \"label_train\")\n",
    "c_test = np.loadtxt(data_path + \"label_test\")\n",
    "b_train = np.loadtxt(data_path + \"b_train\")\n",
    "b_test = np.loadtxt(data_path + \"b_test\")"
   ]
  },
  {
   "cell_type": "code",
   "execution_count": 22,
   "metadata": {},
   "outputs": [],
   "source": [
    "algorithms = [PCA(n_components=n_latent, svd_solver=\"full\"), \\\n",
    "              ZIFA.ZIFA(n_components=n_latent)]\n",
    "alg_names = [\"PPCA\", \"ZIFA\"]\n",
    "alg_logs = [True, True, False]"
   ]
  },
  {
   "cell_type": "code",
   "execution_count": 23,
   "metadata": {},
   "outputs": [
    {
     "name": "stdout",
     "output_type": "stream",
     "text": [
      "0 PPCA\n",
      "CPU times: user 1min 52s, sys: 8.6 s, total: 2min 1s\n",
      "Wall time: 31.8 s\n",
      "[0.32141702134965328, 0.68377188523709931, 0.54595098016588517]\n",
      "0.616187184275\n",
      "-411.634143765\n",
      "1 ZIFA\n"
     ]
    }
   ],
   "source": [
    "for i, alg in enumerate(algorithms):\n",
    "    print i, alg_names[i]\n",
    "    \n",
    "    if i == 1:\n",
    "        #ZIFA do not converge in reasonable time\n",
    "        continue\n",
    "    \n",
    "    data_train = X_train\n",
    "    data_test = X_test\n",
    "    \n",
    "    if alg_logs:\n",
    "        data_train = np.log(1 + X_train)\n",
    "        data_test = np.log(1 + X_test)\n",
    "        \n",
    "    %time alg.fit(data_train)\n",
    "    latent = alg.transform(data_train)\n",
    "    \n",
    "    print cluster_scores(latent, 9, c_train)\n",
    "    print entropy_batch_mixing(latent, b_train)\n",
    "    \n",
    "    score = alg.score(data_test)\n",
    "    if alg_logs:\n",
    "        score -= np.mean(np.sum(data_test, axis=-1))\n",
    "        \n",
    "    print score"
   ]
  },
  {
   "cell_type": "code",
   "execution_count": 9,
   "metadata": {
    "collapsed": true
   },
   "outputs": [],
   "source": [
    "# ZINB crashes\n",
    "# zinb = ZINB.ZINB(n_components=n_latent, learn_V=True)\n",
    "# % time zinb.fit(X_train)\n",
    "# % time latent = zinb.transform(X_train)\n",
    "# print zinb.score(X_test)\n",
    "# print cluster_scores(latent, 9, c_train)"
   ]
  },
  {
   "cell_type": "code",
   "execution_count": 36,
   "metadata": {},
   "outputs": [
    {
     "name": "stdout",
     "output_type": "stream",
     "text": [
      "[0.78212435541262204, 0.83751868977433352, 0.88378315126477902]\n",
      "0.628411486367\n"
     ]
    }
   ],
   "source": [
    "simlr = SIMLR(n_clusters=9)\n",
    "%time simlr.fit_transform(X_train)\n",
    "clear_output()\n",
    "print cluster_scores(simlr.F, 9, c_train)\n",
    "print entropy_batch_mixing(simlr.F, b_train)"
   ]
  },
  {
   "cell_type": "markdown",
   "metadata": {},
   "source": [
    "## imputation"
   ]
  },
  {
   "cell_type": "code",
   "execution_count": 5,
   "metadata": {},
   "outputs": [],
   "source": [
    "X_zero, i, j, ix = dropout(X_train)\n",
    "np.save(data_path + \"imputation/X_zero.npy\", X_zero)\n",
    "np.save(data_path + \"imputation/i.npy\", i)\n",
    "np.save(data_path + \"imputation/j.npy\", j)\n",
    "np.save(data_path + \"imputation/ix.npy\", ix)"
   ]
  },
  {
   "cell_type": "code",
   "execution_count": 30,
   "metadata": {},
   "outputs": [],
   "source": [
    "X_zero, i, j, ix = \\\n",
    "        np.load(data_path + \"imputation/X_zero.npy\"),\\\n",
    "        np.load(data_path + \"imputation/i.npy\"), \\\n",
    "        np.load(data_path + \"imputation/j.npy\"), \\\n",
    "        np.load(data_path + \"imputation/ix.npy\")"
   ]
  },
  {
   "cell_type": "code",
   "execution_count": null,
   "metadata": {
    "collapsed": true
   },
   "outputs": [],
   "source": [
    "# ZIFA Imputation\n",
    "zifa = ZIFA(n_components=10)\n",
    "%time zifa.fit(np.log(1 + X_zero))\n",
    "%time X_ZIFA_log = zifa.output_estimation(np.log(1 + X_zero))[\"EX\"]\n",
    "p_ZIFA = np.exp(- zifa.params[\"decay_coef\"] * X_ZIFA_log**2)\n",
    "print(\"ZIFA\", imputation_error(np.exp(X_ZIFA_log) - 1, X_train, i, j, ix), \\\n",
    "              imputation_dropout(np.log(p_ZIFA), X_zero, i, j, ix))\n",
    "del X_ZIFA_log\n",
    "del p_ZIFA"
   ]
  },
  {
   "cell_type": "code",
   "execution_count": null,
   "metadata": {
    "collapsed": true
   },
   "outputs": [],
   "source": [
    "# ZINB Imputation\n",
    "zinb = ZINB(n_components=10)\n",
    "%time zinb.fit(X_zero)\n",
    "%time zinb.score(X_zero)\n",
    "fit_ZINB = zinb.output_estimation()\n",
    "def softplus(x):\n",
    "    return np.log(1 + np.exp(x))\n",
    "X_ZINB = fit_ZINB[0]\n",
    "logit_ZINB = fit_ZINB[1]\n",
    "theta_ZINB = fit_ZINB[2]\n",
    "log_pi_ZINB = -softplus(- logit_ZINB)\n",
    "log_p_ZINB = softplus(- logit_ZINB + theta_ZINB * np.log(theta_ZINB + 1e-8) \\\n",
    "                      - theta_ZINB * np.log(theta_ZINB + X_ZINB + 1e-8)) -  softplus( - logit_ZINB)\n",
    "print(\"ZINB\", imputation_error(X_ZINB, X_train, i, j, ix),\\\n",
    "      imputation_dropout(log_pi_ZINB, X_zero, i, j, ix), imputation_dropout(log_p_ZINB, X_zero, i, j, ix))\n",
    "del fit_ZINB"
   ]
  },
  {
   "cell_type": "code",
   "execution_count": 31,
   "metadata": {},
   "outputs": [
    {
     "name": "stdout",
     "output_type": "stream",
     "text": [
      "('MAGIC', 0.53948369692054254)\n"
     ]
    }
   ],
   "source": [
    "#MAGIC Imputation\n",
    "mean_MAGIC = np.load(data_path + \"imputation/X_zero_MAGIC.npy\")\n",
    "print(\"MAGIC\", imputation_error(mean_MAGIC, X_train, X_zero, i, j, ix))"
   ]
  },
  {
   "cell_type": "markdown",
   "metadata": {},
   "source": [
    "# de benchmark"
   ]
  },
  {
   "cell_type": "code",
   "execution_count": 5,
   "metadata": {},
   "outputs": [],
   "source": [
    "from R_interop import IDR, deseq, mast, edgeR"
   ]
  },
  {
   "cell_type": "code",
   "execution_count": 6,
   "metadata": {},
   "outputs": [],
   "source": [
    "micro_array_result = pd.read_csv(data_path+\"de/gene_info.csv\")"
   ]
  },
  {
   "cell_type": "code",
   "execution_count": 7,
   "metadata": {},
   "outputs": [
    {
     "data": {
      "text/html": [
       "<div>\n",
       "<style scoped>\n",
       "    .dataframe tbody tr th:only-of-type {\n",
       "        vertical-align: middle;\n",
       "    }\n",
       "\n",
       "    .dataframe tbody tr th {\n",
       "        vertical-align: top;\n",
       "    }\n",
       "\n",
       "    .dataframe thead th {\n",
       "        text-align: right;\n",
       "    }\n",
       "</style>\n",
       "<table border=\"1\" class=\"dataframe\">\n",
       "  <thead>\n",
       "    <tr style=\"text-align: right;\">\n",
       "      <th></th>\n",
       "      <th>Unnamed: 0</th>\n",
       "      <th>ENSG</th>\n",
       "      <th>GS</th>\n",
       "      <th>CD_logFC</th>\n",
       "      <th>CD_AveExpr</th>\n",
       "      <th>CD_t</th>\n",
       "      <th>CD_P.Value</th>\n",
       "      <th>CD_adj.P.Val</th>\n",
       "      <th>CD_B</th>\n",
       "      <th>BDC_logFC</th>\n",
       "      <th>...</th>\n",
       "      <th>BDC_t</th>\n",
       "      <th>BDC_P.Value</th>\n",
       "      <th>BDC_adj.P.Val</th>\n",
       "      <th>BDC_B</th>\n",
       "      <th>BDC2_logFC</th>\n",
       "      <th>BDC2_AveExpr</th>\n",
       "      <th>BDC2_t</th>\n",
       "      <th>BDC2_P.Value</th>\n",
       "      <th>BDC2_adj.P.Val</th>\n",
       "      <th>BDC2_B</th>\n",
       "    </tr>\n",
       "  </thead>\n",
       "  <tbody>\n",
       "    <tr>\n",
       "      <th>0</th>\n",
       "      <td>5</td>\n",
       "      <td>ENSG00000188976</td>\n",
       "      <td>NOC2L</td>\n",
       "      <td>0.248976</td>\n",
       "      <td>4.193230</td>\n",
       "      <td>1.308282</td>\n",
       "      <td>0.201059</td>\n",
       "      <td>0.478547</td>\n",
       "      <td>-5.465606</td>\n",
       "      <td>0.023141</td>\n",
       "      <td>...</td>\n",
       "      <td>0.199196</td>\n",
       "      <td>0.844018</td>\n",
       "      <td>0.936848</td>\n",
       "      <td>-6.964569</td>\n",
       "      <td>0.532702</td>\n",
       "      <td>5.985696</td>\n",
       "      <td>1.671825</td>\n",
       "      <td>0.116222</td>\n",
       "      <td>0.148453</td>\n",
       "      <td>-6.166109</td>\n",
       "    </tr>\n",
       "    <tr>\n",
       "      <th>1</th>\n",
       "      <td>7</td>\n",
       "      <td>ENSG00000187608</td>\n",
       "      <td>ISG15</td>\n",
       "      <td>-0.036463</td>\n",
       "      <td>5.769094</td>\n",
       "      <td>-0.216990</td>\n",
       "      <td>0.829737</td>\n",
       "      <td>0.919775</td>\n",
       "      <td>-6.272810</td>\n",
       "      <td>0.987879</td>\n",
       "      <td>...</td>\n",
       "      <td>3.449654</td>\n",
       "      <td>0.002391</td>\n",
       "      <td>0.019573</td>\n",
       "      <td>-2.095965</td>\n",
       "      <td>0.933572</td>\n",
       "      <td>6.303954</td>\n",
       "      <td>2.202136</td>\n",
       "      <td>0.044485</td>\n",
       "      <td>0.062851</td>\n",
       "      <td>-5.300666</td>\n",
       "    </tr>\n",
       "    <tr>\n",
       "      <th>2</th>\n",
       "      <td>36</td>\n",
       "      <td>ENSG00000149527</td>\n",
       "      <td>PLCH2</td>\n",
       "      <td>0.505600</td>\n",
       "      <td>3.225463</td>\n",
       "      <td>1.834575</td>\n",
       "      <td>0.076854</td>\n",
       "      <td>0.327638</td>\n",
       "      <td>-4.707168</td>\n",
       "      <td>-0.119499</td>\n",
       "      <td>...</td>\n",
       "      <td>-1.014781</td>\n",
       "      <td>0.321715</td>\n",
       "      <td>0.598441</td>\n",
       "      <td>-6.463128</td>\n",
       "      <td>-0.977612</td>\n",
       "      <td>4.232389</td>\n",
       "      <td>-3.119639</td>\n",
       "      <td>0.007349</td>\n",
       "      <td>0.012455</td>\n",
       "      <td>-3.569136</td>\n",
       "    </tr>\n",
       "    <tr>\n",
       "      <th>3</th>\n",
       "      <td>37</td>\n",
       "      <td>ENSG00000157881</td>\n",
       "      <td>PANK4</td>\n",
       "      <td>-0.093142</td>\n",
       "      <td>4.319701</td>\n",
       "      <td>-0.772409</td>\n",
       "      <td>0.446126</td>\n",
       "      <td>0.686981</td>\n",
       "      <td>-6.001137</td>\n",
       "      <td>0.024259</td>\n",
       "      <td>...</td>\n",
       "      <td>0.111785</td>\n",
       "      <td>0.912052</td>\n",
       "      <td>0.963969</td>\n",
       "      <td>-6.978668</td>\n",
       "      <td>0.183735</td>\n",
       "      <td>6.453772</td>\n",
       "      <td>1.306024</td>\n",
       "      <td>0.212100</td>\n",
       "      <td>0.252955</td>\n",
       "      <td>-6.668252</td>\n",
       "    </tr>\n",
       "    <tr>\n",
       "      <th>4</th>\n",
       "      <td>40</td>\n",
       "      <td>ENSG00000157873</td>\n",
       "      <td>TNFRSF14</td>\n",
       "      <td>0.073292</td>\n",
       "      <td>4.949553</td>\n",
       "      <td>0.353608</td>\n",
       "      <td>0.726192</td>\n",
       "      <td>0.865967</td>\n",
       "      <td>-6.233949</td>\n",
       "      <td>-0.377352</td>\n",
       "      <td>...</td>\n",
       "      <td>-2.465162</td>\n",
       "      <td>0.022361</td>\n",
       "      <td>0.106855</td>\n",
       "      <td>-4.215261</td>\n",
       "      <td>-0.075492</td>\n",
       "      <td>6.920026</td>\n",
       "      <td>-0.540324</td>\n",
       "      <td>0.597263</td>\n",
       "      <td>0.639609</td>\n",
       "      <td>-7.373536</td>\n",
       "    </tr>\n",
       "  </tbody>\n",
       "</table>\n",
       "<p>5 rows × 21 columns</p>\n",
       "</div>"
      ],
      "text/plain": [
       "   Unnamed: 0             ENSG        GS  CD_logFC  CD_AveExpr      CD_t  \\\n",
       "0           5  ENSG00000188976     NOC2L  0.248976    4.193230  1.308282   \n",
       "1           7  ENSG00000187608     ISG15 -0.036463    5.769094 -0.216990   \n",
       "2          36  ENSG00000149527     PLCH2  0.505600    3.225463  1.834575   \n",
       "3          37  ENSG00000157881     PANK4 -0.093142    4.319701 -0.772409   \n",
       "4          40  ENSG00000157873  TNFRSF14  0.073292    4.949553  0.353608   \n",
       "\n",
       "   CD_P.Value  CD_adj.P.Val      CD_B  BDC_logFC    ...        BDC_t  \\\n",
       "0    0.201059      0.478547 -5.465606   0.023141    ...     0.199196   \n",
       "1    0.829737      0.919775 -6.272810   0.987879    ...     3.449654   \n",
       "2    0.076854      0.327638 -4.707168  -0.119499    ...    -1.014781   \n",
       "3    0.446126      0.686981 -6.001137   0.024259    ...     0.111785   \n",
       "4    0.726192      0.865967 -6.233949  -0.377352    ...    -2.465162   \n",
       "\n",
       "   BDC_P.Value  BDC_adj.P.Val     BDC_B  BDC2_logFC  BDC2_AveExpr    BDC2_t  \\\n",
       "0     0.844018       0.936848 -6.964569    0.532702      5.985696  1.671825   \n",
       "1     0.002391       0.019573 -2.095965    0.933572      6.303954  2.202136   \n",
       "2     0.321715       0.598441 -6.463128   -0.977612      4.232389 -3.119639   \n",
       "3     0.912052       0.963969 -6.978668    0.183735      6.453772  1.306024   \n",
       "4     0.022361       0.106855 -4.215261   -0.075492      6.920026 -0.540324   \n",
       "\n",
       "   BDC2_P.Value  BDC2_adj.P.Val    BDC2_B  \n",
       "0      0.116222        0.148453 -6.166109  \n",
       "1      0.044485        0.062851 -5.300666  \n",
       "2      0.007349        0.012455 -3.569136  \n",
       "3      0.212100        0.252955 -6.668252  \n",
       "4      0.597263        0.639609 -7.373536  \n",
       "\n",
       "[5 rows x 21 columns]"
      ]
     },
     "execution_count": 7,
     "metadata": {},
     "output_type": "execute_result"
    }
   ],
   "source": [
    "micro_array_result.head()"
   ]
  },
  {
   "cell_type": "code",
   "execution_count": 8,
   "metadata": {},
   "outputs": [],
   "source": [
    "def boostrap_scores_de(p_value, model, it, p_prior = 0.1, rank_auc=111):\n",
    "    l = []\n",
    "    for i in range(it):\n",
    "        print i\n",
    "        model_p_value = model.fit().astype(np.float64)\n",
    "        res = idr.fit(-np.log(model_p_value), -np.log(p_value), p_prior=p_prior)\n",
    "        auc = auc_score_threshold(p_value, model_p_value, rank_auc, p_value=True)\n",
    "        res = list(res)\n",
    "        res.append([auc])\n",
    "        l.append([x[0] for x in res])    \n",
    "    return l"
   ]
  },
  {
   "cell_type": "code",
   "execution_count": 9,
   "metadata": {},
   "outputs": [],
   "source": [
    "gene_names = micro_array_result[\"ENSG\"]\n",
    "gene_symbols = micro_array_result[\"GS\"]"
   ]
  },
  {
   "cell_type": "code",
   "execution_count": 10,
   "metadata": {},
   "outputs": [],
   "source": [
    "# interest = \"CD\"\n",
    "# couple_celltypes = (3, 2)\n",
    "# rank_auc = 111\n",
    "# p_prior = 0.03\n",
    "\n",
    "interest = \"BDC\"\n",
    "couple_celltypes = (0, 4)\n",
    "rank_auc = 800\n",
    "p_prior = 0.25\n",
    "\n",
    "# getting p_values\n",
    "p_value = micro_array_result[interest + \"_adj.P.Val\"].values\n",
    "signed_p_value = - np.log10(p_value) * np.sign(micro_array_result[interest + \"_logFC\"].values)"
   ]
  },
  {
   "cell_type": "code",
   "execution_count": 11,
   "metadata": {},
   "outputs": [],
   "source": [
    "idr = IDR.IDR()\n",
    "\n",
    "deseq_2 = deseq.DESeq2(100, 100, \\\n",
    "                 data_path + \"de/data_train.npy\",\\\n",
    "                 data_path + \"label_train\", \\\n",
    "                    couple_celltypes)\n",
    "mast_ = mast.MAST(100, 100, \\\n",
    "                 data_path + \"de/data_train.npy\",\\\n",
    "                 data_path + \"label_train\", \\\n",
    "                    couple_celltypes)\n",
    "\n",
    "edger_ = edgeR.edgeR(100, 100, data_path + \"de/data_train.npy\",\\\n",
    "                 data_path + \"label_train\", \\\n",
    "                    couple_celltypes) "
   ]
  },
  {
   "cell_type": "code",
   "execution_count": 12,
   "metadata": {},
   "outputs": [],
   "source": [
    "from rpy2.robjects.packages import importr\n",
    "from rpy2.robjects.vectors import FloatVector\n",
    "\n",
    "stats = importr('stats')"
   ]
  },
  {
   "cell_type": "code",
   "execution_count": 42,
   "metadata": {},
   "outputs": [],
   "source": [
    "p, fc = mast_.fit(return_fc=True)\n",
    "p = np.array(stats.p_adjust(FloatVector(p), method = 'BH'))\n",
    "signed_p = - np.log10(p) * np.sign(fc)"
   ]
  },
  {
   "cell_type": "code",
   "execution_count": 43,
   "metadata": {},
   "outputs": [
    {
     "name": "stdout",
     "output_type": "stream",
     "text": [
      "65\n",
      "13.1367285978\n",
      "26.5712319467\n",
      "33.7548348595\n",
      "10.4782400702\n",
      "8.23924219623\n",
      "20.7548789226\n",
      "10.2734758221\n",
      "27.6477604493\n",
      "25.937779413\n",
      "nan\n",
      "nan\n",
      "nan\n",
      "61.4431415407\n",
      "29.9670701291\n",
      "18.2757823484\n",
      "81.7094506843\n",
      "36.0672537044\n",
      "30.6529078913\n",
      "6.72417677862\n",
      "nan\n",
      "8.42303552961\n",
      "21.6653397101\n",
      "20.6380455189\n",
      "13.5980398166\n",
      "28.5424216977\n",
      "nan\n",
      "19.0292293652\n",
      "27.0393242151\n",
      "26.2492051421\n",
      "15.2507982297\n",
      "50.1387835279\n",
      "nan\n",
      "12.1890198226\n",
      "18.5865161684\n",
      "18.0344313704\n",
      "48.114697771\n",
      "31.5896588295\n",
      "16.4226704709\n",
      "10.3025330168\n",
      "14.8473303664\n",
      "4.28283232277\n",
      "nan\n",
      "27.3485558701\n",
      "53.7988794386\n",
      "22.1124621632\n",
      "nan\n",
      "3.5302301756\n",
      "11.0437654218\n",
      "32.9620562511\n",
      "12.8989672248\n",
      "26.996724755\n",
      "24.6034257986\n",
      "13.6768870668\n",
      "48.9500519776\n",
      "50.2636695469\n",
      "55.3693816358\n",
      "9.86260331224\n",
      "19.9844394201\n",
      "0.97992017688\n",
      "32.7216771748\n",
      "31.694192471\n",
      "14.6373340161\n",
      "1.04352491745\n",
      "19.2413600395\n",
      "59.3833768612\n"
     ]
    }
   ],
   "source": [
    "list_gene = ['AHR', 'ANXA5', 'ARPC5', 'ATP6AP1', 'C1orf54', 'CAPG', 'CD1D', 'CD33', 'CD63', 'CDK2AP1', 'CLEC10A', 'CLIC2', 'COTL1', 'COX8A', 'CSF3R', 'CST3', 'CSTB', 'CTSH', 'CUEDC2', 'CYFIP1', 'DPYD', 'DPYSL2', 'EFHD2', 'FBP1', 'FCER1A', 'FLT3', 'GABARAP', 'GNAI2', 'GNG5', 'GSTO1', 'GSTP1', 'IL18', 'ILK', 'IMPA2', 'ITGAX', 'ITGB2', 'LCP1', 'LMO2', 'MAP2K1', 'NDFIP1', 'NUP93', 'PADI2', 'PAK1', 'PFN1', 'PRCP', 'PSTPIP2', 'PTGS2', 'PTTG1IP', 'PYCARD', 'RAB11FIP1', 'RAB32', 'RHOG', 'RPS6KA4', 'S100A10', 'S100A4', 'S100A6', 'SEC13', 'SEMA4A', 'SLC30A1', 'TGFBI', 'TIMP1', 'TOB1', 'TRIB1', 'UQCRFS1', 'VIM']\n",
    "print len(list_gene)\n",
    "for a in list_gene:\n",
    "    print signed_p[np.where(gene_symbols == a)[0][0]]"
   ]
  },
  {
   "cell_type": "code",
   "execution_count": 13,
   "metadata": {},
   "outputs": [
    {
     "name": "stderr",
     "output_type": "stream",
     "text": [
      "/home/ubuntu/tensorflow/lib/python2.7/site-packages/ipykernel_launcher.py:11: RuntimeWarning: invalid value encountered in greater_equal\n",
      "  # This is added back by InteractiveShellApp.init_path()\n",
      "/home/ubuntu/tensorflow/lib/python2.7/site-packages/ipykernel_launcher.py:12: RuntimeWarning: invalid value encountered in less_equal\n",
      "  if sys.path[0] == '':\n"
     ]
    },
    {
     "name": "stdout",
     "output_type": "stream",
     "text": [
      "BDC_Detected  1765  genes with MAST\n",
      "BDC_Detected  879  genes with microarray\n"
     ]
    },
    {
     "name": "stderr",
     "output_type": "stream",
     "text": [
      "/home/ubuntu/tensorflow/lib/python2.7/site-packages/ipykernel_launcher.py:9: RuntimeWarning: invalid value encountered in log10\n",
      "  if __name__ == '__main__':\n",
      "/home/ubuntu/tensorflow/lib/python2.7/site-packages/ipykernel_launcher.py:9: RuntimeWarning: invalid value encountered in sign\n",
      "  if __name__ == '__main__':\n",
      "/home/ubuntu/tensorflow/lib/python2.7/site-packages/ipykernel_launcher.py:9: RuntimeWarning: invalid value encountered in multiply\n",
      "  if __name__ == '__main__':\n"
     ]
    },
    {
     "name": "stdout",
     "output_type": "stream",
     "text": [
      "BDC_Detected  340  genes with DESeq\n",
      "BDC_Detected  879 "
     ]
    },
    {
     "name": "stderr",
     "output_type": "stream",
     "text": [
      "/home/ubuntu/tensorflow/lib/python2.7/site-packages/ipykernel_launcher.py:24: RuntimeWarning: invalid value encountered in less_equal\n"
     ]
    },
    {
     "name": "stdout",
     "output_type": "stream",
     "text": [
      " genes with microarray\n",
      "BDC_Detected  1143  genes with edgeR\n",
      "BDC_Detected  879  genes with microarray\n"
     ]
    },
    {
     "name": "stderr",
     "output_type": "stream",
     "text": [
      "/home/ubuntu/tensorflow/lib/python2.7/site-packages/ipykernel_launcher.py:9: RuntimeWarning: divide by zero encountered in log10\n",
      "  if __name__ == '__main__':\n"
     ]
    },
    {
     "data": {
      "image/png": "[encoded data removed]",
      "text/plain": [
       "<matplotlib.figure.Figure at 0x7f1b6d68ad50>"
      ]
     },
     "metadata": {},
     "output_type": "display_data"
    },
    {
     "data": {
      "image/png": "[encoded data removed]",
      "text/plain": [
       "<matplotlib.figure.Figure at 0x7f1b7d20ef90>"
      ]
     },
     "metadata": {},
     "output_type": "display_data"
    },
    {
     "data": {
      "image/png": "[encoded data removed]",
      "text/plain": [
       "<matplotlib.figure.Figure at 0x7f1b7d159b90>"
      ]
     },
     "metadata": {},
     "output_type": "display_data"
    }
   ],
   "source": [
    "alg_list = [\"MAST\", \"DESeq\", \"edgeR\"]\n",
    "estim_list = [mast_, deseq_2, edger_]\n",
    "for t in range(3):\n",
    "    alg = alg_list[t]\n",
    "    estim = estim_list[t]\n",
    "    p, fc = estim.fit(return_fc=True)\n",
    "\n",
    "    p = np.array(stats.p_adjust(FloatVector(p), method = 'BH'))\n",
    "    signed_p = - np.log10(p) * np.sign(fc)\n",
    "\n",
    "    signed_p[signed_p >= 20] = 20\n",
    "    signed_p[signed_p <= -20] = -20\n",
    "\n",
    "    plt.figure(figsize=(5, 5))\n",
    "    plt.scatter(signed_p, signed_p_value)\n",
    "    plt.axvline(x=3, c=\"r\")\n",
    "    plt.axvline(x=-3, c=\"r\")\n",
    "    plt.axhline(y=np.log10(0.05), c=\"r\")\n",
    "    plt.axhline(y=-np.log10(0.05), c=\"r\")\n",
    "    plt.xlabel(\"Signed log corrected p_value \"+alg)\n",
    "    plt.ylabel(\"Signed log corrected p_value micro-array\")\n",
    "    plt.tight_layout()\n",
    "    plt.savefig(interest + \"_\"+ alg + \"_vs_micro_array.pdf\", transparency=True)\n",
    "    print interest + \"_\" + \"Detected \", np.sum(p <= 0.05), \" genes with \" + alg\n",
    "    print interest + \"_\" + \"Detected \", np.sum(p_value <= 0.05), \" genes with microarray\""
   ]
  },
  {
   "cell_type": "code",
   "execution_count": 39,
   "metadata": {},
   "outputs": [
    {
     "name": "stdout",
     "output_type": "stream",
     "text": [
      "0\n",
      "1\n",
      "2\n",
      "3\n",
      "4\n",
      "5\n",
      "6\n",
      "7\n",
      "8\n",
      "9\n",
      "10\n",
      "11\n",
      "12\n",
      "13\n",
      "14\n",
      "15\n",
      "16\n",
      "17\n",
      "18\n",
      "19\n"
     ]
    },
    {
     "data": {
      "text/plain": [
       "[[0.073530264912539028, 0.76195418663262859, 0.77699152011362205],\n",
       " [0.068250986446227457, 0.76407072488814065, 0.75826893353941272],\n",
       " [0.077765533677118415, 0.77260147889449005, 0.7276271634849687],\n",
       " [0.06571610300534475, 0.74687195787500604, 0.72894300792291511],\n",
       " [0.066476238389557463, 0.81145682788121143, 0.72523775707701532],\n",
       " [0.073137387809561, 0.73231267047962778, 0.75063842822729998],\n",
       " [0.067199978491508036, 0.82443267559563582, 0.7312196276647589],\n",
       " [0.076060841551785857, 0.73331833113736489, 0.74386148126488161],\n",
       " [0.066649895844789767, 0.7419593462360633, 0.75332442179428261],\n",
       " [0.070325053965708775, 0.75922082702337057, 0.70693150646782799],\n",
       " [0.070269363881499861, 0.77580140511537032, 0.75295125109653716],\n",
       " [0.066838485681943213, 0.78232651181128521, 0.73260509350153857],\n",
       " [0.072138465222251119, 0.75967116402180879, 0.72413077683556826],\n",
       " [0.070912261946707938, 0.77283260186826508, 0.7374312488686523],\n",
       " [0.077054115195049844, 0.76841790311523128, 0.76475486305470852],\n",
       " [0.067760362192793133, 0.77206408028342466, 0.73434284361641389],\n",
       " [0.07224165860596303, 0.77594926120694474, 0.74223373296016271],\n",
       " [0.072709432948611694, 0.78839349006976422, 0.71921132879401817],\n",
       " [0.069727937232613127, 0.80565268488927322, 0.75851539329128215],\n",
       " [0.06013452783126641, 0.71649494666524693, 0.75402759792249752]]"
      ]
     },
     "execution_count": 39,
     "metadata": {},
     "output_type": "execute_result"
    }
   ],
   "source": [
    "boostrap_scores_de(p_value, edger_, 20, p_prior=p_prior, rank_auc=rank_auc)"
   ]
  },
  {
   "cell_type": "markdown",
   "metadata": {},
   "source": [
    "##### deseq"
   ]
  },
  {
   "cell_type": "code",
   "execution_count": 40,
   "metadata": {},
   "outputs": [
    {
     "name": "stdout",
     "output_type": "stream",
     "text": [
      "0\n"
     ]
    },
    {
     "name": "stderr",
     "output_type": "stream",
     "text": [
      "/home/romain/tensorflow/lib/python2.7/site-packages/ipykernel_launcher.py:6: RuntimeWarning: invalid value encountered in log\n",
      "  \n"
     ]
    },
    {
     "name": "stdout",
     "output_type": "stream",
     "text": [
      "1\n",
      "2\n",
      "3\n",
      "4\n",
      "5\n",
      "6\n",
      "7\n",
      "8\n",
      "9\n",
      "10\n",
      "11\n",
      "12\n",
      "13\n",
      "14\n",
      "15\n",
      "16\n",
      "17\n",
      "18\n",
      "19\n"
     ]
    },
    {
     "data": {
      "text/plain": [
       "[[0.032902867101084761, 0.75064093569227797, 0.52526938374252241],\n",
       " [0.036789116382926083, 0.72017810096583035, 0.5179735461816265],\n",
       " [0.056749138334733717, 0.56656014843078162, 0.52498740987703107],\n",
       " [0.053730686712023967, 0.53090684455984949, 0.5306070519810977],\n",
       " [0.039129326918783583, 0.67061776463314104, 0.56007875281260056],\n",
       " [0.034052745141134398, 0.69409934011357677, 0.52993442061155505],\n",
       " [0.053500138973116597, 0.60034740095641459, 0.52857115763920492],\n",
       " [0.036578018526089592, 0.71090287459174029, 0.52722321624760649],\n",
       " [0.033767152313007941, 0.70978620792624969, 0.51776167095316028],\n",
       " [0.037461152311075947, 0.70510829261397867, 0.52464612260895827],\n",
       " [0.032786172923720942, 0.71062023825762077, 0.53715575721464059],\n",
       " [0.036776903122752322, 0.69476703943609541, 0.50803282689608897],\n",
       " [0.031149835542971429, 0.73337895785256335, 0.51878387978316931],\n",
       " [0.031469050849262284, 0.76241826912790078, 0.52070611885915308],\n",
       " [0.032477264713363083, 0.76937458923521596, 0.53382288143281109],\n",
       " [0.037800571718959758, 0.69876076492377492, 0.52646699039922895],\n",
       " [0.03941311672865884, 0.70365038370668653, 0.53003174925384489],\n",
       " [0.037672128241556378, 0.73211051514709979, 0.53377095631641092],\n",
       " [0.033399164282163565, 0.69160867743950627, 0.51726138265245813],\n",
       " [0.039219063521729651, 0.74222275590963471, 0.51529748873958892]]"
      ]
     },
     "execution_count": 40,
     "metadata": {},
     "output_type": "execute_result"
    }
   ],
   "source": [
    "boostrap_scores_de(p_value, deseq_2, 20, p_prior=p_prior, rank_auc=rank_auc)"
   ]
  },
  {
   "cell_type": "markdown",
   "metadata": {},
   "source": [
    "##### MAST"
   ]
  },
  {
   "cell_type": "code",
   "execution_count": 41,
   "metadata": {},
   "outputs": [
    {
     "name": "stdout",
     "output_type": "stream",
     "text": [
      "0\n",
      "1\n",
      "2\n",
      "3\n",
      "4\n",
      "5\n",
      "6\n",
      "7\n",
      "8\n",
      "9\n",
      "10\n",
      "11\n",
      "12\n",
      "13\n",
      "14\n",
      "15\n",
      "16\n",
      "17\n",
      "18\n",
      "19\n"
     ]
    },
    {
     "data": {
      "text/plain": [
       "[[0.065781157888356173, 0.76990326605871884, 0.7609410028266288],\n",
       " [0.062784048122332473, 0.80917994940195381, 0.71204310957015748],\n",
       " [0.063971421212487903, 0.77001789394647091, 0.72957517022432006],\n",
       " [0.060448377538310706, 0.8125881475527672, 0.72636840859406548],\n",
       " [0.066768861752931272, 0.7854925099161234, 0.70587186877758745],\n",
       " [0.063340469095832436, 0.81813090452909309, 0.72191960120862753],\n",
       " [0.061036225462394837, 0.82093187501924691, 0.75659941239539386],\n",
       " [0.070572252155508608, 0.77022310055222787, 0.74184663798265049],\n",
       " [0.063235704755484873, 0.81860553895462995, 0.72209226227773371],\n",
       " [0.066928372070680031, 0.82596621361863576, 0.72422685436595791],\n",
       " [0.07967038190921473, 0.79923288463129472, 0.7388919058161717],\n",
       " [0.063989746041377762, 0.78559024397455945, 0.72696993747998384],\n",
       " [0.067434143767636387, 0.75430709654858719, 0.74708773688680941],\n",
       " [0.059395332998462259, 0.71476823798946998, 0.74906916189760087],\n",
       " [0.063526875290721915, 0.79988289017266589, 0.75284681899828731],\n",
       " [0.066169561989585887, 0.79532265352750287, 0.73440828773131717],\n",
       " [0.062650195078347529, 0.76764944984080585, 0.72528649205619833],\n",
       " [0.069350135570590304, 0.7682962580970627, 0.73030619491206816],\n",
       " [0.067181831562086514, 0.80766849220846715, 0.71682052995808787],\n",
       " [0.062791723026266705, 0.7960548046500352, 0.71742762855591291]]"
      ]
     },
     "execution_count": 41,
     "metadata": {},
     "output_type": "execute_result"
    }
   ],
   "source": [
    "boostrap_scores_de(p_value, mast_, 20, p_prior=p_prior, rank_auc=rank_auc)"
   ]
  },
  {
   "cell_type": "markdown",
   "metadata": {
    "collapsed": true
   },
   "source": [
    "### DCA"
   ]
  },
  {
   "cell_type": "code",
   "execution_count": 10,
   "metadata": {},
   "outputs": [],
   "source": [
    "idr = IDR.IDR()\n",
    "\n",
    "deseq_2_DCA = deseq.DESeq2(100, 100, \\\n",
    "                 data_path + \"de/dca_data_train.npy\",\\\n",
    "                 data_path + \"label_train\", \\\n",
    "                    couple_celltypes)"
   ]
  },
  {
   "cell_type": "code",
   "execution_count": 14,
   "metadata": {},
   "outputs": [
    {
     "name": "stderr",
     "output_type": "stream",
     "text": [
      "/home/ubuntu/tensorflow/lib/python2.7/site-packages/ipykernel_launcher.py:6: RuntimeWarning: invalid value encountered in log10\n",
      "  \n",
      "/home/ubuntu/tensorflow/lib/python2.7/site-packages/ipykernel_launcher.py:6: RuntimeWarning: invalid value encountered in sign\n",
      "  \n",
      "/home/ubuntu/tensorflow/lib/python2.7/site-packages/ipykernel_launcher.py:6: RuntimeWarning: invalid value encountered in multiply\n",
      "  \n",
      "/home/ubuntu/tensorflow/lib/python2.7/site-packages/ipykernel_launcher.py:8: RuntimeWarning: invalid value encountered in greater_equal\n",
      "  \n",
      "/home/ubuntu/tensorflow/lib/python2.7/site-packages/ipykernel_launcher.py:9: RuntimeWarning: invalid value encountered in less_equal\n",
      "  if __name__ == '__main__':\n"
     ]
    },
    {
     "name": "stdout",
     "output_type": "stream",
     "text": [
      "BDC_Detected  320  genes with DCA\n",
      "BDC_Detected  879  genes with microarray\n"
     ]
    },
    {
     "name": "stderr",
     "output_type": "stream",
     "text": [
      "/home/ubuntu/tensorflow/lib/python2.7/site-packages/ipykernel_launcher.py:21: RuntimeWarning: invalid value encountered in less_equal\n"
     ]
    },
    {
     "data": {
      "image/png": "[encoded data removed]",
      "text/plain": [
       "<matplotlib.figure.Figure at 0x7fd4d1488610>"
      ]
     },
     "metadata": {},
     "output_type": "display_data"
    }
   ],
   "source": [
    "alg = \"DCA\"\n",
    "estim = deseq_2_DCA\n",
    "p, fc = estim.fit(return_fc=True)\n",
    "\n",
    "p = np.array(stats.p_adjust(FloatVector(p), method = 'BH'))\n",
    "signed_p = - np.log10(p) * np.sign(fc)\n",
    "\n",
    "signed_p[signed_p >= 20] = 20\n",
    "signed_p[signed_p <= -20] = -20\n",
    "\n",
    "plt.figure(figsize=(5, 5))\n",
    "plt.scatter(signed_p, signed_p_value)\n",
    "plt.axvline(x=3, c=\"r\")\n",
    "plt.axvline(x=-3, c=\"r\")\n",
    "plt.axhline(y=np.log10(0.05), c=\"r\")\n",
    "plt.axhline(y=-np.log10(0.05), c=\"r\")\n",
    "plt.xlabel(\"Signed log corrected p_value \"+alg)\n",
    "plt.ylabel(\"Signed log corrected p_value micro-array\")\n",
    "plt.tight_layout()\n",
    "plt.savefig(interest + \"_\"+ alg + \"_vs_micro_array.pdf\", dpi=300)\n",
    "print interest + \"_\" + \"Detected \", np.sum(p <= 0.05), \" genes with \" + alg\n",
    "print interest + \"_\" + \"Detected \", np.sum(p_value <= 0.05), \" genes with microarray\""
   ]
  },
  {
   "cell_type": "code",
   "execution_count": 15,
   "metadata": {},
   "outputs": [
    {
     "name": "stdout",
     "output_type": "stream",
     "text": [
      "0\n"
     ]
    },
    {
     "name": "stderr",
     "output_type": "stream",
     "text": [
      "/home/ubuntu/tensorflow/lib/python2.7/site-packages/ipykernel_launcher.py:6: RuntimeWarning: invalid value encountered in log\n",
      "  \n",
      "benchmarking.py:87: RuntimeWarning: invalid value encountered in log\n",
      "  estimated_score = -np.log(estimated_score)\n"
     ]
    },
    {
     "name": "stdout",
     "output_type": "stream",
     "text": [
      "1\n",
      "2\n",
      "3\n",
      "4\n",
      "5\n",
      "6\n",
      "7\n",
      "8\n",
      "9\n",
      "10\n",
      "11\n",
      "12\n",
      "13\n",
      "14\n",
      "15\n",
      "16\n",
      "17\n",
      "18\n",
      "19\n"
     ]
    },
    {
     "data": {
      "text/plain": [
       "[[0.20579102816569819, 0.50700714976269023, 0.67157251709257715],\n",
       " [0.18058755047714981, 0.49782412849795693, 0.66170187368282396],\n",
       " [0.18205883823373051, 0.46225563725478108, 0.66578333686665248],\n",
       " [0.2278194853744466, 0.50342213375738987, 0.67223089285162407],\n",
       " [0.22812672997825545, 0.54917835812372995, 0.66843008987057928],\n",
       " [0.22062963275894731, 0.43697002174118799, 0.69418578460456637],\n",
       " [0.21857668810339298, 0.66953554518025582, 0.65516347380074835],\n",
       " [0.1866262645253581, 0.5108688836529699, 0.6555767614511836],\n",
       " [0.22643630937751896, 0.60042451069729108, 0.6646308859017338],\n",
       " [0.2168311220627111, 0.50005428379919303, 0.66589880188473105],\n",
       " [0.24242353043242065, 0.56622430811054847, 0.69005335669347778],\n",
       " [0.17019556764117594, 0.44406928853146871, 0.65805407155577145],\n",
       " [0.22190486950121596, 0.61340128907657154, 0.68259697791406981],\n",
       " [0.20105116498883821, 0.5409368547746497, 0.65572889619756503],\n",
       " [0.18637336295159221, 0.44811322631735973, 0.66199251735432885],\n",
       " [0.17266588007687542, 0.47935498169189567, 0.65158790170132319],\n",
       " [0.22436243141291032, 0.5844902379268978, 0.67046648176560841],\n",
       " [0.18481191001782554, 0.50832858270150993, 0.66454407421942852],\n",
       " [0.2036333998475498, 0.57119740037876809, 0.65944604128560225],\n",
       " [0.21106741286959002, 0.57123566295546579, 0.67129713231833132]]"
      ]
     },
     "execution_count": 15,
     "metadata": {},
     "output_type": "execute_result"
    }
   ],
   "source": [
    "boostrap_scores_de(p_value, deseq_2_DCA, 20, p_prior=p_prior, rank_auc=rank_auc)"
   ]
  },
  {
   "cell_type": "code",
   "execution_count": null,
   "metadata": {},
   "outputs": [],
   "source": []
  }
 ],
 "metadata": {
  "kernelspec": {
   "display_name": "Python 2",
   "language": "python",
   "name": "python2"
  },
  "language_info": {
   "codemirror_mode": {
    "name": "ipython",
    "version": 2
   },
   "file_extension": ".py",
   "mimetype": "text/x-python",
   "name": "python",
   "nbconvert_exporter": "python",
   "pygments_lexer": "ipython2",
   "version": "2.7.12"
  }
 },
 "nbformat": 4,
 "nbformat_minor": 2
}
