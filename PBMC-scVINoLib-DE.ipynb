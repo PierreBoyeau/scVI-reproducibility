{
 "cells": [
  {
   "cell_type": "markdown",
   "metadata": {},
   "source": [
    "# loading modules"
   ]
  },
  {
   "cell_type": "markdown",
   "metadata": {},
   "source": [
    "Need to change some pipeline in the sampling process in order to provide DE with a no lib size scVI model"
   ]
  },
  {
   "cell_type": "code",
   "execution_count": 1,
   "metadata": {},
   "outputs": [],
   "source": [
    "%load_ext autoreload\n",
    "%autoreload 2\n",
    "import scVI\n",
    "from sklearn.linear_model import LinearRegression\n",
    "import tensorflow as tf\n",
    "import pickle\n",
    "from benchmarking import *\n",
    "import numpy as np\n",
    "import scipy.stats as stats\n",
    "from helper import *\n",
    "import time\n",
    "from R_interop import IDR\n",
    "import pandas as pd\n",
    "\n",
    "import matplotlib.pyplot as plt\n",
    "%matplotlib inline"
   ]
  },
  {
   "cell_type": "markdown",
   "metadata": {},
   "source": [
    "# parameters"
   ]
  },
  {
   "cell_type": "code",
   "execution_count": 2,
   "metadata": {},
   "outputs": [],
   "source": [
    "learning_rate = 0.0004\n",
    "epsilon = 0.01"
   ]
  },
  {
   "cell_type": "markdown",
   "metadata": {},
   "source": [
    "# import data"
   ]
  },
  {
   "cell_type": "code",
   "execution_count": 3,
   "metadata": {},
   "outputs": [],
   "source": [
    "# expression data\n",
    "data_path = \"/home/ubuntu/single-cell-scVI/data/10xPBMCs/\"\n",
    "expression_train = np.load(data_path + \"de/data_train.npy\")\n",
    "expression_test = np.load(data_path + \"de/data_test.npy\")\n",
    "\n",
    "# qc metrics\n",
    "r_train = np.load(data_path + \"design_train.npy\")\n",
    "r_test = np.load(data_path + \"design_test.npy\")\n",
    "qc_train = np.load(data_path + \"qc_train.npy\")\n",
    "qc_test = np.load(data_path + \"qc_test.npy\")\n",
    "\n",
    "# labels\n",
    "c_train = np.loadtxt(data_path + \"label_train\")\n",
    "c_test = np.loadtxt(data_path + \"label_test\")\n",
    "\n",
    "# batch info\n",
    "b_train = np.loadtxt(data_path + \"b_train\")\n",
    "b_test = np.loadtxt(data_path + \"b_test\")\n",
    "\n",
    "# corrupted data\n",
    "X_zero, i, j, ix = \\\n",
    "        np.load(data_path + \"imputation/X_zero.npy\"), np.load(data_path + \"imputation/i.npy\"),\\\n",
    "        np.load(data_path + \"imputation/j.npy\"), np.load(data_path + \"imputation/ix.npy\")\n",
    "        \n",
    "#gene info\n",
    "micro_array_result = pd.read_csv(data_path+\"de/gene_info.csv\")\n",
    "gene_names = micro_array_result[\"ENSG\"]\n",
    "gene_symbols = micro_array_result[\"GS\"]\n",
    "cd_p_value = micro_array_result[\"CD_P.Value\"]\n",
    "bdc_p_value = micro_array_result[\"BDC_P.Value\"]\n",
    "bdc2_p_value = micro_array_result[\"BDC2_P.Value\"]"
   ]
  },
  {
   "cell_type": "code",
   "execution_count": 4,
   "metadata": {},
   "outputs": [
    {
     "data": {
      "text/plain": [
       "((9029, 3346), (3010, 3346))"
      ]
     },
     "execution_count": 4,
     "metadata": {},
     "output_type": "execute_result"
    }
   ],
   "source": [
    "expression_train.shape, expression_test.shape"
   ]
  },
  {
   "cell_type": "markdown",
   "metadata": {},
   "source": [
    "# Computational graph"
   ]
  },
  {
   "cell_type": "code",
   "execution_count": 6,
   "metadata": {},
   "outputs": [
    {
     "name": "stdout",
     "output_type": "stream",
     "text": [
      "Running scVI on 3346 genes\n",
      "scVI will run without batch correction\n",
      "Will work on mode gene for modeling inverse dispersion param\n",
      "Will apply zero inflation\n",
      "1 hidden layers at 128 each for a final 10 latent space\n"
     ]
    }
   ],
   "source": [
    "tf.reset_default_graph()\n",
    "expression = tf.placeholder(tf.float32, (None, expression_train.shape[1]), name='x')\n",
    "kl_scalar = tf.placeholder(tf.float32, (), name='kl_scalar')\n",
    "optimizer = tf.train.AdamOptimizer(learning_rate=learning_rate, epsilon=epsilon)\n",
    "training_phase = tf.placeholder(tf.bool, (), name='training_phase')\n",
    "\n",
    "model = scVI.scVINoLibSizeModel(expression=expression, kl_scale=kl_scalar, \\\n",
    "                          optimize_algo=optimizer, phase=training_phase, n_latent=10)\n",
    "\n",
    "# Session creation\n",
    "sess = tf.Session()"
   ]
  },
  {
   "cell_type": "code",
   "execution_count": 7,
   "metadata": {},
   "outputs": [
    {
     "name": "stdout",
     "output_type": "stream",
     "text": [
      "Model saved in path: /tmp/10xPBMCs_DE_125_ep.ckpt\n"
     ]
    },
    {
     "data": {
      "image/png": "[encoded data removed]",
      "text/plain": [
       "<matplotlib.figure.Figure at 0x7f05cf2a4d90>"
      ]
     },
     "metadata": {},
     "output_type": "display_data"
    }
   ],
   "source": [
    "# start a new graph and fit the training set\n",
    "sess.run(tf.global_variables_initializer())\n",
    "saver = tf.train.Saver()\n",
    "result = train_model(model, (expression_train, expression_test), sess, 125)\n",
    "save_path = saver.save(sess, \"/tmp/10xPBMCs_DE_125_ep.ckpt\")\n",
    "print(\"Model saved in path: %s\" % save_path)\n",
    "plot_training_info(result)\n",
    "#saver.restore(sess, \"/tmp/10xPBMCs_DE_125_ep.ckpt\")"
   ]
  },
  {
   "cell_type": "markdown",
   "metadata": {},
   "source": [
    "# Evaluation methods"
   ]
  },
  {
   "cell_type": "markdown",
   "metadata": {},
   "source": [
    "### DE"
   ]
  },
  {
   "cell_type": "code",
   "execution_count": 13,
   "metadata": {},
   "outputs": [],
   "source": [
    "def sample_posterior(model, X, M_z):\n",
    "    # shape and simulation\n",
    "    results = {}\n",
    "    ind = np.arange(X.shape[0])\n",
    "\n",
    "    # repeat the data for sampling\n",
    "    X_m = np.repeat(X, M_z, axis=0)\n",
    "    ind = np.repeat(ind, M_z, axis=0)\n",
    "        \n",
    "    #NN part\n",
    "    dic_x = {expression: X_m, training_phase:False, kl_scalar:1.} \n",
    "    z_m = sess.run((model.z), feed_dict=dic_x)\n",
    "    dic_z = {model.z: z_m, training_phase:False, kl_scalar:1.}\n",
    "    rate, dropout = sess.run((model.px_rate, model.px_dropout), feed_dict=dic_z)\n",
    "    dispersion = np.tile(sess.run((tf.exp(model.px_r))), (rate.shape[0], 1))\n",
    "    \n",
    "    results[\"latent\"] = z_m\n",
    "    results[\"dispersion\"] = dispersion\n",
    "    results[\"dropout\"] = dropout\n",
    "    results[\"sample_rate\"] = rate\n",
    "    results[\"index\"] = ind\n",
    "    return results"
   ]
  },
  {
   "cell_type": "code",
   "execution_count": 14,
   "metadata": {},
   "outputs": [],
   "source": [
    "def get_sampling(model, subset_a, subset_b, M_z):\n",
    "    #get q(z| xa) and q(z| xb) and sample M times from it, then output gamma parametrizations\n",
    "    res_a = sample_posterior(model, expression_train[subset_a], M_z)\n",
    "    res_b = sample_posterior(model, expression_train[subset_b], M_z)\n",
    "    return res_a, res_b"
   ]
  },
  {
   "cell_type": "code",
   "execution_count": 15,
   "metadata": {},
   "outputs": [],
   "source": [
    "def get_statistics(res_a, res_b, M_p=10000, permutation=False):\n",
    "    \"\"\"\n",
    "    Output average over statistics in a symmetric way (a against b)\n",
    "    forget the sets if permutation is True\n",
    "    \"\"\"\n",
    "    \n",
    "    #agregate dataset\n",
    "    samples = np.vstack((res_a[\"sample_rate\"], res_b[\"sample_rate\"]))\n",
    "    \n",
    "    # prepare the pairs for sampling\n",
    "    list_1 = list(np.arange(res_a[\"sample_rate\"].shape[0]))\n",
    "    list_2 = list(res_a[\"sample_rate\"].shape[0] + np.arange(res_b[\"sample_rate\"].shape[0]))\n",
    "    if not permutation:\n",
    "        #case1: no permutation, sample from A and then from B\n",
    "        u, v = np.random.choice(list_1, size=M_p), np.random.choice(list_2, size=M_p)\n",
    "    else:\n",
    "        #case2: permutation, sample from A+B twice\n",
    "        u, v = (np.random.choice(list_1+list_2, size=M_p), \\\n",
    "                    np.random.choice(list_1+list_2, size=M_p))\n",
    "    \n",
    "    # then constitutes the pairs\n",
    "    first_set = samples[u]\n",
    "    second_set = samples[v]\n",
    "    \n",
    "    res = np.mean(first_set >= second_set, 0)\n",
    "    res = np.log(res) - np.log(1-res)\n",
    "    return res"
   ]
  },
  {
   "cell_type": "code",
   "execution_count": 23,
   "metadata": {},
   "outputs": [],
   "source": [
    "interest = \"CD\"\n",
    "couple_celltypes = (3, 2)\n",
    "rank_auc = 111\n",
    "p_prior = 0.03\n",
    "\n",
    "# interest = \"BDC\"\n",
    "# couple_celltypes = (4, 0)\n",
    "# rank_auc = 800\n",
    "# p_prior = 0.25"
   ]
  },
  {
   "cell_type": "code",
   "execution_count": 24,
   "metadata": {},
   "outputs": [],
   "source": [
    "# getting p_values\n",
    "p_value = micro_array_result[interest + \"_adj.P.Val\"]\n",
    "signed_p_value = - np.log10(p_value) * np.sign(micro_array_result[interest + \"_logFC\"])\n",
    "# setting up parameters\n",
    "A, B, M_z = 100, 100, 200\n",
    "set_a = np.where(c_train == couple_celltypes[0])[0]\n",
    "set_b = np.where(c_train == couple_celltypes[1])[0]\n",
    "\n",
    "# subsampling cells and computing statistics\n",
    "subset_a = np.random.choice(set_a, A)\n",
    "subset_b = np.random.choice(set_b, B)\n",
    "res_a, res_b = get_sampling(model, subset_a, subset_b, M_z)\n",
    "st = get_statistics(res_a, res_b, M_p=40000)"
   ]
  },
  {
   "cell_type": "code",
   "execution_count": 25,
   "metadata": {
    "scrolled": false
   },
   "outputs": [
    {
     "name": "stdout",
     "output_type": "stream",
     "text": [
      "CD\n",
      "Detected  58  genes with scVI\n",
      "Detected  111  genes with microarray\n"
     ]
    },
    {
     "data": {
      "image/png": "[encoded data removed]",
      "text/plain": [
       "<matplotlib.figure.Figure at 0x7f055772d9d0>"
      ]
     },
     "metadata": {},
     "output_type": "display_data"
    }
   ],
   "source": [
    "plt.figure(figsize=(5, 5))\n",
    "plt.scatter(st, signed_p_value)\n",
    "plt.axvline(x=3, c=\"r\")\n",
    "plt.axvline(x=-3, c=\"r\")\n",
    "plt.axhline(y=np.log10(0.05), c=\"r\")\n",
    "plt.axhline(y=-np.log10(0.05), c=\"r\")\n",
    "plt.xlabel(\"Bayes Factor scVI\")\n",
    "plt.ylabel(\"Signed log corrected p_value micro-array\")\n",
    "plt.tight_layout()\n",
    "#plt.savefig(interest + \"_Bayes_factor_vs_micro_array.pdf\", dpi=300)\n",
    "print interest\n",
    "print \"Detected \", np.sum(2 * np.abs(st) >= 6), \" genes with scVI\"\n",
    "print \"Detected \", np.sum(p_value <= 0.05), \" genes with microarray\""
   ]
  },
  {
   "cell_type": "code",
   "execution_count": 28,
   "metadata": {},
   "outputs": [
    {
     "name": "stdout",
     "output_type": "stream",
     "text": [
      "0\n",
      "1\n",
      "2\n",
      "3\n",
      "4\n",
      "5\n",
      "6\n",
      "7\n",
      "8\n",
      "9\n",
      "10\n",
      "11\n",
      "12\n",
      "13\n",
      "14\n",
      "15\n",
      "16\n",
      "17\n",
      "18\n",
      "19\n"
     ]
    }
   ],
   "source": [
    "# de evaluation param\n",
    "idr = IDR.IDR()\n",
    "\n",
    "l = []\n",
    "for i in range(20):\n",
    "    print i\n",
    "    subset_a = np.random.choice(set_a, A)\n",
    "    subset_b = np.random.choice(set_b, B)\n",
    "    res_a, res_b = get_sampling(model, subset_a, subset_b, M_z)\n",
    "    st = get_statistics(res_a, res_b, M_p=40000)\n",
    "    res = idr.fit(np.abs(st), -np.log(p_value), p_prior=p_prior)\n",
    "    auc = auc_score_threshold(p_value, np.abs(st), rank_auc, p_value=False)\n",
    "    res = list(res)\n",
    "    res.append([auc])\n",
    "    l.append([x[0] for x in res])    "
   ]
  },
  {
   "cell_type": "code",
   "execution_count": 29,
   "metadata": {
    "scrolled": true
   },
   "outputs": [
    {
     "data": {
      "text/plain": [
       "[[0.089411148098399035, 0.76943512037782669, 0.81126056504727284],\n",
       " [0.097697294758393144, 0.72031450712529499, 0.82797109319520457],\n",
       " [0.10293010156090901, 0.72202288045192453, 0.8268627205257808],\n",
       " [0.096726486445407378, 0.69592742859898826, 0.83569489118175366],\n",
       " [0.093139238312065595, 0.73138826651459399, 0.80550705264770173],\n",
       " [0.097900788281656465, 0.73993351525596673, 0.81375161869752288],\n",
       " [0.10473230337134314, 0.68348900038450378, 0.82216466853252013],\n",
       " [0.10152574734162342, 0.67757499760032369, 0.8287995878413188],\n",
       " [0.10103135966071912, 0.74248040766493106, 0.83950596655387999],\n",
       " [0.091968102768194407, 0.72841286063547794, 0.80836013757188407],\n",
       " [0.094143393092213423, 0.72561847890562647, 0.81763231546848236],\n",
       " [0.090737408431639868, 0.75829391176149707, 0.80582452622638101],\n",
       " [0.094294021150732543, 0.73631162897878344, 0.8182394140663074],\n",
       " [0.094678227916538904, 0.66760274887868587, 0.84441427517161682],\n",
       " [0.095239947050295343, 0.71326895302743742, 0.83076987342829689],\n",
       " [0.10855094249690764, 0.62600573960648498, 0.84072851831739004],\n",
       " [0.098800461891832669, 0.7478142852507802, 0.81618697522870631],\n",
       " [0.085899727070195622, 0.76538742358623602, 0.81733433588147653],\n",
       " [0.094458796265872169, 0.71819459241832118, 0.80283498336048575],\n",
       " [0.095507892399802341, 0.67688626252954531, 0.82497876547335591]]"
      ]
     },
     "execution_count": 29,
     "metadata": {},
     "output_type": "execute_result"
    }
   ],
   "source": [
    "# LAST RUN (CD)\n",
    "l"
   ]
  },
  {
   "cell_type": "code",
   "execution_count": 22,
   "metadata": {
    "scrolled": true
   },
   "outputs": [
    {
     "data": {
      "text/plain": [
       "[[0.10506055320589501, 0.11827475595730817, 0.60648411211187003],\n",
       " [0.11306963478755117, 0.55423920417338657, 0.60721431017351624],\n",
       " [0.11353023858162609, 0.35672269368571535, 0.60163262847159471],\n",
       " [0.10891099547237774, 0.11836989345074067, 0.60480583902962248],\n",
       " [0.097190200975078467, -0.011255939417946156, 0.58244968367910754],\n",
       " [0.096847809957683731, 0.39000076361525976, 0.58352006657291522],\n",
       " [0.11386877734337005, 0.46453814366264912, 0.60311864484361821],\n",
       " [0.10912914854860392, 0.36469488492998431, 0.60387724797888143],\n",
       " [0.11389322564039875, 0.40251730794183838, 0.6088601358636746],\n",
       " [0.11062531321119842, 0.26777026966013567, 0.61829255062240707],\n",
       " [0.11217949866219519, 0.47464345707516969, 0.59563295683117579],\n",
       " [0.11838957337700219, 0.32976153207420877, 0.62496516248012057],\n",
       " [0.11010422847097263, 0.45872896513969413, 0.59840171428571431],\n",
       " [0.10882269202999137, 0.42677874436626612, 0.6014444522097202],\n",
       " [0.10276629006036436, 0.48292271844821166, 0.59644594884109392],\n",
       " [0.099317485872288933, 0.34354472426812976, 0.58794627542631372],\n",
       " [0.11595007474674632, 0.31270213340033448, 0.60351151483786625],\n",
       " [0.10655391660415636, 0.23154394281728682, 0.60476973905177323],\n",
       " [0.13059096148943541, -0.21246305293306653, 0.59385070766868375],\n",
       " [0.10468761369707798, -0.17790441884682603, 0.59263439247964822]]"
      ]
     },
     "execution_count": 22,
     "metadata": {},
     "output_type": "execute_result"
    }
   ],
   "source": [
    "# B / DC RUN\n",
    "l"
   ]
  },
  {
   "cell_type": "code",
   "execution_count": null,
   "metadata": {},
   "outputs": [],
   "source": []
  }
 ],
 "metadata": {
  "kernelspec": {
   "display_name": "Python 2",
   "language": "python",
   "name": "python2"
  },
  "language_info": {
   "codemirror_mode": {
    "name": "ipython",
    "version": 2
   },
   "file_extension": ".py",
   "mimetype": "text/x-python",
   "name": "python",
   "nbconvert_exporter": "python",
   "pygments_lexer": "ipython2",
   "version": "2.7.12"
  }
 },
 "nbformat": 4,
 "nbformat_minor": 2
}
