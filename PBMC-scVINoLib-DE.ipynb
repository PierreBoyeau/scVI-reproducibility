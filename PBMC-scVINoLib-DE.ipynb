{
 "cells": [
  {
   "cell_type": "markdown",
   "metadata": {},
   "source": [
    "# loading modules"
   ]
  },
  {
   "cell_type": "markdown",
   "metadata": {},
   "source": [
    "Need to change some pipeline in the sampling process in order to provide DE with a no lib size scVI model"
   ]
  },
  {
   "cell_type": "code",
   "execution_count": 1,
   "metadata": {},
   "outputs": [],
   "source": [
    "%load_ext autoreload\n",
    "%autoreload 2\n",
    "import scVI\n",
    "from sklearn.linear_model import LinearRegression\n",
    "import tensorflow as tf\n",
    "import pickle\n",
    "from benchmarking import *\n",
    "import numpy as np\n",
    "import scipy.stats as stats\n",
    "from helper import *\n",
    "import time\n",
    "from R_interop import IDR\n",
    "import pandas as pd\n",
    "\n",
    "import matplotlib.pyplot as plt\n",
    "%matplotlib inline"
   ]
  },
  {
   "cell_type": "markdown",
   "metadata": {},
   "source": [
    "# parameters"
   ]
  },
  {
   "cell_type": "code",
   "execution_count": 2,
   "metadata": {},
   "outputs": [],
   "source": [
    "learning_rate = 0.0004\n",
    "epsilon = 0.01"
   ]
  },
  {
   "cell_type": "markdown",
   "metadata": {},
   "source": [
    "# import data"
   ]
  },
  {
   "cell_type": "code",
   "execution_count": 3,
   "metadata": {},
   "outputs": [],
   "source": [
    "# expression data\n",
    "data_path = \"/home/ubuntu/single-cell-scVI/data/10xPBMCs/\"\n",
    "expression_train = np.load(data_path + \"de/data_train.npy\")\n",
    "expression_test = np.load(data_path + \"de/data_test.npy\")\n",
    "\n",
    "# qc metrics\n",
    "r_train = np.load(data_path + \"design_train.npy\")\n",
    "r_test = np.load(data_path + \"design_test.npy\")\n",
    "qc_train = np.load(data_path + \"qc_train.npy\")\n",
    "qc_test = np.load(data_path + \"qc_test.npy\")\n",
    "\n",
    "# labels\n",
    "c_train = np.loadtxt(data_path + \"label_train\")\n",
    "c_test = np.loadtxt(data_path + \"label_test\")\n",
    "\n",
    "# batch info\n",
    "b_train = np.loadtxt(data_path + \"b_train\")\n",
    "b_test = np.loadtxt(data_path + \"b_test\")\n",
    "\n",
    "# corrupted data\n",
    "X_zero, i, j, ix = \\\n",
    "        np.load(data_path + \"imputation/X_zero.npy\"), np.load(data_path + \"imputation/i.npy\"),\\\n",
    "        np.load(data_path + \"imputation/j.npy\"), np.load(data_path + \"imputation/ix.npy\")\n",
    "        \n",
    "#gene info\n",
    "micro_array_result = pd.read_csv(data_path+\"de/gene_info.csv\")\n",
    "gene_names = micro_array_result[\"ENSG\"]\n",
    "gene_symbols = micro_array_result[\"GS\"]\n",
    "cd_p_value = micro_array_result[\"CD_P.Value\"]\n",
    "bdc_p_value = micro_array_result[\"BDC_P.Value\"]\n",
    "bdc2_p_value = micro_array_result[\"BDC2_P.Value\"]"
   ]
  },
  {
   "cell_type": "code",
   "execution_count": 4,
   "metadata": {},
   "outputs": [
    {
     "data": {
      "text/plain": [
       "((9029, 3346), (3010, 3346))"
      ]
     },
     "execution_count": 4,
     "metadata": {},
     "output_type": "execute_result"
    }
   ],
   "source": [
    "expression_train.shape, expression_test.shape"
   ]
  },
  {
   "cell_type": "markdown",
   "metadata": {},
   "source": [
    "# Computational graph"
   ]
  },
  {
   "cell_type": "code",
   "execution_count": 5,
   "metadata": {},
   "outputs": [
    {
     "name": "stdout",
     "output_type": "stream",
     "text": [
      "Running scVI on 3346 genes\n",
      "scVI will run without batch correction\n",
      "Will work on mode gene for modeling inverse dispersion param\n",
      "Will apply zero inflation\n",
      "1 hidden layers at 128 each for a final 10 latent space\n"
     ]
    }
   ],
   "source": [
    "tf.reset_default_graph()\n",
    "expression = tf.placeholder(tf.float32, (None, expression_train.shape[1]), name='x')\n",
    "kl_scalar = tf.placeholder(tf.float32, (), name='kl_scalar')\n",
    "optimizer = tf.train.AdamOptimizer(learning_rate=learning_rate, epsilon=epsilon)\n",
    "training_phase = tf.placeholder(tf.bool, (), name='training_phase')\n",
    "\n",
    "model = scVI.scVINoLibSizeModel(expression=expression, kl_scale=kl_scalar, \\\n",
    "                          optimize_algo=optimizer, phase=training_phase, n_latent=10)\n",
    "\n",
    "# Session creation\n",
    "sess = tf.Session()"
   ]
  },
  {
   "cell_type": "code",
   "execution_count": 6,
   "metadata": {},
   "outputs": [
    {
     "data": {
      "image/png": "[encoded data removed]",
      "text/plain": [
       "<matplotlib.figure.Figure at 0x7f29827b4890>"
      ]
     },
     "metadata": {},
     "output_type": "display_data"
    }
   ],
   "source": [
    "# start a new graph and fit the training set\n",
    "sess.run(tf.global_variables_initializer())\n",
    "saver = tf.train.Saver()\n",
    "result = train_model(model, (expression_train, expression_test), sess, 125)\n",
    "#save_path = saver.save(sess, \"/tmp/10xPBMCs_DE_125_ep.ckpt\")\n",
    "#print(\"Model saved in path: %s\" % save_path)\n",
    "plot_training_info(result)\n",
    "#saver.restore(sess, \"/tmp/10xPBMCs_DE_125_ep.ckpt\")"
   ]
  },
  {
   "cell_type": "markdown",
   "metadata": {},
   "source": [
    "# Evaluation methods"
   ]
  },
  {
   "cell_type": "markdown",
   "metadata": {},
   "source": [
    "### DE"
   ]
  },
  {
   "cell_type": "code",
   "execution_count": 13,
   "metadata": {},
   "outputs": [],
   "source": [
    "def sample_posterior(model, X, M_z):\n",
    "    # shape and simulation\n",
    "    results = {}\n",
    "    ind = np.arange(X.shape[0])\n",
    "\n",
    "    # repeat the data for sampling\n",
    "    X_m = np.repeat(X, M_z, axis=0)\n",
    "    ind = np.repeat(ind, M_z, axis=0)\n",
    "        \n",
    "    #NN part\n",
    "    dic_x = {expression: X_m, training_phase:False, kl_scalar:1.} \n",
    "    z_m = sess.run((model.z), feed_dict=dic_x)\n",
    "    dic_z = {model.z: z_m, training_phase:False, kl_scalar:1.}\n",
    "    rate, dropout = sess.run((model.px_rate, model.px_dropout), feed_dict=dic_z)\n",
    "    dispersion = np.tile(sess.run((tf.exp(model.px_r))), (rate.shape[0], 1))\n",
    "    \n",
    "    scale = rate / np.sum(rate, axis=1)[:, np.newaxis]\n",
    "    \n",
    "    results[\"latent\"] = z_m\n",
    "    results[\"dispersion\"] = dispersion\n",
    "    results[\"dropout\"] = dropout\n",
    "    results[\"sample_rate\"] = rate\n",
    "    results[\"index\"] = ind\n",
    "    return results"
   ]
  },
  {
   "cell_type": "code",
   "execution_count": 14,
   "metadata": {},
   "outputs": [],
   "source": [
    "def get_sampling(model, subset_a, subset_b, M_z):\n",
    "    #get q(z| xa) and q(z| xb) and sample M times from it, then output gamma parametrizations\n",
    "    res_a = sample_posterior(model, expression_train[subset_a], M_z)\n",
    "    res_b = sample_posterior(model, expression_train[subset_b], M_z)\n",
    "    return res_a, res_b"
   ]
  },
  {
   "cell_type": "code",
   "execution_count": 15,
   "metadata": {},
   "outputs": [],
   "source": [
    "def get_statistics(res_a, res_b, M_p=10000, permutation=False):\n",
    "    \"\"\"\n",
    "    Output average over statistics in a symmetric way (a against b)\n",
    "    forget the sets if permutation is True\n",
    "    \"\"\"\n",
    "    \n",
    "    #agregate dataset\n",
    "    samples = np.vstack((res_a[\"sample_rate\"], res_b[\"sample_rate\"]))\n",
    "    \n",
    "    # prepare the pairs for sampling\n",
    "    list_1 = list(np.arange(res_a[\"sample_rate\"].shape[0]))\n",
    "    list_2 = list(res_a[\"sample_rate\"].shape[0] + np.arange(res_b[\"sample_rate\"].shape[0]))\n",
    "    if not permutation:\n",
    "        #case1: no permutation, sample from A and then from B\n",
    "        u, v = np.random.choice(list_1, size=M_p), np.random.choice(list_2, size=M_p)\n",
    "    else:\n",
    "        #case2: permutation, sample from A+B twice\n",
    "        u, v = (np.random.choice(list_1+list_2, size=M_p), \\\n",
    "                    np.random.choice(list_1+list_2, size=M_p))\n",
    "    \n",
    "    # then constitutes the pairs\n",
    "    first_set = samples[u]\n",
    "    second_set = samples[v]\n",
    "    \n",
    "    res = np.mean(first_set >= second_set, 0)\n",
    "    res = np.log(res) - np.log(1-res)\n",
    "    return res"
   ]
  },
  {
   "cell_type": "code",
   "execution_count": 20,
   "metadata": {},
   "outputs": [],
   "source": [
    "# interest = \"CD\"\n",
    "# couple_celltypes = (3, 2)\n",
    "# rank_auc = 111\n",
    "# p_prior = 0.03\n",
    "\n",
    "interest = \"BDC\"\n",
    "couple_celltypes = (4, 0)\n",
    "rank_auc = 800\n",
    "p_prior = 0.25"
   ]
  },
  {
   "cell_type": "code",
   "execution_count": 21,
   "metadata": {},
   "outputs": [
    {
     "name": "stderr",
     "output_type": "stream",
     "text": [
      "/home/ubuntu/tensorflow/lib/python2.7/site-packages/ipykernel_launcher.py:25: RuntimeWarning: divide by zero encountered in log\n"
     ]
    }
   ],
   "source": [
    "# getting p_values\n",
    "p_value = micro_array_result[interest + \"_adj.P.Val\"]\n",
    "signed_p_value = - np.log10(p_value) * np.sign(micro_array_result[interest + \"_logFC\"])\n",
    "# setting up parameters\n",
    "A, B, M_z = 100, 100, 200\n",
    "set_a = np.where(c_train == couple_celltypes[0])[0]\n",
    "set_b = np.where(c_train == couple_celltypes[1])[0]\n",
    "\n",
    "# subsampling cells and computing statistics\n",
    "subset_a = np.random.choice(set_a, A)\n",
    "subset_b = np.random.choice(set_b, B)\n",
    "res_a, res_b = get_sampling(model, subset_a, subset_b, M_z)\n",
    "st = get_statistics(res_a, res_b, M_p=40000)"
   ]
  },
  {
   "cell_type": "code",
   "execution_count": 22,
   "metadata": {
    "scrolled": false
   },
   "outputs": [
    {
     "name": "stdout",
     "output_type": "stream",
     "text": [
      "BDC\n",
      "Detected  1693  genes with scVI\n",
      "Detected  879  genes with microarray\n"
     ]
    },
    {
     "data": {
      "image/png": "[encoded data removed]",
      "text/plain": [
       "<matplotlib.figure.Figure at 0x7f294524cad0>"
      ]
     },
     "metadata": {},
     "output_type": "display_data"
    }
   ],
   "source": [
    "plt.figure(figsize=(5, 5))\n",
    "plt.scatter(st, signed_p_value)\n",
    "plt.axvline(x=3, c=\"r\")\n",
    "plt.axvline(x=-3, c=\"r\")\n",
    "plt.axhline(y=np.log10(0.05), c=\"r\")\n",
    "plt.axhline(y=-np.log10(0.05), c=\"r\")\n",
    "plt.xlabel(\"Bayes Factor scVI\")\n",
    "plt.ylabel(\"Signed log corrected p_value micro-array\")\n",
    "plt.tight_layout()\n",
    "#plt.savefig(interest + \"_Bayes_factor_vs_micro_array.pdf\", dpi=300)\n",
    "print interest\n",
    "print \"Detected \", np.sum(2 * np.abs(st) >= 6), \" genes with scVI\"\n",
    "print \"Detected \", np.sum(p_value <= 0.05), \" genes with microarray\""
   ]
  },
  {
   "cell_type": "code",
   "execution_count": 23,
   "metadata": {},
   "outputs": [
    {
     "name": "stdout",
     "output_type": "stream",
     "text": [
      "0\n"
     ]
    },
    {
     "name": "stderr",
     "output_type": "stream",
     "text": [
      "/home/ubuntu/tensorflow/lib/python2.7/site-packages/ipykernel_launcher.py:25: RuntimeWarning: divide by zero encountered in log\n"
     ]
    },
    {
     "name": "stdout",
     "output_type": "stream",
     "text": [
      "1\n",
      "2\n",
      "3\n",
      "4\n",
      "5\n",
      "6\n",
      "7\n",
      "8\n",
      "9\n",
      "10\n",
      "11\n",
      "12\n",
      "13\n",
      "14\n",
      "15\n",
      "16\n",
      "17\n",
      "18\n",
      "19\n"
     ]
    }
   ],
   "source": [
    "# de evaluation param\n",
    "idr = IDR.IDR()\n",
    "\n",
    "l = []\n",
    "for i in range(20):\n",
    "    print i\n",
    "    subset_a = np.random.choice(set_a, A)\n",
    "    subset_b = np.random.choice(set_b, B)\n",
    "    res_a, res_b = get_sampling(model, subset_a, subset_b, M_z)\n",
    "    st = get_statistics(res_a, res_b, M_p=40000)\n",
    "    res = idr.fit(np.abs(st), -np.log(p_value), p_prior=p_prior)\n",
    "    auc = auc_score_threshold(p_value, np.abs(st), rank_auc, p_value=False)\n",
    "    res = list(res)\n",
    "    res.append([auc])\n",
    "    l.append([x[0] for x in res])    "
   ]
  },
  {
   "cell_type": "code",
   "execution_count": null,
   "metadata": {},
   "outputs": [],
   "source": []
  }
 ],
 "metadata": {
  "kernelspec": {
   "display_name": "Python 2",
   "language": "python",
   "name": "python2"
  },
  "language_info": {
   "codemirror_mode": {
    "name": "ipython",
    "version": 2
   },
   "file_extension": ".py",
   "mimetype": "text/x-python",
   "name": "python",
   "nbconvert_exporter": "python",
   "pygments_lexer": "ipython2",
   "version": "2.7.12"
  }
 },
 "nbformat": 4,
 "nbformat_minor": 2
}
