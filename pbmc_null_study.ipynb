{
 "cells": [
  {
   "cell_type": "code",
   "execution_count": 1,
   "metadata": {},
   "outputs": [],
   "source": [
    "import numpy as np\n",
    "import os\n",
    "import matplotlib.pyplot as plt\n",
    "import plotly.graph_objs as go\n",
    "import plotly.express as px\n",
    "import plotly as py\n",
    "import pandas as pd\n",
    "from chart_studio.plotly import plot, iplot\n",
    "\n",
    "# from plotly.offline import init_notebook_mode, iplot\n",
    "from tqdm import tqdm_notebook\n",
    "\n",
    "from scvi.dataset import PbmcDataset, GeneExpressionDataset\n",
    "from scvi.models import VAE, IAVAE\n",
    "from scvi.inference import UnsupervisedTrainer\n",
    "from scvi.utils import demultiply, make_dir_if_necessary, predict_de_genes, save_fig, save_pickle, load_pickle\n",
    "from scvi_utils import estimate_de_proba, estimate_lfc_density, estimate_lfc_mean\n",
    "from R_interop import all_predictions, all_de_predictions\n",
    "\n",
    "\n",
    "N_EPOCHS = 100\n",
    "DELTA = 0.5\n",
    "# SIZES = [5, 10, 20, 30, 50, 100]\n",
    "SIZE = 100\n",
    "SIZES = [SIZE]\n",
    "DO_CLOUD = True\n",
    "N_SIZES = len(SIZES)\n",
    "\n",
    "Q0 = 5e-2\n",
    "N_TRAININGS = 5\n",
    "N_PICKS = 10\n",
    "\n",
    "np.random.seed(42)\n",
    "\n",
    "PATH_TO_SCRIPTS = \"/home/ubuntu/conquer_comparison/scripts\""
   ]
  },
  {
   "cell_type": "code",
   "execution_count": 2,
   "metadata": {},
   "outputs": [],
   "source": [
    "import chart_studio.plotly as py\n",
    "\n",
    "py.sign_in(\"pierreboyeau\", \"2wvdnWZ2Qut1zD07ADVy\")"
   ]
  },
  {
   "cell_type": "markdown",
   "metadata": {},
   "source": [
    "# Import Dataset and Training scVI-based models"
   ]
  },
  {
   "cell_type": "code",
   "execution_count": 3,
   "metadata": {},
   "outputs": [],
   "source": [
    "DIR_PATH = \"lfc_estimates/null\"\n",
    "make_dir_if_necessary(DIR_PATH)"
   ]
  },
  {
   "cell_type": "markdown",
   "metadata": {},
   "source": [
    "## PBMC Dataset"
   ]
  },
  {
   "cell_type": "code",
   "execution_count": 4,
   "metadata": {
    "scrolled": true
   },
   "outputs": [
    {
     "name": "stderr",
     "output_type": "stream",
     "text": [
      "INFO:scvi.dataset.dataset:batch 0\n",
      "INFO:scvi.dataset.dataset:Local library mean : [[7.1966677]]\n",
      "INFO:scvi.dataset.dataset:Local library std: [[0.15904291]]\n",
      "INFO:scvi.dataset.dataset:batch 1\n",
      "INFO:scvi.dataset.dataset:Local library mean : [[7.1491838]]\n",
      "INFO:scvi.dataset.dataset:Local library std: [[0.15288582]]\n",
      "INFO:scvi.dataset.dataset:Remapping labels to [0,N]\n",
      "INFO:scvi.dataset.dataset:Remapping batch_indices to [0,N]\n"
     ]
    }
   ],
   "source": [
    "dataset_path = os.path.join(DIR_PATH, \"dataset.pickle\")\n",
    "if not os.path.exists(dataset_path):\n",
    "    all_dataset = PbmcDataset()\n",
    "    all_dataset.subsample_genes(2000)\n",
    "    save_pickle(all_dataset, filename=dataset_path)\n",
    "else:\n",
    "    all_dataset = load_pickle(filename=dataset_path)\n",
    "\n",
    "unique_elements, counts_elements = np.unique(\n",
    "    all_dataset.labels.squeeze(), return_counts=True\n",
    ")\n",
    "\n",
    "df = pd.DataFrame(dict(counts=counts_elements, cell_types=all_dataset.cell_types))\n",
    "px.scatter(df, y=\"counts\", x=\"cell_types\")\n",
    "\n",
    "mask = all_dataset.labels.squeeze() == 2\n",
    "# By default all cells are labelled 2\n",
    "fake_labels = 2.0 * np.ones(len(all_dataset))\n",
    "# Except cluster 2 that is either 0 or 1\n",
    "fake_labels[mask] = np.random.random(mask.sum()) >= 0.5\n",
    "\n",
    "dataset = GeneExpressionDataset()\n",
    "dataset.populate_from_data(\n",
    "    X=all_dataset.X,\n",
    "    labels=fake_labels,\n",
    "    batch_indices=all_dataset.batch_indices,\n",
    ")\n",
    "\n",
    "n_genes = dataset.nb_genes\n",
    "is_significant_de = np.zeros(n_genes, dtype=bool)"
   ]
  },
  {
   "cell_type": "code",
   "execution_count": 31,
   "metadata": {},
   "outputs": [
    {
     "data": {
      "text/plain": [
       "array(['B cells', 'CD14+ Monocytes', 'CD4 T cells', 'CD8 T cells',\n",
       "       'Dendritic Cells', 'FCGR3A+ Monocytes', 'Megakaryocytes',\n",
       "       'NK cells', 'Other'], dtype=object)"
      ]
     },
     "execution_count": 31,
     "metadata": {},
     "output_type": "execute_result"
    }
   ],
   "source": [
    "all_dataset.cell_types"
   ]
  },
  {
   "cell_type": "code",
   "execution_count": 5,
   "metadata": {},
   "outputs": [
    {
     "name": "stdout",
     "output_type": "stream",
     "text": [
      "[0 1 2]\n"
     ]
    }
   ],
   "source": [
    "print(np.unique(dataset.labels.squeeze()))"
   ]
  },
  {
   "cell_type": "markdown",
   "metadata": {},
   "source": [
    "## Save data"
   ]
  },
  {
   "cell_type": "code",
   "execution_count": 6,
   "metadata": {},
   "outputs": [],
   "source": [
    "n_examples = len(dataset)\n",
    "labels = dataset.labels.squeeze()\n",
    "interesting_indices = np.where((labels == 0) | (labels == 1))[0]\n",
    "TEST_INDICES = np.random.permutation(interesting_indices)[:1001]\n",
    "\n",
    "x_test, y_test = dataset.X[TEST_INDICES, :], dataset.labels[TEST_INDICES, :].squeeze()\n",
    "data_path = os.path.join(DIR_PATH, 'data.npy')\n",
    "labels_path = os.path.join(DIR_PATH, 'labels.npy')\n",
    "\n",
    "np.save(\n",
    "    data_path,\n",
    "    np.array(x_test.todense()).squeeze().astype(int)\n",
    ")\n",
    "np.savetxt(\n",
    "    labels_path,\n",
    "    y_test.squeeze()\n",
    ")"
   ]
  },
  {
   "cell_type": "markdown",
   "metadata": {},
   "source": [
    "## Train parameters"
   ]
  },
  {
   "cell_type": "code",
   "execution_count": 7,
   "metadata": {},
   "outputs": [],
   "source": [
    "mdl_params = dict(\n",
    "    iaf=dict(n_hidden=128, n_layers=1, do_h=True, n_latent=10, t=4),\n",
    "    mf=dict(n_hidden=128, n_layers=1, n_latent=10),\n",
    "    iaf_k5=dict(n_hidden=128, n_layers=1, do_h=True, n_latent=10, t=4),\n",
    "    mf_k5=dict(n_hidden=128, n_layers=1, n_latent=10),\n",
    ")\n",
    "train_params = dict(\n",
    "    iaf=dict(ratio_loss=True, test_indices=TEST_INDICES),\n",
    "    mf=dict(ratio_loss=True, test_indices=TEST_INDICES),\n",
    "    iaf_k5=dict(ratio_loss=True, test_indices=TEST_INDICES, k_importance_weighted=5),\n",
    "    mf_k5=dict(ratio_loss=True, test_indices=TEST_INDICES, k_importance_weighted=5)\n",
    ")\n",
    "train_fn_params = dict(\n",
    "    iaf=dict(n_epochs=N_EPOCHS, lr=1e-3),\n",
    "    mf=dict(n_epochs=N_EPOCHS, lr=1e-3),\n",
    "    iaf_k5=dict(n_epochs=N_EPOCHS, lr=1e-3),\n",
    "    mf_k5=dict(n_epochs=N_EPOCHS, lr=1e-3),\n",
    ")"
   ]
  },
  {
   "cell_type": "markdown",
   "metadata": {},
   "source": [
    "# Competitors"
   ]
  },
  {
   "cell_type": "code",
   "execution_count": 8,
   "metadata": {
    "scrolled": true
   },
   "outputs": [],
   "source": [
    "other_predictions = all_predictions(\n",
    "    filename=os.path.join(DIR_PATH, \"all_predictions.pickle\"),\n",
    "    n_genes=n_genes, \n",
    "    n_picks=N_PICKS, \n",
    "    sizes=SIZES, \n",
    "    data_path=data_path, \n",
    "    labels_path=labels_path,\n",
    "    path_to_scripts=PATH_TO_SCRIPTS\n",
    ")\n",
    "\n",
    "other_predictions = all_de_predictions(\n",
    "    other_predictions, significance_level=Q0, delta=DELTA\n",
    ")"
   ]
  },
  {
   "cell_type": "code",
   "execution_count": 9,
   "metadata": {},
   "outputs": [],
   "source": [
    "# # Modif DESeq2\n",
    "# from R_interop import NDESeq2\n",
    "# from tqdm import tqdm\n",
    "\n",
    "# lfcs_deseq2 = np.zeros((N_SIZES, N_PICKS, n_genes))\n",
    "# pvals_deseq2 = np.zeros((N_SIZES, N_PICKS, n_genes))\n",
    "# for (size_ix, size) in enumerate(tqdm(SIZES)):\n",
    "#     for exp in range(N_PICKS):\n",
    "#         deseq_inference = NDESeq2(\n",
    "#             A=size,\n",
    "#             B=size,\n",
    "#             data=data_path,\n",
    "#             labels=labels_path,\n",
    "#             cluster=(0, 1),\n",
    "#             path_to_scripts=PATH_TO_SCRIPTS,\n",
    "#             lfc_threshold=DELTA\n",
    "#         )\n",
    "#         res_df = deseq_inference.fit()\n",
    "#         lfcs_deseq2[size_ix, exp, :] = res_df[\"lfc\"].values\n",
    "#         pvals_deseq2[size_ix, exp, :] = res_df[\"padj\"].values\n",
    "# deseq_res = dict(lfc=lfcs_deseq2.squeeze(), pval=pvals_deseq2.squeeze())\n",
    "\n",
    "# # from scvi.utils import save_pickle\n",
    "\n",
    "# # print(deseq_res['pval'].shape)\n",
    "# # print(other_predictions['edger']['pval'].shape)\n",
    "\n",
    "# # other_predictions[\"deseq2\"] = deseq_res\n",
    "# # save_pickle(data=other_predictions, filename=os.path.join(DIR_PATH, \"all_predictions.pickle\"))"
   ]
  },
  {
   "cell_type": "code",
   "execution_count": 10,
   "metadata": {},
   "outputs": [],
   "source": [
    "# from scvi.utils import save_pickle\n",
    "\n",
    "# print(deseq_res['pval'].shape)\n",
    "# print(other_predictions['edger']['pval'].shape)\n",
    "\n",
    "# other_predictions[\"deseq2\"] = deseq_res\n",
    "# save_pickle(data=other_predictions, filename=os.path.join(DIR_PATH, \"all_predictions.pickle\"))"
   ]
  },
  {
   "cell_type": "markdown",
   "metadata": {},
   "source": [
    "# Experiments"
   ]
  },
  {
   "cell_type": "markdown",
   "metadata": {},
   "source": [
    "## LFC Error"
   ]
  },
  {
   "cell_type": "code",
   "execution_count": 11,
   "metadata": {},
   "outputs": [],
   "source": [
    "lfcs_scVI = estimate_lfc_mean(\n",
    "    filename=os.path.join(DIR_PATH, \"lfc_means_mf.pickle\"),\n",
    "    mdl_class=VAE,\n",
    "    dataset=dataset,\n",
    "    mdl_params=mdl_params[\"mf\"],\n",
    "    train_params=train_params[\"mf\"],\n",
    "    train_fn_params=train_fn_params[\"mf\"],\n",
    "    sizes=[SIZE],\n",
    "    n_picks=N_PICKS,\n",
    ")[SIZE]\n",
    "\n",
    "lfcs_scVI_ia = estimate_lfc_mean(\n",
    "    filename=os.path.join(DIR_PATH, \"lfc_means_iaf.pickle\"),\n",
    "    mdl_class=IAVAE,\n",
    "    dataset=dataset,\n",
    "    mdl_params=mdl_params[\"iaf\"],\n",
    "    train_params=train_params[\"iaf\"],\n",
    "    train_fn_params=train_fn_params[\"iaf\"],\n",
    "    sizes=[SIZE],\n",
    "    n_picks=N_PICKS,\n",
    ")[SIZE]"
   ]
  },
  {
   "cell_type": "code",
   "execution_count": 12,
   "metadata": {},
   "outputs": [
    {
     "name": "stdout",
     "output_type": "stream",
     "text": [
      "(10, 2000)\n"
     ]
    }
   ],
   "source": [
    "print(other_predictions[\"mast\"][\"lfc\"].shape)\n",
    "\n",
    "lfcs_deseq2 = other_predictions[\"deseq2\"][\"lfc\"]\n",
    "lfcs_edger = other_predictions[\"edger\"][\"lfc\"]\n",
    "lfcs_mast = other_predictions[\"mast\"][\"lfc\"]\n",
    "assert lfcs_mast.shape == (N_PICKS, n_genes), lfcs_mast.shape"
   ]
  },
  {
   "cell_type": "code",
   "execution_count": 13,
   "metadata": {},
   "outputs": [
    {
     "name": "stdout",
     "output_type": "stream",
     "text": [
      "(10, 2000)\n",
      "(10, 2000)\n",
      "(10, 2000)\n",
      "(10, 2000)\n",
      "(10, 2000)\n"
     ]
    }
   ],
   "source": [
    "print(lfcs_deseq2.shape)\n",
    "print(lfcs_edger.shape)\n",
    "print(lfcs_mast.shape)\n",
    "print(lfcs_scVI.shape)\n",
    "print(lfcs_scVI_ia.shape)"
   ]
  },
  {
   "cell_type": "code",
   "execution_count": 39,
   "metadata": {},
   "outputs": [],
   "source": [
    "lfcs_scVI[np.isinf(lfcs_scVI)] = 0.0\n",
    "lfcs_scVI_ia[np.isinf(lfcs_scVI_ia)] = 0.0\n",
    "lfcs_deseq2[np.isinf(lfcs_deseq2)] = 0.0\n",
    "lfcs_edger[np.isinf(lfcs_edger)] = 0.0\n",
    "lfcs_mast[np.isinf(lfcs_mast)] = 0.0"
   ]
  },
  {
   "cell_type": "code",
   "execution_count": 40,
   "metadata": {},
   "outputs": [
    {
     "data": {
      "text/html": [
       "\n",
       "        <iframe\n",
       "            width=\"100%\"\n",
       "            height=\"525px\"\n",
       "            src=\"https://plot.ly/~pierreboyeau/256.embed\"\n",
       "            frameborder=\"0\"\n",
       "            allowfullscreen\n",
       "        ></iframe>\n",
       "        "
      ],
      "text/plain": [
       "<IPython.lib.display.IFrame at 0x7eff754e80b8>"
      ]
     },
     "execution_count": 40,
     "metadata": {},
     "output_type": "execute_result"
    }
   ],
   "source": [
    "def l2_err(vals):\n",
    "    res = 0.5 * (vals ** 2) ** (0.5)\n",
    "    res = np.nanmean(res, axis=-1)\n",
    "    return res\n",
    "\n",
    "\n",
    "scVI_errs = l2_err(lfcs_scVI)\n",
    "scVI_ia_errs = l2_err(lfcs_scVI_ia)\n",
    "deseq2_errs = l2_err(lfcs_deseq2)\n",
    "edger_errs = l2_err(lfcs_edger)\n",
    "mast_errs = l2_err(lfcs_mast)\n",
    "\n",
    "trace1 = go.Box(y=scVI_errs, name=\"scVI\")\n",
    "trace2 = go.Box(y=scVI_ia_errs, name=\"scVI IAF\")\n",
    "trace3 = go.Box(y=deseq2_errs, name=\"DeSeq2\")\n",
    "trace4 = go.Box(y=edger_errs, name=\"edgeR\")\n",
    "trace5 = go.Box(y=mast_errs, name=\"MAST\")\n",
    "traces = [trace1, trace2, trace3, trace4, trace5]\n",
    "\n",
    "layout = go.Layout(title=\"L2 Error on Null Real Data\")\n",
    "\n",
    "\n",
    "fig = go.Figure(traces, layout=layout)\n",
    "# save_fig(fig, filename=\"pbmc_null_lfc_err\", do_cloud=DO_CLOUD)\n",
    "iplot(fig, filename=\"pbmc_null_lfc_err\")"
   ]
  },
  {
   "cell_type": "code",
   "execution_count": 43,
   "metadata": {},
   "outputs": [
    {
     "data": {
      "text/plain": [
       "12.202"
      ]
     },
     "execution_count": 43,
     "metadata": {},
     "output_type": "execute_result"
    }
   ],
   "source": [
    "round(12.202020202303, 3)"
   ]
  },
  {
   "cell_type": "code",
   "execution_count": 49,
   "metadata": {},
   "outputs": [
    {
     "name": "stdout",
     "output_type": "stream",
     "text": [
      "\\begin{tabular}{ll}\n",
      "\\toprule\n",
      "{} &           L2 Error \\\\\n",
      "\\midrule\n",
      "scVI   &  $0.020 \\pm 0.005$ \\\\\n",
      "scVI   &  $0.019 \\pm 0.010$ \\\\\n",
      "DeSeq2 &  $0.078 \\pm 0.007$ \\\\\n",
      "edgeR  &  $0.112 \\pm 0.003$ \\\\\n",
      "MAST   &  $0.022 \\pm 0.002$ \\\\\n",
      "\\bottomrule\n",
      "\\end{tabular}\n",
      "\n"
     ]
    }
   ],
   "source": [
    "def formater(mean, std):\n",
    "    return \"${0:.3f} \\pm {1:.3f}$\".format(mean, std)\n",
    "\n",
    "vals = [\n",
    "    formater(scVI_errs.mean(), scVI_errs.std()),\n",
    "    formater(scVI_ia_errs.mean(), scVI_ia_errs.std()),\n",
    "    formater(deseq2_errs.mean(), deseq2_errs.std()),\n",
    "    formater(edger_errs.mean(), edger_errs.std()),\n",
    "    formater(mast_errs.mean(), mast_errs.std()),\n",
    "]\n",
    "\n",
    "index = [\n",
    "    \"scVI\",\n",
    "    \"scVI\",\n",
    "    \"DeSeq2\",\n",
    "    \"edgeR\",\n",
    "    \"MAST\",\n",
    "]\n",
    "\n",
    "latex_df = pd.DataFrame({\"L2 Error\": vals}, index=index)\n",
    "print(latex_df.to_latex(escape=False))"
   ]
  },
  {
   "cell_type": "code",
   "execution_count": 35,
   "metadata": {},
   "outputs": [
    {
     "data": {
      "text/html": [
       "\n",
       "        <iframe\n",
       "            width=\"100%\"\n",
       "            height=\"525px\"\n",
       "            src=\"https://plot.ly/~pierreboyeau/124.embed\"\n",
       "            frameborder=\"0\"\n",
       "            allowfullscreen\n",
       "        ></iframe>\n",
       "        "
      ],
      "text/plain": [
       "<IPython.lib.display.IFrame at 0x7eff7806d470>"
      ]
     },
     "execution_count": 35,
     "metadata": {},
     "output_type": "execute_result"
    }
   ],
   "source": [
    "from scipy.stats import mannwhitneyu, ttest_1samp\n",
    "import plotly.figure_factory as ff\n",
    "\n",
    "\n",
    "def a_better_b_sign(a, b):\n",
    "    _, p = mannwhitneyu(a, b, alternative=\"less\")\n",
    "    return p\n",
    "\n",
    "\n",
    "vals = [scVI_errs, scVI_ia_errs, deseq2_errs, edger_errs, mast_errs]\n",
    "\n",
    "x = [\"scVI\", \"scVI IAF\", \"DeSeq2\", \"edgeR\", \"MAST\"]\n",
    "\n",
    "mat = [[a_better_b_sign(b, a) for a in vals] for b in vals]\n",
    "\n",
    "fig = ff.create_annotated_heatmap(z=mat, x=x, y=x)\n",
    "fig = fig.update_layout(\n",
    "    title_text=\"P values for error test on null data (pval that line a better than col b)\"\n",
    ")\n",
    "\n",
    "# save_fig(fig, filename=\"pbmc_null_lfc_err\", do_cloud=DO_CLOUD)\n",
    "iplot(fig, filename=\"pbmc_null_lfc_err_sign\")"
   ]
  },
  {
   "cell_type": "markdown",
   "metadata": {},
   "source": [
    "## Significant DE genes"
   ]
  },
  {
   "cell_type": "code",
   "execution_count": 16,
   "metadata": {},
   "outputs": [
    {
     "data": {
      "text/plain": [
       "['de_probas_mf.pickle.npy',\n",
       " 'data.npy',\n",
       " 'labels.npy',\n",
       " 'all_predictions.pickle',\n",
       " 'de_probas_iaf.pickle.npy',\n",
       " 'lfc_means_iaf.pickle',\n",
       " 'dataset.pickle',\n",
       " 'lfc_means_mf.pickle']"
      ]
     },
     "execution_count": 16,
     "metadata": {},
     "output_type": "execute_result"
    }
   ],
   "source": [
    "os.listdir(DIR_PATH)"
   ]
  },
  {
   "cell_type": "code",
   "execution_count": 17,
   "metadata": {},
   "outputs": [],
   "source": [
    "de_probas_mf = estimate_de_proba(\n",
    "    filename=os.path.join(DIR_PATH, \"de_probas_mf.pickle.npy\"),\n",
    "    mdl_class=VAE,\n",
    "    dataset=dataset,\n",
    "    mdl_params=mdl_params[\"mf\"],\n",
    "    train_params=train_params[\"mf\"],\n",
    "    train_fn_params=train_fn_params[\"mf\"],\n",
    "    sizes=[SIZE],\n",
    "    n_trainings=N_TRAININGS,\n",
    "    n_picks=N_PICKS,\n",
    ").squeeze()\n",
    "\n",
    "de_probas_ia = estimate_de_proba(\n",
    "    filename=os.path.join(DIR_PATH, \"de_probas_iaf.pickle.npy\"),\n",
    "    mdl_class=IAVAE,\n",
    "    dataset=dataset,\n",
    "    mdl_params=mdl_params[\"iaf\"],\n",
    "    train_params=train_params[\"iaf\"],\n",
    "    train_fn_params=train_fn_params[\"iaf\"],\n",
    "    sizes=[SIZE],\n",
    "    n_trainings=N_TRAININGS,\n",
    "    n_picks=N_PICKS,\n",
    ").squeeze()"
   ]
  },
  {
   "cell_type": "code",
   "execution_count": 26,
   "metadata": {},
   "outputs": [],
   "source": [
    "def compute_nb_predicted(probas_arr):\n",
    "#     nb_predicted = np.zeros((N_TRAININGS, N_PICKS))\n",
    "#     for i in range(N_TRAININGS):\n",
    "#         for k in range(N_PICKS):\n",
    "#             probs_pred_de = probas_arr[i, k, :]\n",
    "#             is_pred_de = predict_de_genes(probs_pred_de, desired_fdr=Q0)\n",
    "#             nb_predicted[i, j, k] = is_pred_de.sum()\n",
    "    \n",
    "    nb_predicted = np.zeros((N_PICKS))\n",
    "    for k in range(N_PICKS):\n",
    "        probs_pred_de = probas_arr[k, :]\n",
    "        is_pred_de = predict_de_genes(probs_pred_de, desired_fdr=Q0)\n",
    "        nb_predicted[k] = is_pred_de.sum()\n",
    "    return n_genes - nb_predicted\n",
    "\n",
    "def naive_is_de(probas_arr):\n",
    "    probas_arr[np.isnan(probas_arr)] = 0.0\n",
    "    return (probas_arr <= Q0).sum(-1)"
   ]
  },
  {
   "cell_type": "code",
   "execution_count": 21,
   "metadata": {},
   "outputs": [
    {
     "data": {
      "text/plain": [
       "(5, 10, 2000)"
      ]
     },
     "execution_count": 21,
     "metadata": {},
     "output_type": "execute_result"
    }
   ],
   "source": [
    "de_probas_mf.shape"
   ]
  },
  {
   "cell_type": "code",
   "execution_count": 22,
   "metadata": {},
   "outputs": [
    {
     "data": {
      "text/plain": [
       "(10, 2000)"
      ]
     },
     "execution_count": 22,
     "metadata": {},
     "output_type": "execute_result"
    }
   ],
   "source": [
    "other_predictions['deseq2']['pval'].shape"
   ]
  },
  {
   "cell_type": "code",
   "execution_count": 27,
   "metadata": {},
   "outputs": [],
   "source": [
    "nb_predicted_scVI = compute_nb_predicted(de_probas_mf[0])\n",
    "nb_predicted_scVI_ia = compute_nb_predicted(de_probas_ia[0])\n",
    "\n",
    "nb_predicted_deseq2 = naive_is_de(other_predictions['deseq2']['pval'])\n",
    "nb_predicted_edger = naive_is_de(other_predictions['edger']['pval'])\n",
    "nb_predicted_mast = naive_is_de(other_predictions['mast']['pval'])"
   ]
  },
  {
   "cell_type": "code",
   "execution_count": 28,
   "metadata": {},
   "outputs": [
    {
     "data": {
      "text/plain": [
       "array([1., 1., 1., 1., 1., 1., 1., 1., 1., 1.])"
      ]
     },
     "execution_count": 28,
     "metadata": {},
     "output_type": "execute_result"
    }
   ],
   "source": [
    "nb_predicted_scVI"
   ]
  },
  {
   "cell_type": "code",
   "execution_count": 25,
   "metadata": {},
   "outputs": [
    {
     "data": {
      "text/plain": [
       "array([0, 0, 0, 0, 0, 0, 0, 0, 0, 0])"
      ]
     },
     "execution_count": 25,
     "metadata": {},
     "output_type": "execute_result"
    }
   ],
   "source": [
    "nb_predicted_deseq2"
   ]
  },
  {
   "cell_type": "code",
   "execution_count": null,
   "metadata": {},
   "outputs": [],
   "source": [
    "bounds_scVI = [nb_predicted_scVI.min(), nb_predicted_scVI.max()]\n",
    "bounds_scVI_ia = [nb_predicted_scVI_ia.min(), nb_predicted_scVI_ia.max()]\n",
    "bounds_deseq2 = [nb_predicted_deseq2.min(), nb_predicted_deseq2.max()]\n",
    "bounds_edger = [nb_predicted_edger.min(), nb_predicted_edger.max()]\n",
    "bounds_mast = [nb_predicted_mast.min(), nb_predicted_mast.max()]"
   ]
  },
  {
   "cell_type": "code",
   "execution_count": 29,
   "metadata": {},
   "outputs": [
    {
     "data": {
      "text/html": [
       "<div>\n",
       "<style scoped>\n",
       "    .dataframe tbody tr th:only-of-type {\n",
       "        vertical-align: middle;\n",
       "    }\n",
       "\n",
       "    .dataframe tbody tr th {\n",
       "        vertical-align: top;\n",
       "    }\n",
       "\n",
       "    .dataframe thead th {\n",
       "        text-align: right;\n",
       "    }\n",
       "</style>\n",
       "<table border=\"1\" class=\"dataframe\">\n",
       "  <thead>\n",
       "    <tr style=\"text-align: right;\">\n",
       "      <th></th>\n",
       "      <th>MF</th>\n",
       "      <th>IAF</th>\n",
       "      <th>DESeq2</th>\n",
       "      <th>EdgeR</th>\n",
       "      <th>MAST</th>\n",
       "    </tr>\n",
       "  </thead>\n",
       "  <tbody>\n",
       "    <tr>\n",
       "      <th>mean_predicted</th>\n",
       "      <td>1.0</td>\n",
       "      <td>1.0</td>\n",
       "      <td>0.0</td>\n",
       "      <td>0.2</td>\n",
       "      <td>65.5</td>\n",
       "    </tr>\n",
       "  </tbody>\n",
       "</table>\n",
       "</div>"
      ],
      "text/plain": [
       "                 MF  IAF  DESeq2  EdgeR  MAST\n",
       "mean_predicted  1.0  1.0     0.0    0.2  65.5"
      ]
     },
     "execution_count": 29,
     "metadata": {},
     "output_type": "execute_result"
    }
   ],
   "source": [
    "pd.DataFrame(\n",
    "    dict(\n",
    "        mean_predicted=[\n",
    "            nb_predicted_scVI.mean(), \n",
    "            nb_predicted_scVI_ia.mean(), \n",
    "            nb_predicted_deseq2.mean(), \n",
    "            nb_predicted_edger.mean(), \n",
    "            nb_predicted_mast.mean()\n",
    "        ],\n",
    "    ),\n",
    "    index=['MF', 'IAF', 'DESeq2', 'EdgeR', 'MAST']\n",
    ").T"
   ]
  },
  {
   "cell_type": "markdown",
   "metadata": {},
   "source": [
    "# Old"
   ]
  },
  {
   "cell_type": "code",
   "execution_count": null,
   "metadata": {},
   "outputs": [],
   "source": [
    "# scVI_robustness = get_robustness(lfcs_scVI)\n",
    "# scVI_ia_robustness = get_robustness(lfcs_scVI_ia)\n",
    "# deseq2_robustness = get_robustness(lfcs_deseq2)\n",
    "# edge_r_robustness = get_robustness(lfcs_edge_r)\n",
    "# mast_robustness = get_robustness(lfcs_mast)\n",
    "\n",
    "# trace1 = go.Box(y=scVI_robustness, name=\"scVI\")\n",
    "# trace2 = go.Box(y=scVI_ia_robustness, name=\"scVI IAF\")\n",
    "# trace3 = go.Box(y=deseq2_robustness, name=\"DeSeq2\")\n",
    "# trace4 = go.Box(y=edge_r_robustness, name=\"edgeR\")\n",
    "# trace5 = go.Box(y=mast_robustness, name=\"MAST\")\n",
    "# traces = [trace1, trace2, trace3, trace4, trace5]\n",
    "\n",
    "# layout = go.Layout(title=\"Robustness on Null Real Data\")\n",
    "\n",
    "# fig = go.Figure(traces, layout=layout)\n",
    "# # fig.show()\n",
    "# iplot(fig, filename='robustness_null_ercc_dataset')"
   ]
  },
  {
   "cell_type": "code",
   "execution_count": null,
   "metadata": {},
   "outputs": [],
   "source": [
    "# from scipy.stats import mannwhitneyu, ttest_1samp\n",
    "# import plotly.figure_factory as ff\n",
    "\n",
    "\n",
    "# def a_better_b_sign(a, b):\n",
    "#     _, p = mannwhitneyu(a, b, alternative=\"less\")\n",
    "#     return p\n",
    "\n",
    "\n",
    "# vals = [\n",
    "#     scVI_robustness,\n",
    "#     scVI_ia_robustness,\n",
    "#     deseq2_robustness,\n",
    "#     edge_r_robustness,\n",
    "#     mast_robustness,\n",
    "# ]\n",
    "\n",
    "# x = [\"scVI\", \"scVI IAF\", \"DeSeq2\", \"edgeR\", \"MAST\"]\n",
    "\n",
    "# mat = [[a_better_b_sign(b, a) for a in vals] for b in vals]\n",
    "\n",
    "# fig = ff.create_annotated_heatmap(z=mat, x=x, y=x)\n",
    "# fig.update_layout(\n",
    "#     title_text=\"P values for robustness test on null data (pval that line a better than col b)\"\n",
    "# )\n",
    "\n",
    "# iplot(fig, filename='significance_robustness_null_ercc_dataset')"
   ]
  },
  {
   "cell_type": "code",
   "execution_count": null,
   "metadata": {},
   "outputs": [],
   "source": []
  }
 ],
 "metadata": {
  "kernelspec": {
   "display_name": "Python 3",
   "language": "python",
   "name": "python3"
  },
  "language_info": {
   "codemirror_mode": {
    "name": "ipython",
    "version": 3
   },
   "file_extension": ".py",
   "mimetype": "text/x-python",
   "name": "python",
   "nbconvert_exporter": "python",
   "pygments_lexer": "ipython3",
   "version": "3.7.3"
  },
  "toc": {
   "base_numbering": 1,
   "nav_menu": {},
   "number_sections": true,
   "sideBar": true,
   "skip_h1_title": false,
   "title_cell": "Table of Contents",
   "title_sidebar": "Contents",
   "toc_cell": false,
   "toc_position": {
    "height": "calc(100% - 180px)",
    "left": "10px",
    "top": "150px",
    "width": "233px"
   },
   "toc_section_display": true,
   "toc_window_display": true
  }
 },
 "nbformat": 4,
 "nbformat_minor": 2
}
