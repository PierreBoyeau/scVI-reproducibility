{
 "cells": [
  {
   "cell_type": "markdown",
   "metadata": {},
   "source": [
    "# loading modules"
   ]
  },
  {
   "cell_type": "code",
   "execution_count": 1,
   "metadata": {},
   "outputs": [],
   "source": [
    "%load_ext autoreload\n",
    "%autoreload 2\n",
    "\n",
    "import tensorflow as tf\n",
    "import matplotlib.pyplot as plt\n",
    "import numpy as np\n",
    "%matplotlib inline\n",
    "\n",
    "from model import scVI_final as scVI\n",
    "from benchmarking import *\n",
    "from helper import *"
   ]
  },
  {
   "cell_type": "markdown",
   "metadata": {},
   "source": [
    "# parameters"
   ]
  },
  {
   "cell_type": "code",
   "execution_count": 2,
   "metadata": {},
   "outputs": [],
   "source": [
    "learning_rate = 0.0004\n",
    "epsilon = 0.01"
   ]
  },
  {
   "cell_type": "markdown",
   "metadata": {},
   "source": [
    "# import data"
   ]
  },
  {
   "cell_type": "code",
   "execution_count": 3,
   "metadata": {},
   "outputs": [],
   "source": [
    "# expression data\n",
    "data_path = \"/home/ubuntu/single-cell-scVI/data/Zeisel/\"\n",
    "expression_train = np.loadtxt(data_path + \"data_train\")\n",
    "expression_test = np.loadtxt(data_path + \"data_test\")\n",
    "\n",
    "# zero masked matrix\n",
    "X_zero, i, j, ix = \\\n",
    "        np.load(data_path + \"imputation/X_zero.npy\"), np.load(data_path + \"imputation/i.npy\"),\\\n",
    "        np.load(data_path + \"imputation/j.npy\"), np.load(data_path + \"imputation/ix.npy\")\n",
    "#labels\n",
    "c_train = np.loadtxt(data_path + \"label_train\")\n",
    "c_test = np.loadtxt(data_path + \"label_test\")"
   ]
  },
  {
   "cell_type": "markdown",
   "metadata": {},
   "source": [
    "# Computational graph"
   ]
  },
  {
   "cell_type": "code",
   "execution_count": 5,
   "metadata": {},
   "outputs": [],
   "source": [
    "# getting priors\n",
    "log_library_size = np.log(np.sum(expression_train, axis=1))\n",
    "mean, var = np.mean(log_library_size), np.var(log_library_size)"
   ]
  },
  {
   "cell_type": "code",
   "execution_count": null,
   "metadata": {
    "scrolled": true
   },
   "outputs": [
    {
     "name": "stdout",
     "output_type": "stream",
     "text": [
      "Running scVI on 558 genes\n",
      "scVI will run without batch correction\n",
      "Will work on mode numeric for incorporating library size\n",
      "Will work on mode gene for modeling inverse dispersion param\n",
      "Will apply zero inflation\n",
      "1 hidden layers at 128 each for a final 2 latent space\n",
      "Running scVI on 558 genes\n",
      "scVI will run without batch correction\n",
      "Will work on mode numeric for incorporating library size\n",
      "Will work on mode gene for modeling inverse dispersion param\n",
      "Will apply zero inflation\n",
      "1 hidden layers at 128 each for a final 2 latent space\n",
      "Running scVI on 558 genes\n",
      "scVI will run without batch correction\n",
      "Will work on mode numeric for incorporating library size\n",
      "Will work on mode gene for modeling inverse dispersion param\n",
      "Will apply zero inflation\n",
      "1 hidden layers at 128 each for a final 2 latent space\n",
      "Running scVI on 558 genes\n",
      "scVI will run without batch correction\n",
      "Will work on mode numeric for incorporating library size\n",
      "Will work on mode gene for modeling inverse dispersion param\n",
      "Will apply zero inflation\n",
      "1 hidden layers at 128 each for a final 2 latent space\n"
     ]
    }
   ],
   "source": [
    "res = np.zeros((5, 6, 3))\n",
    "latent_d = [2, 5, 7, 10, 15, 20]\n",
    "for j, d in enumerate(latent_d):\n",
    "    for t in range(5):\n",
    "        tf.reset_default_graph()\n",
    "        expression = tf.placeholder(tf.float32, (None, expression_train.shape[1]), name='x')\n",
    "        kl_scalar = tf.placeholder(tf.float32, (), name='kl_scalar')\n",
    "        optimizer = tf.train.AdamOptimizer(learning_rate=learning_rate, epsilon=epsilon)\n",
    "        training_phase = tf.placeholder(tf.bool, (), name='training_phase')\n",
    "        model = scVI.scVIModel(expression=expression, kl_scale=kl_scalar, \\\n",
    "                                 optimize_algo=optimizer, phase=training_phase, \\\n",
    "                                  library_size_mean=mean, library_size_var=var, n_latent=d)\n",
    "\n",
    "        # Session creation\n",
    "        sess = tf.Session()\n",
    "        sess.run(tf.global_variables_initializer())\n",
    "\n",
    "        result = train_model(model, (expression_train, expression_test), sess, 250)\n",
    "\n",
    "        dic_full = {expression: expression_train, training_phase:False}\n",
    "        latent = sess.run(model.z, feed_dict=dic_full)\n",
    "        res[t, j] = cluster_scores(latent, 7, c_train)"
   ]
  },
  {
   "cell_type": "code",
   "execution_count": 14,
   "metadata": {},
   "outputs": [
    {
     "data": {
      "image/png": "[encoded data removed]",
      "text/plain": [
       "<matplotlib.figure.Figure at 0x7f9d506d5cd0>"
      ]
     },
     "metadata": {},
     "output_type": "display_data"
    }
   ],
   "source": [
    "import numpy as np\n",
    "import matplotlib.pyplot as plt\n",
    "\n",
    "N = 8\n",
    "\n",
    "ind = np.arange(N)  # the x locations for the groups\n",
    "width = 0.35       # the width of the bars\n",
    "\n",
    "label = [\"ASW\", \"ARI\", \"NMI\"]\n",
    "\n",
    "fig, ax = plt.subplots()\n",
    "for i in [0, 1, 2]:\n",
    "    ax.errorbar(latent_d, np.mean(res[:, :, i], axis=0), yerr=np.std(res[:, :, i], axis=0), label=label[i])\n",
    "\n",
    "# add some text for labels, title and axes ticks\n",
    "ax.set_ylabel('Clustering metrics')\n",
    "ax.set_xticks(latent_d)\n",
    "ax.set_xlabel(\"Dimension of latent variables\")\n",
    "plt.legend()\n",
    "\n",
    "#plt.savefig(\"zeiler_clustering_dimension_stability.pdf\", dpi=300)\n",
    "\n",
    "plt.show()"
   ]
  },
  {
   "cell_type": "code",
   "execution_count": 8,
   "metadata": {},
   "outputs": [
    {
     "data": {
      "image/png": "[encoded data removed]",
      "text/plain": [
       "<matplotlib.figure.Figure at 0x7f95bd6914d0>"
      ]
     },
     "metadata": {},
     "output_type": "display_data"
    }
   ],
   "source": [
    "import numpy as np\n",
    "import matplotlib.pyplot as plt\n",
    "\n",
    "N = 8\n",
    "\n",
    "ind = np.arange(N)  # the x locations for the groups\n",
    "width = 0.35       # the width of the bars\n",
    "\n",
    "label = [\"ASW\", \"ARI\", \"NMI\"]\n",
    "\n",
    "fig, ax = plt.subplots()\n",
    "for i in [0, 1, 2]:\n",
    "    ax.errorbar(latent_d, np.mean(res[:, :, i], axis=0), yerr=np.std(res[:, :, i], axis=0), label=label[i])\n",
    "\n",
    "# add some text for labels, title and axes ticks\n",
    "ax.set_ylabel('Clustering metrics')\n",
    "ax.set_xticks(latent_d)\n",
    "ax.set_xlabel(\"Dimension of latent variables\")\n",
    "plt.legend()\n",
    "\n",
    "plt.savefig(\"zeiler_clustering_dimension_stability.pdf\", dpi=300)\n",
    "\n",
    "plt.show()"
   ]
  },
  {
   "cell_type": "code",
   "execution_count": null,
   "metadata": {},
   "outputs": [],
   "source": []
  }
 ],
 "metadata": {
  "kernelspec": {
   "display_name": "Python 2",
   "language": "python",
   "name": "python2"
  },
  "language_info": {
   "codemirror_mode": {
    "name": "ipython",
    "version": 2
   },
   "file_extension": ".py",
   "mimetype": "text/x-python",
   "name": "python",
   "nbconvert_exporter": "python",
   "pygments_lexer": "ipython2",
   "version": "2.7.12"
  }
 },
 "nbformat": 4,
 "nbformat_minor": 2
}
