{
 "cells": [
  {
   "cell_type": "code",
   "execution_count": 1,
   "metadata": {
    "collapsed": true
   },
   "outputs": [],
   "source": [
    "%load_ext autoreload\n",
    "%autoreload 2\n",
    "import pandas as pd\n",
    "import numpy as np\n",
    "import h5py\n",
    "import matplotlib.pyplot as plt\n",
    "from sklearn.model_selection import train_test_split\n",
    "\n",
    "from benchmarking import *\n",
    "% matplotlib inline"
   ]
  },
  {
   "cell_type": "code",
   "execution_count": 2,
   "metadata": {
    "collapsed": true
   },
   "outputs": [],
   "source": [
    "data_path = \"data/10x1M/\""
   ]
  },
  {
   "cell_type": "markdown",
   "metadata": {},
   "source": [
    "data has already:\n",
    "- randomly shuffled\n",
    "- filtered 880 top variance genes\n",
    "- subsampled to \n",
    "    - 1M train\n",
    "    - 10k test"
   ]
  },
  {
   "cell_type": "markdown",
   "metadata": {},
   "source": [
    "# import and format"
   ]
  },
  {
   "cell_type": "code",
   "execution_count": 13,
   "metadata": {},
   "outputs": [],
   "source": [
    "f = h5py.File(data_path + \"data.hdf5\", \"r\")\n",
    "X_train = f[\"data_train\"] \n",
    "X_test = f[\"data_test\"]\n",
    "f_log = h5py.File(data_path + \"data_log.hdf5\", \"r\")\n",
    "X_train_log = f_log[\"log_data_train\"]\n",
    "X_test_log = f_log[\"log_data_test\"]\n",
    "b_train = f[\"batch_train\"][:]\n",
    "b_test = f[\"batch_test\"][:]"
   ]
  },
  {
   "cell_type": "markdown",
   "metadata": {},
   "source": [
    "#### Create something for BISCUIT and MAGIC"
   ]
  },
  {
   "cell_type": "code",
   "execution_count": 5,
   "metadata": {
    "collapsed": true
   },
   "outputs": [],
   "source": [
    "#np.savetxt(\"expression_mRNA_1m.txt\", X_train[:100000], header=\"\", delimiter=\"\\t\")\n",
    "#np.save(\"expression_mRNA_1m\", X_train[:100000])"
   ]
  },
  {
   "cell_type": "markdown",
   "metadata": {
    "collapsed": true
   },
   "source": [
    "# Benchmarking"
   ]
  },
  {
   "cell_type": "code",
   "execution_count": 6,
   "metadata": {
    "collapsed": true
   },
   "outputs": [],
   "source": [
    "from sklearn.decomposition import PCA\n",
    "from sklearn.decomposition import FactorAnalysis\n",
    "from ZIFA import ZIFA\n",
    "from ZINB import ZINB\n",
    "from SIMLR import SIMLR"
   ]
  },
  {
   "cell_type": "code",
   "execution_count": 8,
   "metadata": {
    "collapsed": true
   },
   "outputs": [],
   "source": [
    "n_latent = 10\n",
    "#n_cells_list = [4000, 10000, 15000, 30000, 50000, 100000]\n",
    "n_cells_list = [10000]"
   ]
  },
  {
   "cell_type": "code",
   "execution_count": 14,
   "metadata": {},
   "outputs": [
    {
     "name": "stdout",
     "output_type": "stream",
     "text": [
      "10000  cells\n",
      "Running FA\n",
      "CPU times: user 7.58 s, sys: 13.5 s, total: 21.1 s\n",
      "Wall time: 2.83 s\n",
      "0.660695669479\n",
      "FA:  -1320.67298705\n",
      "Running SIMLR\n",
      "Performing fast PCA.\n",
      "Performing k-nearest neighbour search.\n",
      "Computing the multiple Kernels.\n",
      "Performing the iterative procedure  5  times.\n",
      "Iteration:  1 \n",
      "Iteration:  2 \n",
      "Iteration:  3 \n",
      "Iteration:  4 \n",
      "Iteration:  5 \n",
      "Performing Kmeans.\n",
      "Performing t-SNE.\n",
      "The main loop will be now performed with a maximum of 300 iterations.\n",
      "Performing iteration 1.\n",
      "Performing iteration 2.\n",
      "Performing iteration 3.\n",
      "Performing iteration 4.\n",
      "Performing iteration 5.\n",
      "Performing iteration 6.\n",
      "Performing iteration 7.\n",
      "Performing iteration 8.\n",
      "Performing iteration 9.\n",
      "Performing iteration 10.\n",
      "Performing iteration 11.\n",
      "Performing iteration 12.\n",
      "Performing iteration 13.\n",
      "Performing iteration 14.\n",
      "Performing iteration 15.\n",
      "Performing iteration 16.\n",
      "Performing iteration 17.\n",
      "Performing iteration 18.\n",
      "Performing iteration 19.\n",
      "Performing iteration 20.\n",
      "Performing iteration 21.\n",
      "Performing iteration 22.\n",
      "Performing iteration 23.\n",
      "Performing iteration 24.\n",
      "Performing iteration 25.\n",
      "Performing iteration 26.\n",
      "Performing iteration 27.\n",
      "Performing iteration 28.\n",
      "Performing iteration 29.\n",
      "Performing iteration 30.\n",
      "Performing iteration 31.\n",
      "Performing iteration 32.\n",
      "Performing iteration 33.\n",
      "Performing iteration 34.\n",
      "Performing iteration 35.\n",
      "Performing iteration 36.\n",
      "Performing iteration 37.\n",
      "Performing iteration 38.\n",
      "Performing iteration 39.\n",
      "Performing iteration 40.\n",
      "Performing iteration 41.\n",
      "Performing iteration 42.\n",
      "Performing iteration 43.\n",
      "Performing iteration 44.\n",
      "Performing iteration 45.\n",
      "Performing iteration 46.\n",
      "Performing iteration 47.\n",
      "Performing iteration 48.\n",
      "Performing iteration 49.\n",
      "Performing iteration 50.\n",
      "Performing iteration 51.\n",
      "Performing iteration 52.\n",
      "Performing iteration 53.\n",
      "Performing iteration 54.\n",
      "Performing iteration 55.\n",
      "Performing iteration 56.\n",
      "Performing iteration 57.\n",
      "Performing iteration 58.\n",
      "Performing iteration 59.\n",
      "Performing iteration 60.\n",
      "Performing iteration 61.\n",
      "Performing iteration 62.\n",
      "Performing iteration 63.\n",
      "Performing iteration 64.\n",
      "Performing iteration 65.\n",
      "Performing iteration 66.\n",
      "Performing iteration 67.\n",
      "Performing iteration 68.\n",
      "Performing iteration 69.\n",
      "Performing iteration 70.\n",
      "Performing iteration 71.\n",
      "Performing iteration 72.\n",
      "Performing iteration 73.\n",
      "Performing iteration 74.\n",
      "Performing iteration 75.\n",
      "Performing iteration 76.\n",
      "Performing iteration 77.\n",
      "Performing iteration 78.\n",
      "Performing iteration 79.\n",
      "Performing iteration 80.\n",
      "Performing iteration 81.\n",
      "Performing iteration 82.\n",
      "Performing iteration 83.\n",
      "Performing iteration 84.\n",
      "Performing iteration 85.\n",
      "Performing iteration 86.\n",
      "Performing iteration 87.\n",
      "Performing iteration 88.\n",
      "Performing iteration 89.\n",
      "Performing iteration 90.\n",
      "Performing iteration 91.\n",
      "Performing iteration 92.\n",
      "Performing iteration 93.\n",
      "Performing iteration 94.\n",
      "Performing iteration 95.\n",
      "Performing iteration 96.\n",
      "Performing iteration 97.\n",
      "Performing iteration 98.\n",
      "Performing iteration 99.\n",
      "Performing iteration 100.\n",
      "Performing iteration 101.\n",
      "Performing iteration 102.\n",
      "Performing iteration 103.\n",
      "Performing iteration 104.\n",
      "Performing iteration 105.\n",
      "Performing iteration 106.\n",
      "Performing iteration 107.\n",
      "Performing iteration 108.\n",
      "Performing iteration 109.\n",
      "Performing iteration 110.\n",
      "Performing iteration 111.\n",
      "Performing iteration 112.\n",
      "Performing iteration 113.\n",
      "Performing iteration 114.\n",
      "Performing iteration 115.\n",
      "Performing iteration 116.\n",
      "Performing iteration 117.\n",
      "Performing iteration 118.\n",
      "Performing iteration 119.\n",
      "Performing iteration 120.\n",
      "Performing iteration 121.\n",
      "Performing iteration 122.\n",
      "Performing iteration 123.\n",
      "Performing iteration 124.\n",
      "Performing iteration 125.\n",
      "Performing iteration 126.\n",
      "Performing iteration 127.\n",
      "Performing iteration 128.\n",
      "Performing iteration 129.\n",
      "Performing iteration 130.\n",
      "Performing iteration 131.\n",
      "Performing iteration 132.\n",
      "Performing iteration 133.\n",
      "Performing iteration 134.\n",
      "Performing iteration 135.\n",
      "Performing iteration 136.\n",
      "Performing iteration 137.\n",
      "Performing iteration 138.\n",
      "Performing iteration 139.\n",
      "Performing iteration 140.\n",
      "Performing iteration 141.\n",
      "Performing iteration 142.\n",
      "Performing iteration 143.\n",
      "Performing iteration 144.\n",
      "Performing iteration 145.\n",
      "Performing iteration 146.\n",
      "Performing iteration 147.\n",
      "Performing iteration 148.\n",
      "Performing iteration 149.\n",
      "Performing iteration 150.\n",
      "Performing iteration 151.\n",
      "Performing iteration 152.\n",
      "Performing iteration 153.\n",
      "Performing iteration 154.\n",
      "Performing iteration 155.\n",
      "Performing iteration 156.\n",
      "Performing iteration 157.\n",
      "Performing iteration 158.\n",
      "Performing iteration 159.\n",
      "Performing iteration 160.\n",
      "Performing iteration 161.\n",
      "Performing iteration 162.\n",
      "Performing iteration 163.\n",
      "Performing iteration 164.\n",
      "Performing iteration 165.\n",
      "Performing iteration 166.\n",
      "Performing iteration 167.\n",
      "Performing iteration 168.\n",
      "Performing iteration 169.\n",
      "Performing iteration 170.\n",
      "Performing iteration 171.\n",
      "Performing iteration 172.\n",
      "Performing iteration 173.\n",
      "Performing iteration 174.\n",
      "Performing iteration 175.\n",
      "Performing iteration 176.\n",
      "Performing iteration 177.\n",
      "Performing iteration 178.\n",
      "Performing iteration 179.\n",
      "Performing iteration 180.\n",
      "Performing iteration 181.\n",
      "Performing iteration 182.\n",
      "Performing iteration 183.\n",
      "Performing iteration 184.\n",
      "Performing iteration 185.\n",
      "Performing iteration 186.\n",
      "Performing iteration 187.\n",
      "Performing iteration 188.\n",
      "Performing iteration 189.\n",
      "Performing iteration 190.\n",
      "Performing iteration 191.\n",
      "Performing iteration 192.\n",
      "Performing iteration 193.\n",
      "Performing iteration 194.\n",
      "Performing iteration 195.\n",
      "Performing iteration 196.\n",
      "Performing iteration 197.\n",
      "Performing iteration 198.\n",
      "Performing iteration 199.\n",
      "Performing iteration 200.\n",
      "Performing iteration 201.\n",
      "Performing iteration 202.\n",
      "Performing iteration 203.\n",
      "Performing iteration 204.\n",
      "Performing iteration 205.\n",
      "Performing iteration 206.\n",
      "Performing iteration 207.\n",
      "Performing iteration 208.\n",
      "Performing iteration 209.\n",
      "Performing iteration 210.\n",
      "Performing iteration 211.\n",
      "Performing iteration 212.\n",
      "Performing iteration 213.\n",
      "Performing iteration 214.\n",
      "Performing iteration 215.\n",
      "Performing iteration 216.\n",
      "Performing iteration 217.\n",
      "Performing iteration 218.\n",
      "Performing iteration 219.\n",
      "Performing iteration 220.\n",
      "Performing iteration 221.\n",
      "Performing iteration 222.\n",
      "Performing iteration 223.\n",
      "Performing iteration 224.\n",
      "Performing iteration 225.\n",
      "Performing iteration 226.\n",
      "Performing iteration 227.\n",
      "Performing iteration 228.\n",
      "Performing iteration 229.\n",
      "Performing iteration 230.\n",
      "Performing iteration 231.\n",
      "Performing iteration 232.\n",
      "Performing iteration 233.\n",
      "Performing iteration 234.\n",
      "Performing iteration 235.\n",
      "Performing iteration 236.\n",
      "Performing iteration 237.\n",
      "Performing iteration 238.\n",
      "Performing iteration 239.\n",
      "Performing iteration 240.\n",
      "Performing iteration 241.\n",
      "Performing iteration 242.\n",
      "Performing iteration 243.\n",
      "Performing iteration 244.\n",
      "Performing iteration 245.\n",
      "Performing iteration 246.\n",
      "Performing iteration 247.\n",
      "Performing iteration 248.\n",
      "Performing iteration 249.\n",
      "Performing iteration 250.\n",
      "Performing iteration 251.\n",
      "Performing iteration 252.\n",
      "Performing iteration 253.\n",
      "Performing iteration 254.\n",
      "Performing iteration 255.\n",
      "Performing iteration 256.\n",
      "Performing iteration 257.\n",
      "Performing iteration 258.\n",
      "Performing iteration 259.\n",
      "Performing iteration 260.\n",
      "Performing iteration 261.\n",
      "Performing iteration 262.\n",
      "Performing iteration 263.\n",
      "Performing iteration 264.\n",
      "Performing iteration 265.\n",
      "Performing iteration 266.\n",
      "Performing iteration 267.\n",
      "Performing iteration 268.\n",
      "Performing iteration 269.\n",
      "Performing iteration 270.\n",
      "Performing iteration 271.\n",
      "Performing iteration 272.\n",
      "Performing iteration 273.\n",
      "Performing iteration 274.\n",
      "Performing iteration 275.\n",
      "Performing iteration 276.\n",
      "Performing iteration 277.\n",
      "Performing iteration 278.\n",
      "Performing iteration 279.\n",
      "Performing iteration 280.\n",
      "Performing iteration 281.\n",
      "Performing iteration 282.\n",
      "Performing iteration 283.\n",
      "Performing iteration 284.\n",
      "Performing iteration 285.\n",
      "Performing iteration 286.\n",
      "Performing iteration 287.\n",
      "Performing iteration 288.\n",
      "Performing iteration 289.\n",
      "Performing iteration 290.\n",
      "Performing iteration 291.\n",
      "Performing iteration 292.\n",
      "Performing iteration 293.\n",
      "Performing iteration 294.\n",
      "Performing iteration 295.\n",
      "Performing iteration 296.\n",
      "Performing iteration 297.\n",
      "Performing iteration 298.\n",
      "Performing iteration 299.\n",
      "Performing iteration 300.\n",
      "CPU times: user 1min 39s, sys: 660 ms, total: 1min 40s\n",
      "Wall time: 1min 40s\n"
     ]
    },
    {
     "name": "stdout",
     "output_type": "stream",
     "text": [
      "0.659771218641\n",
      "Running ZIFA\n"
     ]
    },
    {
     "ename": "KeyboardInterrupt",
     "evalue": "",
     "output_type": "error",
     "traceback": [
      "\u001b[0;31m---------------------------------------------------------------------------\u001b[0m",
      "\u001b[0;31mKeyboardInterrupt\u001b[0m                         Traceback (most recent call last)",
      "\u001b[0;32m<ipython-input-14-604dbd36125d>\u001b[0m in \u001b[0;36m<module>\u001b[0;34m()\u001b[0m\n\u001b[1;32m     17\u001b[0m     \u001b[0;32mprint\u001b[0m \u001b[0;34m\"Running ZIFA\"\u001b[0m\u001b[0;34m\u001b[0m\u001b[0m\n\u001b[1;32m     18\u001b[0m     \u001b[0mzifa\u001b[0m \u001b[0;34m=\u001b[0m \u001b[0mZIFA\u001b[0m\u001b[0;34m(\u001b[0m\u001b[0mn_components\u001b[0m\u001b[0;34m=\u001b[0m\u001b[0mn_latent\u001b[0m\u001b[0;34m)\u001b[0m\u001b[0;34m\u001b[0m\u001b[0m\n\u001b[0;32m---> 19\u001b[0;31m     \u001b[0mget_ipython\u001b[0m\u001b[0;34m(\u001b[0m\u001b[0;34m)\u001b[0m\u001b[0;34m.\u001b[0m\u001b[0mmagic\u001b[0m\u001b[0;34m(\u001b[0m\u001b[0;34mu'time zifa.fit(X_train_log[:n_cells])'\u001b[0m\u001b[0;34m)\u001b[0m\u001b[0;34m\u001b[0m\u001b[0m\n\u001b[0m\u001b[1;32m     20\u001b[0m     \u001b[0mlatent\u001b[0m \u001b[0;34m=\u001b[0m \u001b[0mzifa\u001b[0m\u001b[0;34m.\u001b[0m\u001b[0mtransform\u001b[0m\u001b[0;34m(\u001b[0m\u001b[0mdata_train\u001b[0m\u001b[0;34m)\u001b[0m\u001b[0;34m\u001b[0m\u001b[0m\n\u001b[1;32m     21\u001b[0m     \u001b[0;32mprint\u001b[0m \u001b[0mentropy_batch_mixing\u001b[0m\u001b[0;34m(\u001b[0m\u001b[0mlatent\u001b[0m\u001b[0;34m,\u001b[0m \u001b[0mb_train\u001b[0m\u001b[0;34m)\u001b[0m\u001b[0;34m\u001b[0m\u001b[0m\n",
      "\u001b[0;32m/home/romain/tensorflow/local/lib/python2.7/site-packages/IPython/core/interactiveshell.pyc\u001b[0m in \u001b[0;36mmagic\u001b[0;34m(self, arg_s)\u001b[0m\n\u001b[1;32m   2158\u001b[0m         \u001b[0mmagic_name\u001b[0m\u001b[0;34m,\u001b[0m \u001b[0m_\u001b[0m\u001b[0;34m,\u001b[0m \u001b[0mmagic_arg_s\u001b[0m \u001b[0;34m=\u001b[0m \u001b[0marg_s\u001b[0m\u001b[0;34m.\u001b[0m\u001b[0mpartition\u001b[0m\u001b[0;34m(\u001b[0m\u001b[0;34m' '\u001b[0m\u001b[0;34m)\u001b[0m\u001b[0;34m\u001b[0m\u001b[0m\n\u001b[1;32m   2159\u001b[0m         \u001b[0mmagic_name\u001b[0m \u001b[0;34m=\u001b[0m \u001b[0mmagic_name\u001b[0m\u001b[0;34m.\u001b[0m\u001b[0mlstrip\u001b[0m\u001b[0;34m(\u001b[0m\u001b[0mprefilter\u001b[0m\u001b[0;34m.\u001b[0m\u001b[0mESC_MAGIC\u001b[0m\u001b[0;34m)\u001b[0m\u001b[0;34m\u001b[0m\u001b[0m\n\u001b[0;32m-> 2160\u001b[0;31m         \u001b[0;32mreturn\u001b[0m \u001b[0mself\u001b[0m\u001b[0;34m.\u001b[0m\u001b[0mrun_line_magic\u001b[0m\u001b[0;34m(\u001b[0m\u001b[0mmagic_name\u001b[0m\u001b[0;34m,\u001b[0m \u001b[0mmagic_arg_s\u001b[0m\u001b[0;34m)\u001b[0m\u001b[0;34m\u001b[0m\u001b[0m\n\u001b[0m\u001b[1;32m   2161\u001b[0m \u001b[0;34m\u001b[0m\u001b[0m\n\u001b[1;32m   2162\u001b[0m     \u001b[0;31m#-------------------------------------------------------------------------\u001b[0m\u001b[0;34m\u001b[0m\u001b[0;34m\u001b[0m\u001b[0m\n",
      "\u001b[0;32m/home/romain/tensorflow/local/lib/python2.7/site-packages/IPython/core/interactiveshell.pyc\u001b[0m in \u001b[0;36mrun_line_magic\u001b[0;34m(self, magic_name, line)\u001b[0m\n\u001b[1;32m   2079\u001b[0m                 \u001b[0mkwargs\u001b[0m\u001b[0;34m[\u001b[0m\u001b[0;34m'local_ns'\u001b[0m\u001b[0;34m]\u001b[0m \u001b[0;34m=\u001b[0m \u001b[0msys\u001b[0m\u001b[0;34m.\u001b[0m\u001b[0m_getframe\u001b[0m\u001b[0;34m(\u001b[0m\u001b[0mstack_depth\u001b[0m\u001b[0;34m)\u001b[0m\u001b[0;34m.\u001b[0m\u001b[0mf_locals\u001b[0m\u001b[0;34m\u001b[0m\u001b[0m\n\u001b[1;32m   2080\u001b[0m             \u001b[0;32mwith\u001b[0m \u001b[0mself\u001b[0m\u001b[0;34m.\u001b[0m\u001b[0mbuiltin_trap\u001b[0m\u001b[0;34m:\u001b[0m\u001b[0;34m\u001b[0m\u001b[0m\n\u001b[0;32m-> 2081\u001b[0;31m                 \u001b[0mresult\u001b[0m \u001b[0;34m=\u001b[0m \u001b[0mfn\u001b[0m\u001b[0;34m(\u001b[0m\u001b[0;34m*\u001b[0m\u001b[0margs\u001b[0m\u001b[0;34m,\u001b[0m\u001b[0;34m**\u001b[0m\u001b[0mkwargs\u001b[0m\u001b[0;34m)\u001b[0m\u001b[0;34m\u001b[0m\u001b[0m\n\u001b[0m\u001b[1;32m   2082\u001b[0m             \u001b[0;32mreturn\u001b[0m \u001b[0mresult\u001b[0m\u001b[0;34m\u001b[0m\u001b[0m\n\u001b[1;32m   2083\u001b[0m \u001b[0;34m\u001b[0m\u001b[0m\n",
      "\u001b[0;32m<decorator-gen-60>\u001b[0m in \u001b[0;36mtime\u001b[0;34m(self, line, cell, local_ns)\u001b[0m\n",
      "\u001b[0;32m/home/romain/tensorflow/local/lib/python2.7/site-packages/IPython/core/magic.pyc\u001b[0m in \u001b[0;36m<lambda>\u001b[0;34m(f, *a, **k)\u001b[0m\n\u001b[1;32m    186\u001b[0m     \u001b[0;31m# but it's overkill for just that one bit of state.\u001b[0m\u001b[0;34m\u001b[0m\u001b[0;34m\u001b[0m\u001b[0m\n\u001b[1;32m    187\u001b[0m     \u001b[0;32mdef\u001b[0m \u001b[0mmagic_deco\u001b[0m\u001b[0;34m(\u001b[0m\u001b[0marg\u001b[0m\u001b[0;34m)\u001b[0m\u001b[0;34m:\u001b[0m\u001b[0;34m\u001b[0m\u001b[0m\n\u001b[0;32m--> 188\u001b[0;31m         \u001b[0mcall\u001b[0m \u001b[0;34m=\u001b[0m \u001b[0;32mlambda\u001b[0m \u001b[0mf\u001b[0m\u001b[0;34m,\u001b[0m \u001b[0;34m*\u001b[0m\u001b[0ma\u001b[0m\u001b[0;34m,\u001b[0m \u001b[0;34m**\u001b[0m\u001b[0mk\u001b[0m\u001b[0;34m:\u001b[0m \u001b[0mf\u001b[0m\u001b[0;34m(\u001b[0m\u001b[0;34m*\u001b[0m\u001b[0ma\u001b[0m\u001b[0;34m,\u001b[0m \u001b[0;34m**\u001b[0m\u001b[0mk\u001b[0m\u001b[0;34m)\u001b[0m\u001b[0;34m\u001b[0m\u001b[0m\n\u001b[0m\u001b[1;32m    189\u001b[0m \u001b[0;34m\u001b[0m\u001b[0m\n\u001b[1;32m    190\u001b[0m         \u001b[0;32mif\u001b[0m \u001b[0mcallable\u001b[0m\u001b[0;34m(\u001b[0m\u001b[0marg\u001b[0m\u001b[0;34m)\u001b[0m\u001b[0;34m:\u001b[0m\u001b[0;34m\u001b[0m\u001b[0m\n",
      "\u001b[0;32m/home/romain/tensorflow/local/lib/python2.7/site-packages/IPython/core/magics/execution.pyc\u001b[0m in \u001b[0;36mtime\u001b[0;34m(self, line, cell, local_ns)\u001b[0m\n\u001b[1;32m   1179\u001b[0m         \u001b[0;32mif\u001b[0m \u001b[0mmode\u001b[0m\u001b[0;34m==\u001b[0m\u001b[0;34m'eval'\u001b[0m\u001b[0;34m:\u001b[0m\u001b[0;34m\u001b[0m\u001b[0m\n\u001b[1;32m   1180\u001b[0m             \u001b[0mst\u001b[0m \u001b[0;34m=\u001b[0m \u001b[0mclock2\u001b[0m\u001b[0;34m(\u001b[0m\u001b[0;34m)\u001b[0m\u001b[0;34m\u001b[0m\u001b[0m\n\u001b[0;32m-> 1181\u001b[0;31m             \u001b[0mout\u001b[0m \u001b[0;34m=\u001b[0m \u001b[0meval\u001b[0m\u001b[0;34m(\u001b[0m\u001b[0mcode\u001b[0m\u001b[0;34m,\u001b[0m \u001b[0mglob\u001b[0m\u001b[0;34m,\u001b[0m \u001b[0mlocal_ns\u001b[0m\u001b[0;34m)\u001b[0m\u001b[0;34m\u001b[0m\u001b[0m\n\u001b[0m\u001b[1;32m   1182\u001b[0m             \u001b[0mend\u001b[0m \u001b[0;34m=\u001b[0m \u001b[0mclock2\u001b[0m\u001b[0;34m(\u001b[0m\u001b[0;34m)\u001b[0m\u001b[0;34m\u001b[0m\u001b[0m\n\u001b[1;32m   1183\u001b[0m         \u001b[0;32melse\u001b[0m\u001b[0;34m:\u001b[0m\u001b[0;34m\u001b[0m\u001b[0m\n",
      "\u001b[0;32m<timed eval>\u001b[0m in \u001b[0;36m<module>\u001b[0;34m()\u001b[0m\n",
      "\u001b[0;32m/home/romain/scVI/ZIFA.pyc\u001b[0m in \u001b[0;36mfit\u001b[0;34m(self, X)\u001b[0m\n\u001b[1;32m    466\u001b[0m \u001b[0;34m\u001b[0m\u001b[0m\n\u001b[1;32m    467\u001b[0m         \u001b[0mself\u001b[0m\u001b[0;34m.\u001b[0m\u001b[0mX_\u001b[0m \u001b[0;34m=\u001b[0m \u001b[0mX\u001b[0m\u001b[0;34m\u001b[0m\u001b[0m\n\u001b[0;32m--> 468\u001b[0;31m         \u001b[0mself\u001b[0m\u001b[0;34m.\u001b[0m\u001b[0mparams\u001b[0m \u001b[0;34m=\u001b[0m \u001b[0mfitModel\u001b[0m\u001b[0;34m(\u001b[0m\u001b[0mX\u001b[0m\u001b[0;34m,\u001b[0m \u001b[0mself\u001b[0m\u001b[0;34m.\u001b[0m\u001b[0mn_components\u001b[0m\u001b[0;34m,\u001b[0m \u001b[0msingleSigma\u001b[0m \u001b[0;34m=\u001b[0m \u001b[0mself\u001b[0m\u001b[0;34m.\u001b[0m\u001b[0msingleSigma\u001b[0m\u001b[0;34m)\u001b[0m\u001b[0;34m\u001b[0m\u001b[0m\n\u001b[0m\u001b[1;32m    469\u001b[0m \u001b[0;34m\u001b[0m\u001b[0m\n\u001b[1;32m    470\u001b[0m         \u001b[0;31m# Return the classifier\u001b[0m\u001b[0;34m\u001b[0m\u001b[0;34m\u001b[0m\u001b[0m\n",
      "\u001b[0;32m/home/romain/scVI/ZIFA.pyc\u001b[0m in \u001b[0;36mfitModel\u001b[0;34m(Y, K, singleSigma)\u001b[0m\n\u001b[1;32m    373\u001b[0m     \u001b[0mn_iter\u001b[0m \u001b[0;34m=\u001b[0m \u001b[0;36m0\u001b[0m\u001b[0;34m\u001b[0m\u001b[0m\n\u001b[1;32m    374\u001b[0m     \u001b[0;32mwhile\u001b[0m \u001b[0mn_iter\u001b[0m \u001b[0;34m<\u001b[0m \u001b[0mmax_iter\u001b[0m\u001b[0;34m:\u001b[0m\u001b[0;34m\u001b[0m\u001b[0m\n\u001b[0;32m--> 375\u001b[0;31m         \u001b[0mEZ\u001b[0m\u001b[0;34m,\u001b[0m \u001b[0mEZZT\u001b[0m\u001b[0;34m,\u001b[0m \u001b[0mEX\u001b[0m\u001b[0;34m,\u001b[0m \u001b[0mEXZ\u001b[0m\u001b[0;34m,\u001b[0m \u001b[0mEX2\u001b[0m \u001b[0;34m=\u001b[0m \u001b[0mEstep\u001b[0m\u001b[0;34m(\u001b[0m\u001b[0mY\u001b[0m\u001b[0;34m,\u001b[0m \u001b[0mA\u001b[0m\u001b[0;34m,\u001b[0m \u001b[0mmus\u001b[0m\u001b[0;34m,\u001b[0m \u001b[0msigmas\u001b[0m\u001b[0;34m,\u001b[0m \u001b[0mdecay_coef\u001b[0m\u001b[0;34m)\u001b[0m\u001b[0;34m\u001b[0m\u001b[0m\n\u001b[0m\u001b[1;32m    376\u001b[0m         \u001b[0mnew_A\u001b[0m\u001b[0;34m,\u001b[0m \u001b[0mnew_mus\u001b[0m\u001b[0;34m,\u001b[0m \u001b[0mnew_sigmas\u001b[0m\u001b[0;34m,\u001b[0m \u001b[0mnew_decay_coef\u001b[0m \u001b[0;34m=\u001b[0m \u001b[0mMstep\u001b[0m\u001b[0;34m(\u001b[0m\u001b[0mY\u001b[0m\u001b[0;34m,\u001b[0m \u001b[0mEZ\u001b[0m\u001b[0;34m,\u001b[0m \u001b[0mEZZT\u001b[0m\u001b[0;34m,\u001b[0m \u001b[0mEX\u001b[0m\u001b[0;34m,\u001b[0m \u001b[0mEXZ\u001b[0m\u001b[0;34m,\u001b[0m \u001b[0mEX2\u001b[0m\u001b[0;34m,\u001b[0m \u001b[0mA\u001b[0m\u001b[0;34m,\u001b[0m \u001b[0mmus\u001b[0m\u001b[0;34m,\u001b[0m \u001b[0msigmas\u001b[0m\u001b[0;34m,\u001b[0m \u001b[0mdecay_coef\u001b[0m\u001b[0;34m,\u001b[0m \u001b[0msingleSigma\u001b[0m \u001b[0;34m=\u001b[0m \u001b[0msingleSigma\u001b[0m\u001b[0;34m)\u001b[0m\u001b[0;34m\u001b[0m\u001b[0m\n\u001b[1;32m    377\u001b[0m         \u001b[0mcheckNoNans\u001b[0m\u001b[0;34m(\u001b[0m\u001b[0;34m[\u001b[0m\u001b[0mEZ\u001b[0m\u001b[0;34m,\u001b[0m \u001b[0mEZZT\u001b[0m\u001b[0;34m,\u001b[0m \u001b[0mEX\u001b[0m\u001b[0;34m,\u001b[0m \u001b[0mEXZ\u001b[0m\u001b[0;34m,\u001b[0m \u001b[0mEX2\u001b[0m\u001b[0;34m,\u001b[0m \u001b[0mnew_A\u001b[0m\u001b[0;34m,\u001b[0m \u001b[0mnew_mus\u001b[0m\u001b[0;34m,\u001b[0m \u001b[0mnew_sigmas\u001b[0m\u001b[0;34m,\u001b[0m \u001b[0mnew_decay_coef\u001b[0m\u001b[0;34m]\u001b[0m\u001b[0;34m)\u001b[0m\u001b[0;34m\u001b[0m\u001b[0m\n",
      "\u001b[0;32m/home/romain/scVI/ZIFA.pyc\u001b[0m in \u001b[0;36mEstep\u001b[0;34m(Y, A, mus, sigmas, decay_coef)\u001b[0m\n\u001b[1;32m     93\u001b[0m         \u001b[0;31m#3. compute P(Z, X_0 | Y_+, Y_0)\u001b[0m\u001b[0;34m\u001b[0m\u001b[0;34m\u001b[0m\u001b[0m\n\u001b[1;32m     94\u001b[0m         \u001b[0mdim\u001b[0m \u001b[0;34m=\u001b[0m \u001b[0mlen\u001b[0m\u001b[0;34m(\u001b[0m\u001b[0msigma_c\u001b[0m\u001b[0;34m)\u001b[0m\u001b[0;34m\u001b[0m\u001b[0m\n\u001b[0;32m---> 95\u001b[0;31m         \u001b[0mmatrixToInvert\u001b[0m \u001b[0;34m=\u001b[0m \u001b[0mcomputeMatrixInLastStep\u001b[0m\u001b[0;34m(\u001b[0m\u001b[0mA\u001b[0m\u001b[0;34m,\u001b[0m \u001b[0mnp\u001b[0m\u001b[0;34m.\u001b[0m\u001b[0mabs\u001b[0m\u001b[0;34m(\u001b[0m\u001b[0mY\u001b[0m\u001b[0;34m[\u001b[0m\u001b[0mi\u001b[0m\u001b[0;34m,\u001b[0m \u001b[0;34m:\u001b[0m\u001b[0;34m]\u001b[0m\u001b[0;34m)\u001b[0m \u001b[0;34m<\u001b[0m \u001b[0;36m1e-6\u001b[0m\u001b[0;34m,\u001b[0m \u001b[0msigmas\u001b[0m\u001b[0;34m,\u001b[0m \u001b[0mK\u001b[0m\u001b[0;34m,\u001b[0m \u001b[0msigma_c\u001b[0m\u001b[0;34m,\u001b[0m \u001b[0mdecay_coef\u001b[0m\u001b[0;34m,\u001b[0m \u001b[0msigma_22_inv\u001b[0m\u001b[0;34m)\u001b[0m\u001b[0;34m\u001b[0m\u001b[0m\n\u001b[0m\u001b[1;32m     96\u001b[0m         \u001b[0;32mif\u001b[0m \u001b[0;34m(\u001b[0m\u001b[0mY_is_zero\u001b[0m\u001b[0;34m)\u001b[0m\u001b[0;34m.\u001b[0m\u001b[0msum\u001b[0m\u001b[0;34m(\u001b[0m\u001b[0;34m)\u001b[0m \u001b[0;34m<\u001b[0m \u001b[0mD\u001b[0m\u001b[0;34m:\u001b[0m\u001b[0;34m\u001b[0m\u001b[0m\n\u001b[1;32m     97\u001b[0m             \u001b[0mmagical_matrix\u001b[0m \u001b[0;34m=\u001b[0m \u001b[0;36m2\u001b[0m \u001b[0;34m*\u001b[0m \u001b[0mdecay_coef\u001b[0m \u001b[0;34m*\u001b[0m \u001b[0;34m(\u001b[0m\u001b[0mmult_diag\u001b[0m\u001b[0;34m(\u001b[0m\u001b[0maugmented_D\u001b[0m\u001b[0;34m,\u001b[0m \u001b[0mmatrixToInvert\u001b[0m\u001b[0;34m)\u001b[0m \u001b[0;34m+\u001b[0m \u001b[0maugmentedA_0\u001b[0m \u001b[0;34m*\u001b[0m \u001b[0;34m(\u001b[0m\u001b[0mnp\u001b[0m\u001b[0;34m.\u001b[0m\u001b[0meye\u001b[0m\u001b[0;34m(\u001b[0m\u001b[0mK\u001b[0m\u001b[0;34m)\u001b[0m\u001b[0;34m-\u001b[0m\u001b[0maugmentedA_plus\u001b[0m\u001b[0;34m.\u001b[0m\u001b[0mT\u001b[0m \u001b[0;34m*\u001b[0m \u001b[0msigma_22_inv\u001b[0m \u001b[0;34m*\u001b[0m \u001b[0maugmentedA_plus\u001b[0m\u001b[0;34m)\u001b[0m \u001b[0;34m*\u001b[0m \u001b[0;34m(\u001b[0m\u001b[0maugmentedA_0\u001b[0m\u001b[0;34m.\u001b[0m\u001b[0mT\u001b[0m \u001b[0;34m*\u001b[0m \u001b[0mmatrixToInvert\u001b[0m\u001b[0;34m)\u001b[0m\u001b[0;34m)\u001b[0m\u001b[0;34m\u001b[0m\u001b[0m\n",
      "\u001b[0;32m/home/romain/scVI/ZIFA.pyc\u001b[0m in \u001b[0;36mcomputeMatrixInLastStep\u001b[0;34m(A, zero_indices, sigmas, K, sigma_c, decay_coef, sigma_22_inv)\u001b[0m\n\u001b[1;32m    145\u001b[0m         \u001b[0mb_inv\u001b[0m \u001b[0;34m=\u001b[0m \u001b[0mnp\u001b[0m\u001b[0;34m.\u001b[0m\u001b[0mlinalg\u001b[0m\u001b[0;34m.\u001b[0m\u001b[0minv\u001b[0m\u001b[0;34m(\u001b[0m\u001b[0;34m(\u001b[0m\u001b[0mnp\u001b[0m\u001b[0;34m.\u001b[0m\u001b[0mmatrix\u001b[0m\u001b[0;34m(\u001b[0m\u001b[0mA_0\u001b[0m\u001b[0;34m)\u001b[0m\u001b[0;34m.\u001b[0m\u001b[0mT\u001b[0m \u001b[0;34m*\u001b[0m \u001b[0mE_00_prime_inv\u001b[0m\u001b[0;34m)\u001b[0m \u001b[0;34m*\u001b[0m \u001b[0mnp\u001b[0m\u001b[0;34m.\u001b[0m\u001b[0mmatrix\u001b[0m\u001b[0;34m(\u001b[0m\u001b[0mA_0\u001b[0m\u001b[0;34m)\u001b[0m\u001b[0;34m)\u001b[0m\u001b[0;34m\u001b[0m\u001b[0m\n\u001b[1;32m    146\u001b[0m         \u001b[0minnermost_inverse\u001b[0m \u001b[0;34m=\u001b[0m \u001b[0mapplyWoodburyIdentity\u001b[0m\u001b[0;34m(\u001b[0m\u001b[0;34m-\u001b[0m\u001b[0mE_plusplus_inv\u001b[0m\u001b[0;34m,\u001b[0m \u001b[0mb_inv\u001b[0m\u001b[0;34m,\u001b[0m \u001b[0mnp\u001b[0m\u001b[0;34m.\u001b[0m\u001b[0mmatrix\u001b[0m\u001b[0;34m(\u001b[0m\u001b[0mA_plus\u001b[0m\u001b[0;34m)\u001b[0m\u001b[0;34m)\u001b[0m\u001b[0;34m\u001b[0m\u001b[0m\n\u001b[0;32m--> 147\u001b[0;31m         \u001b[0minv_matrix\u001b[0m \u001b[0;34m=\u001b[0m \u001b[0;34m(\u001b[0m\u001b[0;36m1\u001b[0m \u001b[0;34m/\u001b[0m \u001b[0;34m(\u001b[0m\u001b[0;36m2.\u001b[0m \u001b[0;34m*\u001b[0m \u001b[0mdecay_coef\u001b[0m\u001b[0;34m)\u001b[0m\u001b[0;34m)\u001b[0m \u001b[0;34m*\u001b[0m \u001b[0;34m(\u001b[0m\u001b[0mE_00_prime_inv\u001b[0m \u001b[0;34m-\u001b[0m \u001b[0;34m(\u001b[0m\u001b[0mE_00_prime_inv\u001b[0m \u001b[0;34m*\u001b[0m \u001b[0mA_0\u001b[0m\u001b[0;34m)\u001b[0m\u001b[0;34m*\u001b[0m\u001b[0;34m(\u001b[0m\u001b[0mA_plus\u001b[0m\u001b[0;34m.\u001b[0m\u001b[0mT\u001b[0m \u001b[0;34m*\u001b[0m \u001b[0minnermost_inverse\u001b[0m \u001b[0;34m*\u001b[0m \u001b[0mA_plus\u001b[0m\u001b[0;34m)\u001b[0m\u001b[0;34m*\u001b[0m\u001b[0;34m(\u001b[0m\u001b[0mA_0\u001b[0m\u001b[0;34m.\u001b[0m\u001b[0mT\u001b[0m \u001b[0;34m*\u001b[0m \u001b[0mE_00_prime_inv\u001b[0m\u001b[0;34m)\u001b[0m\u001b[0;34m)\u001b[0m\u001b[0;34m\u001b[0m\u001b[0m\n\u001b[0m\u001b[1;32m    148\u001b[0m     \u001b[0mdim\u001b[0m \u001b[0;34m=\u001b[0m \u001b[0mlen\u001b[0m\u001b[0;34m(\u001b[0m\u001b[0msigma_c\u001b[0m\u001b[0;34m)\u001b[0m\u001b[0;34m\u001b[0m\u001b[0m\n\u001b[1;32m    149\u001b[0m     \u001b[0mM\u001b[0m \u001b[0;34m=\u001b[0m \u001b[0mnp\u001b[0m\u001b[0;34m.\u001b[0m\u001b[0mzeros\u001b[0m\u001b[0;34m(\u001b[0m\u001b[0;34m[\u001b[0m\u001b[0mdim\u001b[0m\u001b[0;34m,\u001b[0m \u001b[0mdim\u001b[0m\u001b[0;34m]\u001b[0m\u001b[0;34m)\u001b[0m\u001b[0;34m\u001b[0m\u001b[0m\n",
      "\u001b[0;32m/home/romain/tensorflow/local/lib/python2.7/site-packages/numpy/matrixlib/defmatrix.pyc\u001b[0m in \u001b[0;36m__mul__\u001b[0;34m(self, other)\u001b[0m\n\u001b[1;32m    307\u001b[0m         \u001b[0;32mif\u001b[0m \u001b[0misinstance\u001b[0m\u001b[0;34m(\u001b[0m\u001b[0mother\u001b[0m\u001b[0;34m,\u001b[0m \u001b[0;34m(\u001b[0m\u001b[0mN\u001b[0m\u001b[0;34m.\u001b[0m\u001b[0mndarray\u001b[0m\u001b[0;34m,\u001b[0m \u001b[0mlist\u001b[0m\u001b[0;34m,\u001b[0m \u001b[0mtuple\u001b[0m\u001b[0;34m)\u001b[0m\u001b[0;34m)\u001b[0m \u001b[0;34m:\u001b[0m\u001b[0;34m\u001b[0m\u001b[0m\n\u001b[1;32m    308\u001b[0m             \u001b[0;31m# This promotes 1-D vectors to row vectors\u001b[0m\u001b[0;34m\u001b[0m\u001b[0;34m\u001b[0m\u001b[0m\n\u001b[0;32m--> 309\u001b[0;31m             \u001b[0;32mreturn\u001b[0m \u001b[0mN\u001b[0m\u001b[0;34m.\u001b[0m\u001b[0mdot\u001b[0m\u001b[0;34m(\u001b[0m\u001b[0mself\u001b[0m\u001b[0;34m,\u001b[0m \u001b[0masmatrix\u001b[0m\u001b[0;34m(\u001b[0m\u001b[0mother\u001b[0m\u001b[0;34m)\u001b[0m\u001b[0;34m)\u001b[0m\u001b[0;34m\u001b[0m\u001b[0m\n\u001b[0m\u001b[1;32m    310\u001b[0m         \u001b[0;32mif\u001b[0m \u001b[0misscalar\u001b[0m\u001b[0;34m(\u001b[0m\u001b[0mother\u001b[0m\u001b[0;34m)\u001b[0m \u001b[0;32mor\u001b[0m \u001b[0;32mnot\u001b[0m \u001b[0mhasattr\u001b[0m\u001b[0;34m(\u001b[0m\u001b[0mother\u001b[0m\u001b[0;34m,\u001b[0m \u001b[0;34m'__rmul__'\u001b[0m\u001b[0;34m)\u001b[0m \u001b[0;34m:\u001b[0m\u001b[0;34m\u001b[0m\u001b[0m\n\u001b[1;32m    311\u001b[0m             \u001b[0;32mreturn\u001b[0m \u001b[0mN\u001b[0m\u001b[0;34m.\u001b[0m\u001b[0mdot\u001b[0m\u001b[0;34m(\u001b[0m\u001b[0mself\u001b[0m\u001b[0;34m,\u001b[0m \u001b[0mother\u001b[0m\u001b[0;34m)\u001b[0m\u001b[0;34m\u001b[0m\u001b[0m\n",
      "\u001b[0;31mKeyboardInterrupt\u001b[0m: "
     ]
    }
   ],
   "source": [
    "for n_cells in n_cells_list:\n",
    "    print n_cells, \" cells\"\n",
    "    \n",
    "    print \"Running FA\"\n",
    "    fa = FactorAnalysis(n_components=n_latent)\n",
    "    %time fa.fit(X_train_log[:n_cells])\n",
    "    latent = fa.transform(X_train_log[:n_cells])\n",
    "    print entropy_batch_mixing(latent, b_train)\n",
    "    res = fa.score(X_test_log[:n_cells]) - np.mean(np.sum(X_test_log[:n_cells], axis=-1))\n",
    "    print \"FA: \", res\n",
    "        \n",
    "    print \"Running SIMLR\"\n",
    "    simlr = SIMLR(n_clusters=10)\n",
    "    %time simlr.fit_transform(X_train[:n_cells])\n",
    "    print entropy_batch_mixing(simlr.F, b_train)\n",
    "\n",
    "    print \"Running ZIFA\"\n",
    "    zifa = ZIFA(n_components=n_latent)\n",
    "    %time zifa.fit(X_train_log[:n_cells])\n",
    "    latent = zifa.transform(data_train)\n",
    "    print entropy_batch_mixing(latent, b_train)\n",
    "    res = zifa.score(X_test_log[:n_cells]) - np.mean(np.sum(X_test_log[:n_cells], axis=-1))\n",
    "    print \"ZIFA: \", res\n",
    "\n",
    "    print \"Running ZINB\"\n",
    "    zinb = ZINB(n_components=n_latent, learn_V=True)\n",
    "    % time zinb.fit(X_train[:n_cells])\n",
    "    % time latent = zinb.transform(X_train[:n_cells])\n",
    "    print entropy_batch_mixing(latent, b_train)\n",
    "    res = zinb.score(X_test[:n_cells])\n",
    "    print \"ZINB: \", res"
   ]
  },
  {
   "cell_type": "markdown",
   "metadata": {},
   "source": [
    "## imputation"
   ]
  },
  {
   "cell_type": "code",
   "execution_count": 7,
   "metadata": {
    "collapsed": true
   },
   "outputs": [],
   "source": [
    "X_zero, i, j, ix = dropout(X_train[:10000], zifa.params[\"decay_coef\"], uniform=True)\n",
    "np.save(data_path + \"imputation/X_zero.npy\", X_zero)\n",
    "np.save(data_path + \"imputation/i.npy\", i)\n",
    "np.save(data_path + \"imputation/j.npy\", j)\n",
    "np.save(data_path + \"imputation/ix.npy\", ix)"
   ]
  },
  {
   "cell_type": "code",
   "execution_count": 3,
   "metadata": {
    "collapsed": true
   },
   "outputs": [],
   "source": [
    "X_zero, i, j, ix = \\\n",
    "        np.load(data_path + \"imputation/X_zero.npy\"),\\\n",
    "        np.load(data_path + \"imputation/i.npy\"), \\\n",
    "        np.load(data_path + \"imputation/j.npy\"), \\\n",
    "        np.load(data_path + \"imputation/ix.npy\")"
   ]
  },
  {
   "cell_type": "code",
   "execution_count": 4,
   "metadata": {
    "collapsed": true
   },
   "outputs": [],
   "source": [
    "np.savetxt(\"expression_mRNA_1M_impute.txt\", np.vstack((np.zeros(X_zero.shape[1]), X_zero[:5000])), delimiter=\"\\t\")"
   ]
  },
  {
   "cell_type": "code",
   "execution_count": null,
   "metadata": {
    "collapsed": true
   },
   "outputs": [],
   "source": [
    "# ZIFA Imputation\n",
    "zifa = ZIFA(n_components=n_latent)\n",
    "%time zifa.fit(np.log(1 + X_zero))\n",
    "%time X_ZIFA_log = zifa.output_estimation(np.log(1 + X_zero))[\"EX\"]\n",
    "p_ZIFA = np.exp(- zifa.params[\"decay_coef\"] * X_ZIFA_log**2)"
   ]
  },
  {
   "cell_type": "code",
   "execution_count": 10,
   "metadata": {},
   "outputs": [
    {
     "name": "stdout",
     "output_type": "stream",
     "text": [
      "('ZIFA', 1.4898509912731444)\n"
     ]
    }
   ],
   "source": [
    "print(\"ZIFA\", imputation_error(np.exp(X_ZIFA_log) - 1, X_train[:10000], X_zero,  i, j, ix))"
   ]
  },
  {
   "cell_type": "code",
   "execution_count": 12,
   "metadata": {},
   "outputs": [
    {
     "name": "stdout",
     "output_type": "stream",
     "text": [
      "CPU times: user 6min 27s, sys: 14.7 s, total: 6min 42s\n",
      "Wall time: 29min 1s\n",
      "CPU times: user 42.7 s, sys: 6.89 s, total: 49.6 s\n",
      "Wall time: 3min 7s\n",
      "('ZINB', 1.0771223055642813)\n"
     ]
    }
   ],
   "source": [
    "# ZINB Imputation\n",
    "zinb = ZINB(n_components=n_latent, learn_V=True)\n",
    "%time zinb.fit(X_zero)\n",
    "%time zinb.score(X_zero)\n",
    "fit_ZINB = zinb.output_estimation()\n",
    "def softplus(x):\n",
    "    return np.log(1 + np.exp(x))\n",
    "X_ZINB = fit_ZINB[0]\n",
    "logit_ZINB = fit_ZINB[1]\n",
    "theta_ZINB = fit_ZINB[2]\n",
    "log_p_ZINB = -softplus(- logit_ZINB)\n",
    "print(\"ZINB\", imputation_error(X_ZINB, X_train[:10000], X_zero, i, j, ix))"
   ]
  },
  {
   "cell_type": "code",
   "execution_count": 11,
   "metadata": {},
   "outputs": [
    {
     "name": "stdout",
     "output_type": "stream",
     "text": [
      "('MAGIC', 1.7571007940906977)\n"
     ]
    }
   ],
   "source": [
    "#MAGIC Imputation\n",
    "mean_MAGIC = np.load(data_path + \"imputation/X_zero_MAGIC.npy\")\n",
    "print(\"MAGIC\", imputation_error(mean_MAGIC, X_train[:10000], X_zero, i, j, ix))"
   ]
  },
  {
   "cell_type": "code",
   "execution_count": null,
   "metadata": {
    "collapsed": true
   },
   "outputs": [],
   "source": []
  }
 ],
 "metadata": {
  "kernelspec": {
   "display_name": "Python 2",
   "language": "python",
   "name": "python2"
  },
  "language_info": {
   "codemirror_mode": {
    "name": "ipython",
    "version": 2
   },
   "file_extension": ".py",
   "mimetype": "text/x-python",
   "name": "python",
   "nbconvert_exporter": "python",
   "pygments_lexer": "ipython2",
   "version": "2.7.12"
  }
 },
 "nbformat": 4,
 "nbformat_minor": 2
}
