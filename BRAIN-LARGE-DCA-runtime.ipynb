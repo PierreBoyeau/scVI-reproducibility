{
 "cells": [
  {
   "cell_type": "code",
   "execution_count": 1,
   "metadata": {},
   "outputs": [
    {
     "name": "stderr",
     "output_type": "stream",
     "text": [
      "/home/ec2-user/anaconda3/envs/tensorflow_p36/lib/python3.6/site-packages/h5py/__init__.py:36: FutureWarning: Conversion of the second argument of issubdtype from `float` to `np.floating` is deprecated. In future, it will be treated as `np.float64 == np.dtype(float).type`.\n",
      "  from ._conv import register_converters as _register_converters\n",
      "Using TensorFlow backend.\n"
     ]
    }
   ],
   "source": [
    "%load_ext autoreload\n",
    "%autoreload 2\n",
    "\n",
    "\n",
    "from dca.api import dca\n",
    "import anndata\n",
    "\n",
    "import h5py\n",
    "import matplotlib.pyplot as plt\n",
    "\n",
    "import numpy as np\n",
    "import time"
   ]
  },
  {
   "cell_type": "code",
   "execution_count": 2,
   "metadata": {},
   "outputs": [],
   "source": [
    "data_path = \"data_small.hdf5\"\n",
    "f = h5py.File(data_path)"
   ]
  },
  {
   "cell_type": "code",
   "execution_count": 3,
   "metadata": {},
   "outputs": [
    {
     "name": "stdout",
     "output_type": "stream",
     "text": [
      "4000  cells\n",
      "Running DCA\n",
      "DCA: Successfully preprocessed 720 genes and 4000 cells.\n",
      "Calculating low dimensional representations...\n",
      "Calculating reconstructions...\n",
      "CPU times: user 4min 16s, sys: 22.4 s, total: 4min 38s\n",
      "Wall time: 2min 32s\n",
      "10000  cells\n",
      "Running DCA\n",
      "DCA: Successfully preprocessed 720 genes and 10000 cells.\n",
      "Calculating low dimensional representations...\n",
      "Calculating reconstructions...\n",
      "CPU times: user 9min 57s, sys: 48.7 s, total: 10min 46s\n",
      "Wall time: 5min 51s\n",
      "15000  cells\n",
      "Running DCA\n",
      "DCA: Successfully preprocessed 720 genes and 15000 cells.\n",
      "Calculating low dimensional representations...\n",
      "Calculating reconstructions...\n",
      "CPU times: user 20min 25s, sys: 1min 39s, total: 22min 5s\n",
      "Wall time: 12min 1s\n",
      "30000  cells\n",
      "Running DCA\n",
      "DCA: Successfully preprocessed 720 genes and 30000 cells.\n",
      "Calculating low dimensional representations...\n",
      "Calculating reconstructions...\n",
      "CPU times: user 26min 12s, sys: 2min 9s, total: 28min 22s\n",
      "Wall time: 15min 28s\n",
      "50000  cells\n",
      "Running DCA\n",
      "DCA: Successfully preprocessed 720 genes and 50000 cells.\n",
      "Calculating low dimensional representations...\n",
      "Calculating reconstructions...\n",
      "CPU times: user 35min 50s, sys: 2min 55s, total: 38min 45s\n",
      "Wall time: 21min 9s\n",
      "100000  cells\n",
      "Running DCA\n",
      "DCA: Successfully preprocessed 720 genes and 100000 cells.\n",
      "Calculating low dimensional representations...\n",
      "Calculating reconstructions...\n",
      "CPU times: user 1h 16min 19s, sys: 6min 18s, total: 1h 22min 37s\n",
      "Wall time: 45min\n"
     ]
    }
   ],
   "source": [
    "n_cells_list = [4000, 10000, 15000, 30000, 50000, 100000]\n",
    "for n_cells in n_cells_list:\n",
    "    print(n_cells, \" cells\")\n",
    "    \n",
    "    print(\"Running DCA\")\n",
    "    train = anndata.AnnData(f[\"data_train\"][:n_cells])\n",
    "    %time res = dca(train)"
   ]
  },
  {
   "cell_type": "code",
   "execution_count": 25,
   "metadata": {},
   "outputs": [
    {
     "name": "stdout",
     "output_type": "stream",
     "text": [
      "Running DCA\n"
     ]
    }
   ],
   "source": [
    "#dump this into a standalone py file, might not run well on a notebook\n",
    "print(\"Running DCA\")\n",
    "train = anndata.AnnData(f[\"data_train\"][:1000000])\n",
    "%time dca(train, verbose=True)"
   ]
  }
 ],
 "metadata": {
  "kernelspec": {
   "display_name": "Environment (conda_tensorflow_p36)",
   "language": "python",
   "name": "conda_tensorflow_p36"
  },
  "language_info": {
   "codemirror_mode": {
    "name": "ipython",
    "version": 3
   },
   "file_extension": ".py",
   "mimetype": "text/x-python",
   "name": "python",
   "nbconvert_exporter": "python",
   "pygments_lexer": "ipython3",
   "version": "3.6.4"
  }
 },
 "nbformat": 4,
 "nbformat_minor": 2
}
