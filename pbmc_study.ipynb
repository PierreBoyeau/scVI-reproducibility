{
 "cells": [
  {
   "cell_type": "code",
   "execution_count": null,
   "metadata": {},
   "outputs": [],
   "source": [
    "import numpy as np\n",
    "import os\n",
    "import matplotlib.pyplot as plt\n",
    "import plotly.graph_objs as go\n",
    "import plotly.express as px\n",
    "import plotly as py\n",
    "import pandas as pd\n",
    "from chart_studio.plotly import plot, iplot\n",
    "\n",
    "# from plotly.offline import init_notebook_mode, iplot\n",
    "from tqdm import tqdm_notebook\n",
    "\n",
    "from scvi.dataset import PbmcDataset\n",
    "from scvi.models import VAE, IAVAE\n",
    "from scvi.inference import UnsupervisedTrainer\n",
    "from scvi.utils import (\n",
    "    demultiply,\n",
    "    make_dir_if_necessary,\n",
    "    predict_de_genes,\n",
    "    save_fig,\n",
    "    save_pickle,\n",
    ")\n",
    "from scvi_utils import (\n",
    "    estimate_de_proba,\n",
    "    estimate_lfc_density,\n",
    "    estimate_lfc_mean,\n",
    "    train_model,\n",
    "    multi_train_estimates,\n",
    ")\n",
    "from R_interop import all_predictions, all_de_predictions\n",
    "\n",
    "\n",
    "N_EPOCHS = 200\n",
    "DELTA = 0.5\n",
    "# SIZES = [5, 10, 20, 30, 50, 100]\n",
    "MODE = \"cloud\"\n",
    "SIZE = 100\n",
    "SIZES = [SIZE]\n",
    "N_SIZES = len(SIZES)\n",
    "\n",
    "Q0 = 5e-2\n",
    "N_TRAININGS = 5\n",
    "N_PICKS = 10\n",
    "\n",
    "np.random.seed(42)\n",
    "\n",
    "PATH_TO_SCRIPTS = \"/home/ubuntu/conquer_comparison/scripts\"\n",
    "DIR_PATH = \"lfc_estimates/pbmc\"\n",
    "make_dir_if_necessary(DIR_PATH)\n",
    "\n",
    "label_a = 0\n",
    "label_b = 4"
   ]
  },
  {
   "cell_type": "code",
   "execution_count": null,
   "metadata": {},
   "outputs": [],
   "source": [
    "import chart_studio.plotly as py\n",
    "\n",
    "py.sign_in(\"pierreboyeau\", \"2wvdnWZ2Qut1zD07ADVy\")"
   ]
  },
  {
   "cell_type": "markdown",
   "metadata": {},
   "source": [
    "# Import Dataset"
   ]
  },
  {
   "cell_type": "code",
   "execution_count": null,
   "metadata": {},
   "outputs": [],
   "source": [
    "dataset = PbmcDataset()\n",
    "\n",
    "unique_elements, counts_elements = np.unique(\n",
    "    dataset.labels.squeeze(), return_counts=True\n",
    ")\n",
    "\n",
    "df = pd.DataFrame(dict(counts=counts_elements, cell_types=dataset.cell_types))\n",
    "fig = px.scatter(df, y=\"counts\", x=\"cell_types\")\n",
    "fig.show()\n",
    "n_genes = dataset.nb_genes"
   ]
  },
  {
   "cell_type": "code",
   "execution_count": null,
   "metadata": {},
   "outputs": [],
   "source": [
    "print(\"Cell types: \", dataset.cell_types)\n",
    "print('Gene names: ', dataset.gene_names)\n",
    "\n",
    "microarray_info = dataset.de_metadata.set_index('ENSG')\n",
    "microarray_info = microarray_info.loc[dataset.gene_names]\n",
    "\n",
    "display(dataset.de_metadata.head())\n",
    "print(dataset.de_metadata.info())"
   ]
  },
  {
   "cell_type": "code",
   "execution_count": null,
   "metadata": {},
   "outputs": [],
   "source": [
    "n_examples = len(dataset)\n",
    "labels = dataset.labels.squeeze()\n",
    "# interesting_indices = np.where((labels == label_a) | (labels == label_b))[0]\n",
    "# TEST_INDICES = np.random.permutation(interesting_indices)[:800]\n",
    "TEST_INDICES = np.random.permutation(len(dataset))[:3000]\n",
    "\n",
    "x_test, y_test = dataset.X[TEST_INDICES, :], dataset.labels[TEST_INDICES, :].squeeze()\n",
    "data_path = os.path.join(DIR_PATH, 'data.npy')\n",
    "labels_path = os.path.join(DIR_PATH, 'labels.npy')\n",
    "\n",
    "np.save(\n",
    "    data_path,\n",
    "    np.array(x_test.todense()).squeeze().astype(int)\n",
    ")\n",
    "np.savetxt(\n",
    "    labels_path,\n",
    "    y_test.squeeze()\n",
    ")"
   ]
  },
  {
   "cell_type": "markdown",
   "metadata": {},
   "source": [
    "## Train parameters"
   ]
  },
  {
   "cell_type": "code",
   "execution_count": null,
   "metadata": {},
   "outputs": [],
   "source": [
    "mdl_params = dict(\n",
    "    iaf=dict(n_hidden=128, n_layers=1, do_h=True, n_latent=10, t=4),\n",
    "    mf=dict(n_hidden=128, n_layers=1, n_latent=10),\n",
    "    iaf_k5=dict(n_hidden=128, n_layers=1, do_h=True, n_latent=10, t=4),\n",
    "    mf_k5=dict(n_hidden=128, n_layers=1, n_latent=10),\n",
    ")\n",
    "train_params = dict(\n",
    "    iaf=dict(ratio_loss=True, test_indices=TEST_INDICES),\n",
    "    mf=dict(ratio_loss=True, test_indices=TEST_INDICES),\n",
    "    iaf_k5=dict(ratio_loss=True, test_indices=TEST_INDICES, k_importance_weighted=5),\n",
    "    mf_k5=dict(ratio_loss=True, test_indices=TEST_INDICES, k_importance_weighted=5)\n",
    ")\n",
    "train_fn_params = dict(\n",
    "    iaf=dict(n_epochs=N_EPOCHS, lr=1e-2),\n",
    "    mf=dict(n_epochs=N_EPOCHS, lr=1e-2),\n",
    "    iaf_k5=dict(n_epochs=N_EPOCHS, lr=1e-2),\n",
    "    mf_k5=dict(n_epochs=N_EPOCHS, lr=1e-2),\n",
    ")"
   ]
  },
  {
   "cell_type": "markdown",
   "metadata": {},
   "source": [
    "# Competitors\n"
   ]
  },
  {
   "cell_type": "code",
   "execution_count": null,
   "metadata": {},
   "outputs": [],
   "source": [
    "other_predictions = all_predictions(\n",
    "    filename=os.path.join(DIR_PATH, \"all_predictions.pickle\"),\n",
    "    n_genes=n_genes,\n",
    "    n_picks=N_PICKS,\n",
    "    sizes=SIZES,\n",
    "    data_path=data_path,\n",
    "    labels_path=labels_path,\n",
    "    path_to_scripts=PATH_TO_SCRIPTS,\n",
    "    label_a=label_a,\n",
    "    label_b=label_b,\n",
    "    all_nature=True\n",
    ")\n",
    "\n",
    "other_predictions = all_de_predictions(\n",
    "    other_predictions, significance_level=Q0, delta=DELTA\n",
    ")"
   ]
  },
  {
   "cell_type": "code",
   "execution_count": null,
   "metadata": {},
   "outputs": [],
   "source": [
    "# # Modif DESeq2\n",
    "# from R_interop import NDESeq2\n",
    "# from tqdm import tqdm\n",
    "\n",
    "# lfcs_deseq2 = np.zeros((N_SIZES, N_PICKS, n_genes))\n",
    "# pvals_deseq2 = np.zeros((N_SIZES, N_PICKS, n_genes))\n",
    "# for (size_ix, size) in enumerate(tqdm(SIZES)):\n",
    "#     for exp in range(N_PICKS):\n",
    "#         deseq_inference = NDESeq2(\n",
    "#             A=size,\n",
    "#             B=size,\n",
    "#             data=data_path,\n",
    "#             labels=labels_path,\n",
    "#             cluster=(label_a, label_b),\n",
    "#             path_to_scripts=PATH_TO_SCRIPTS,\n",
    "#             lfc_threshold=DELTA\n",
    "#         )\n",
    "#         res_df = deseq_inference.fit()\n",
    "#         lfcs_deseq2[size_ix, exp, :] = res_df[\"lfc\"].values\n",
    "#         pvals_deseq2[size_ix, exp, :] = res_df[\"padj\"].values\n",
    "# deseq_res = dict(lfc=lfcs_deseq2.squeeze(), pval=pvals_deseq2.squeeze())\n",
    "\n",
    "# from scvi.utils import save_pickle\n",
    "\n",
    "# print(deseq_res['pval'].shape)\n",
    "# print(other_predictions['edger']['pval'].shape)\n",
    "\n",
    "# other_predictions[\"deseq2\"] = deseq_res\n",
    "# save_pickle(data=other_predictions, filename=os.path.join(DIR_PATH, \"all_predictions.pickle\"))"
   ]
  },
  {
   "cell_type": "markdown",
   "metadata": {},
   "source": [
    "# Experiments"
   ]
  },
  {
   "cell_type": "code",
   "execution_count": null,
   "metadata": {},
   "outputs": [],
   "source": []
  },
  {
   "cell_type": "markdown",
   "metadata": {},
   "source": [
    "## Microarray"
   ]
  },
  {
   "cell_type": "code",
   "execution_count": null,
   "metadata": {},
   "outputs": [],
   "source": [
    "from sklearn.preprocessing import StandardScaler\n",
    "\n",
    "new_n_genes = 110\n",
    "std_scaler = StandardScaler(with_mean=False)\n",
    "std_scaler.fit(dataset.X.astype(np.float64))\n",
    "subset_genes = np.argsort(std_scaler.var_)[::-1][:new_n_genes]\n",
    "\n",
    "# subset_genes = np.arange(n_genes)"
   ]
  },
  {
   "cell_type": "markdown",
   "metadata": {},
   "source": [
    "### BDT : size 100"
   ]
  },
  {
   "cell_type": "code",
   "execution_count": null,
   "metadata": {},
   "outputs": [],
   "source": [
    "def bdt_densities(\n",
    "    filename, mdl_class, dataset, mdl_params, train_params, train_fn_params, sz=SIZE\n",
    "):\n",
    "    res = estimate_lfc_density(\n",
    "        filename=filename,\n",
    "        mdl_class=mdl_class,\n",
    "        dataset=dataset,\n",
    "        mdl_params=mdl_params,\n",
    "        train_params=train_params,\n",
    "        train_fn_params=train_fn_params,\n",
    "        sizes=[sz],\n",
    "        n_picks=1,\n",
    "        label_a=0,\n",
    "        label_b=4,\n",
    "        n_samples=100\n",
    "    )[sz].squeeze()\n",
    "    return res\n",
    "\n",
    "\n",
    "lfcs_mf = bdt_densities(\n",
    "    filename=os.path.join(DIR_PATH, \"bdt100MF_new.pickle\"),\n",
    "    mdl_class=VAE,\n",
    "    dataset=dataset,\n",
    "    mdl_params=mdl_params[\"mf\"],\n",
    "    train_params=train_params[\"mf\"],\n",
    "    train_fn_params=train_fn_params[\"mf\"],\n",
    ")\n",
    "\n",
    "lfcs_ia = bdt_densities(\n",
    "    filename=os.path.join(DIR_PATH, \"bdt100IAF_new.pickle\"),\n",
    "    mdl_class=IAVAE,\n",
    "    dataset=dataset,\n",
    "    mdl_params=mdl_params[\"iaf\"],\n",
    "    train_params=train_params[\"iaf\"],\n",
    "    train_fn_params=train_fn_params[\"iaf\"],\n",
    ")\n",
    "\n",
    "# lfcs_iwia = estimate_lfc_density(\n",
    "#     IAVAE,\n",
    "#     dataset=dataset,\n",
    "#     mdl_params=mdl_params[\"iaf_k5\"],\n",
    "#     train_params=train_params[\"iaf_k5\"],\n",
    "#     train_fn_params=train_fn_params[\"iaf_k5\"],\n",
    "#     sizes=[SIZE],\n",
    "#     n_picks=1,\n",
    "#     label_a=label_a,\n",
    "#     label_b=label_b\n",
    "# )[SIZE].squeeze()\n",
    "\n",
    "# lfcs_iwmf = estimate_lfc_density(\n",
    "#     IAVAE,\n",
    "#     dataset=dataset,\n",
    "#     mdl_params=mdl_params[\"mf_k5\"],\n",
    "#     train_params=train_params[\"mf_k5\"],\n",
    "#     train_fn_params=train_fn_params[\"mf_k5\"],\n",
    "#     sizes=[SIZE],\n",
    "#     n_picks=1,\n",
    "#     label_a=label_a,\n",
    "#     label_b=label_b\n",
    "# )[SIZE].squeeze()"
   ]
  },
  {
   "cell_type": "code",
   "execution_count": null,
   "metadata": {},
   "outputs": [],
   "source": [
    "lfcs_ia_100_all = lfcs_ia.reshape((-1, n_genes))\n",
    "lfcs_mf_100_all = lfcs_mf.reshape((-1, n_genes))"
   ]
  },
  {
   "cell_type": "code",
   "execution_count": null,
   "metadata": {},
   "outputs": [],
   "source": [
    "from plotly.subplots import make_subplots\n",
    "\n",
    "lfcs_mf_est = lfcs_ia.reshape((-1, n_genes))[:, subset_genes]\n",
    "lfcs_ia_est = lfcs_mf.reshape((-1, n_genes))[:, subset_genes]\n",
    "lfcs_mf_est_100 = lfcs_mf_est.copy()\n",
    "lfcs_ia_est_100 = lfcs_ia_est.copy()\n",
    "lfcs_gt = - microarray_info.BDC_logFC[subset_genes]\n",
    "\n",
    "print(lfcs_mf_est.shape)\n",
    "print(lfcs_ia_est.shape)\n",
    "print(lfcs_gt.shape)\n",
    "\n",
    "fig = make_subplots(\n",
    "    rows=1,\n",
    "    cols=2,\n",
    "    subplot_titles=(\"Mean Field\", \"Inverse Autoregressive Flows\"),\n",
    "    shared_xaxes=True,\n",
    "    shared_yaxes=True,\n",
    ")\n",
    "\n",
    "\n",
    "def add_plot(fig, lfcs_est_m, lfcs_est_err, row, col):\n",
    "    fig.add_trace(\n",
    "        go.Scatter(\n",
    "            x=lfcs_gt,\n",
    "            y=lfcs_est_m,\n",
    "            error_y=dict(type=\"data\", array=lfcs_est_err, visible=True),\n",
    "            mode=\"markers\",\n",
    "        ),\n",
    "        row=row,\n",
    "        col=col,\n",
    "    )\n",
    "    return\n",
    "\n",
    "\n",
    "add_plot(fig, lfcs_mf_est.mean(0), 2.0*lfcs_mf_est.std(0), row=1, col=1)\n",
    "fig.add_trace(\n",
    "    go.Scatter(\n",
    "        x=[-5, 5],\n",
    "        y=[-5, 5],\n",
    "        mode=\"lines\",\n",
    "        line=dict(color=\"black\", width=4, dash=\"dash\"),\n",
    "    ),\n",
    "    row=1,\n",
    "    col=1,\n",
    ")\n",
    "add_plot(fig, lfcs_ia_est.mean(0), 2.0*lfcs_ia_est.std(0), row=1, col=2)\n",
    "fig.add_trace(\n",
    "    go.Scatter(\n",
    "        x=[-3, 3],\n",
    "        y=[-3, 3],\n",
    "        mode=\"lines\",\n",
    "        line=dict(color=\"black\", width=4, dash=\"dash\"),\n",
    "    ),\n",
    "    row=1,\n",
    "    col=2,\n",
    ")\n",
    "\n",
    "fig.update_xaxes(title_text=\"Ground Truth LFC\", row=1, col=1)\n",
    "# fig.update_xaxes(title_text=\"Ground Truth LFC\", row=2, col=1)\n",
    "fig.update_yaxes(title_text=\"Predicted LFC\", row=1, col=1)\n",
    "# fig.update_yaxes(title_text=\"Predicted LFC\", row=2, col=1)\n",
    "\n",
    "\n",
    "fig.update_layout(\n",
    "    height=600, width=1000, title_text=\"LFC estimation for {} sample cells B cells/DT cells\".format(SIZE)\n",
    ")\n",
    "# iplot(fig, filename=\"pbmc_microarray_lfc_with_uncertainty_{}cells_BDT\".format(SIZE), sharing=\"private\")\n",
    "fig.show()"
   ]
  },
  {
   "cell_type": "markdown",
   "metadata": {},
   "source": [
    "### BDT Size 10"
   ]
  },
  {
   "cell_type": "code",
   "execution_count": null,
   "metadata": {},
   "outputs": [],
   "source": [
    "lfcs_mf = bdt_densities(\n",
    "    filename=os.path.join(DIR_PATH, \"bdt10MF.pickle\"),\n",
    "    mdl_class=VAE,\n",
    "    dataset=dataset,\n",
    "    mdl_params=mdl_params[\"mf\"],\n",
    "    train_params=train_params[\"mf\"],\n",
    "    train_fn_params=train_fn_params[\"mf\"],\n",
    "    sz=10\n",
    ")\n",
    "\n",
    "lfcs_ia = bdt_densities(\n",
    "    filename=os.path.join(DIR_PATH, \"bdt10IAFF.pickle\"),\n",
    "    mdl_class=IAVAE,\n",
    "    dataset=dataset,\n",
    "    mdl_params=mdl_params[\"iaf\"],\n",
    "    train_params=train_params[\"iaf\"],\n",
    "    train_fn_params=train_fn_params[\"iaf\"],\n",
    "    sz=10\n",
    ")"
   ]
  },
  {
   "cell_type": "code",
   "execution_count": null,
   "metadata": {},
   "outputs": [],
   "source": [
    "lfcs_mf_est = lfcs_ia.reshape((-1, n_genes))\n",
    "lfcs_ia_est = lfcs_mf.reshape((-1, n_genes))\n",
    "lfcs_gt = - microarray_info.BDC_logFC[subset_genes]\n",
    "\n",
    "fig = make_subplots(\n",
    "    rows=1,\n",
    "    cols=1,\n",
    "    subplot_titles=(\"Mean Field\", \"Inverse Autoregressive Flows\"),\n",
    "    shared_xaxes=True,\n",
    "    shared_yaxes=True,\n",
    ")\n",
    "\n",
    "add_plot(fig, lfcs_mf_est.mean(0)[subset_genes], 2.0*lfcs_mf_est.std(0)[subset_genes], row=1, col=1)\n",
    "fig.add_trace(\n",
    "    go.Scatter(\n",
    "        x=[-5, 5],\n",
    "        y=[-5, 5],\n",
    "        mode=\"lines\",\n",
    "        line=dict(color=\"black\", width=4, dash=\"dash\"),\n",
    "    ),\n",
    "    row=1,\n",
    "    col=1,\n",
    ")\n",
    "# add_plot(fig, lfcs_ia_est.mean(0)[subset_genes], 2.0*lfcs_ia_est.std(0)[subset_genes], row=1, col=2)\n",
    "# fig.add_trace(\n",
    "#     go.Scatter(\n",
    "#         x=[-5, 5],\n",
    "#         y=[-5, 5],\n",
    "#         mode=\"lines\",\n",
    "#         line=dict(color=\"black\", width=4, dash=\"dash\"),\n",
    "#     ),\n",
    "#     row=1,\n",
    "#     col=2,\n",
    "# )\n",
    "\n",
    "fig.update_xaxes(title_text=\"Ground Truth LFC\", row=1, col=1)\n",
    "# fig.update_xaxes(title_text=\"Ground Truth LFC\", row=2, col=1)\n",
    "fig.update_yaxes(title_text=\"Predicted LFC\", row=1, col=1)\n",
    "# fig.update_yaxes(title_text=\"Predicted LFC\", row=2, col=1)\n",
    "\n",
    "fig.update_layout(\n",
    "    height=600, width=1000, title_text=\"LFC estimation for {} sample cells B cells/DT cells\".format(10)\n",
    ")\n",
    "\n",
    "iplot(fig, filename=\"pbmc_microarray_lfc_with_uncertainty_{}cellsBDT\".format(10), sharing=\"private\")"
   ]
  },
  {
   "cell_type": "markdown",
   "metadata": {},
   "source": [
    "### BDT Other techniques"
   ]
  },
  {
   "cell_type": "code",
   "execution_count": null,
   "metadata": {},
   "outputs": [],
   "source": [
    "lfcs_gt = -microarray_info.BDC_logFC"
   ]
  },
  {
   "cell_type": "markdown",
   "metadata": {},
   "source": [
    "#### Computations"
   ]
  },
  {
   "cell_type": "code",
   "execution_count": null,
   "metadata": {},
   "outputs": [],
   "source": [
    "where_a = np.where(y_test == label_a)[0]\n",
    "where_b = np.where(y_test == label_b)[0]\n",
    "idx_a = np.random.permutation(where_a)[:100]\n",
    "idx_b = np.random.permutation(where_b)[:100]\n",
    "\n",
    "h_a = x_test[idx_a].mean(axis=0)\n",
    "h_b = x_test[idx_b].mean(axis=0)\n",
    "lfc_baseline = np.array(np.log2(h_a) - np.log2(h_b))\n",
    "lfc_baseline = np.clip(lfc_baseline, a_min=-5, a_max=5).squeeze()\n",
    "lfc_baseline[np.isnan(lfc_baseline)] = 0.0"
   ]
  },
  {
   "cell_type": "code",
   "execution_count": null,
   "metadata": {},
   "outputs": [],
   "source": [
    "mast_predictions = other_predictions[\"mast\"]\n",
    "lfcs_mast = -mast_predictions[\"lfc\"]\n",
    "stds_mast = np.sqrt(mast_predictions[\"var_lfc\"].squeeze())\n",
    "\n",
    "lfcs_mast[np.isnan(lfcs_mast)] = 0.0\n",
    "stds_mast[np.isnan(stds_mast)] = 0.0"
   ]
  },
  {
   "cell_type": "code",
   "execution_count": null,
   "metadata": {},
   "outputs": [],
   "source": [
    "lfcs_deseq2 = other_predictions[\"deseq2\"][\"lfc\"]\n",
    "lfcs_deseq2[np.isnan(lfcs_deseq2)] = 0.0\n",
    "\n",
    "lfcs_edger = -other_predictions[\"edger\"][\"lfc\"]\n",
    "lfcs_edger[np.isnan(lfcs_edger)] = 0.0"
   ]
  },
  {
   "cell_type": "code",
   "execution_count": null,
   "metadata": {},
   "outputs": [],
   "source": [
    "import statsmodels.api as sm\n",
    "lfcs_mf_100_all\n",
    "mdls = [\n",
    "    (-lfcs_mf_100_all.mean(0), \"MF\"),\n",
    "    (-lfcs_ia_100_all.mean(0), \"IAF\"),\n",
    "    (-lfcs_mast[-1, :], \"MAST\"),\n",
    "    (-lfcs_deseq2[-1, :], \"DESeq2\"),\n",
    "    (lfcs_edger[-1, :], \"EdgeR\"),\n",
    "    (lfc_baseline, \"Baseline\"),\n",
    "]\n",
    "\n",
    "\n",
    "reg_results = dict()\n",
    "for preds, name in mdls:\n",
    "    y = preds\n",
    "    X = microarray_info.BDC_logFC\n",
    "    X = sm.add_constant(X)\n",
    "\n",
    "    model = sm.OLS(y, X).fit()\n",
    "    display(name, model.summary())\n",
    "    reg_results[name] = dict(rsquared=model.rsquared_adj, coef=model.params.BDC_logFC)"
   ]
  },
  {
   "cell_type": "markdown",
   "metadata": {},
   "source": [
    "#### Plots"
   ]
  },
  {
   "cell_type": "code",
   "execution_count": null,
   "metadata": {},
   "outputs": [],
   "source": [
    "reg_results.keys()"
   ]
  },
  {
   "cell_type": "code",
   "execution_count": null,
   "metadata": {},
   "outputs": [],
   "source": [
    "\"{0:.2f}, {1:.2f}\".format(1000.01022, 0.0100020)"
   ]
  },
  {
   "cell_type": "code",
   "execution_count": null,
   "metadata": {},
   "outputs": [],
   "source": [
    "layout = go.Layout(title_text=\"LFC point Predictions\")\n",
    "fig = go.Figure(layout=layout)\n",
    "\n",
    "fig.add_traces(\n",
    "    [\n",
    "        go.Scatter(\n",
    "            x=lfcs_gt[subset_genes],\n",
    "            y=lfcs_mf_est.mean(0),\n",
    "            #             error_y=dict(type=\"data\", array=2.0*stds_mast, visible=True),\n",
    "            mode=\"markers\",\n",
    "            name=\"MF @R^2 : {0:.2f}, Slope: {1:.2f}\".format(\n",
    "                reg_results[\"MF\"][\"rsquared\"], reg_results[\"MF\"][\"coef\"]\n",
    "            ),\n",
    "        ),\n",
    "        go.Scatter(\n",
    "            x=lfcs_gt[subset_genes],\n",
    "            y=lfcs_deseq2[-1, subset_genes],\n",
    "            mode=\"markers\",\n",
    "            name=\"DESeq2 @R^2 : {0:.2f}, Slope: {1:.2f}\".format(\n",
    "                reg_results[\"DESeq2\"][\"rsquared\"], reg_results[\"DESeq2\"][\"coef\"]\n",
    "            ),\n",
    "        ),\n",
    "        go.Scatter(\n",
    "            x=lfcs_gt[subset_genes],\n",
    "            y=lfc_baseline,\n",
    "            mode=\"markers\",\n",
    "            name=\"Baseline @R^2 : {0:.2f}, Slope: {1:.2f}\".format(\n",
    "                reg_results[\"Baseline\"][\"rsquared\"], reg_results[\"Baseline\"][\"coef\"]\n",
    "            ),\n",
    "        ),\n",
    "        go.Scatter(\n",
    "            x=[-5, 5],\n",
    "            y=[-5, 5],\n",
    "            mode=\"lines\",\n",
    "            line=dict(color=\"black\", width=4, dash=\"dash\"),\n",
    "            name=\"Reference\",\n",
    "            showlegend=False\n",
    "        ),\n",
    "    ]\n",
    ")\n",
    "\n",
    "\n",
    "#         go.Scatter(\n",
    "#             x=lfcs_gt[subset_genes],\n",
    "#             y=lfcs_edger[-1, subset_genes],\n",
    "#             mode=\"markers\",\n",
    "#             name=\"EdgeR\",\n",
    "#             text=[\n",
    "#                 \"R^2 : {0:.2f}, Slope: {1:.2f}\".format(\n",
    "#                     reg_results[\"EdgeR\"][\"rsquared\"], reg_results[\"EdgeR\"][\"coef\"]\n",
    "#                 )\n",
    "#             ],\n",
    "#         ),\n",
    "\n",
    "#         go.Scatter(\n",
    "#             x=lfcs_gt[subset_genes],\n",
    "#             y=lfcs_mast[-1, subset_genes],\n",
    "#             #             error_y=dict(type=\"data\", array=2.0*stds_mast, visible=True),\n",
    "#             mode=\"markers\",\n",
    "#             name=\"MAST\",\n",
    "#             text=[\n",
    "#                 \"R^2 : {0:.2f}, Slope: {1:.2f}\".format(\n",
    "#                     reg_results[\"MAST\"][\"rsquared\"], reg_results[\"MAST\"][\"coef\"]\n",
    "#                 )\n",
    "#             ],\n",
    "#         ),\n",
    "\n",
    "fig.show()\n",
    "# iplot(fig, filename=\"pbmc_microarray_diags\", sharing=\"private\")"
   ]
  },
  {
   "cell_type": "markdown",
   "metadata": {},
   "source": [
    "**When you take all genes into account, scVI clearly better predicts LFC than its competitors**"
   ]
  },
  {
   "cell_type": "markdown",
   "metadata": {},
   "source": [
    "### CD: size 100"
   ]
  },
  {
   "cell_type": "code",
   "execution_count": null,
   "metadata": {},
   "outputs": [],
   "source": [
    "dataset.de_metadata.info()"
   ]
  },
  {
   "cell_type": "code",
   "execution_count": null,
   "metadata": {},
   "outputs": [],
   "source": [
    "dataset.cell_types"
   ]
  },
  {
   "cell_type": "code",
   "execution_count": null,
   "metadata": {},
   "outputs": [],
   "source": [
    "def cd_densities(\n",
    "    filename, mdl_class, dataset, mdl_params, train_params, train_fn_params, sz=SIZE\n",
    "):\n",
    "    res = estimate_lfc_density(\n",
    "        filename=filename,\n",
    "        mdl_class=mdl_class,\n",
    "        dataset=dataset,\n",
    "        mdl_params=mdl_params,\n",
    "        train_params=train_params,\n",
    "        train_fn_params=train_fn_params,\n",
    "        sizes=[sz],\n",
    "        n_picks=1,\n",
    "        label_a=1,\n",
    "        label_b=3,\n",
    "        n_samples=100\n",
    "    )[sz].squeeze()\n",
    "    return res"
   ]
  },
  {
   "cell_type": "code",
   "execution_count": null,
   "metadata": {},
   "outputs": [],
   "source": [
    "lfcs_mf = cd_densities(\n",
    "    filename=os.path.join(DIR_PATH, \"cd100MF23.pickle\"),\n",
    "    mdl_class=VAE,\n",
    "    dataset=dataset,\n",
    "    mdl_params=mdl_params[\"mf\"],\n",
    "    train_params=train_params[\"mf\"],\n",
    "    train_fn_params=train_fn_params[\"mf\"],\n",
    ")\n",
    "\n",
    "# lfcs_ia = cd_densities(\n",
    "#     filename=os.path.join(DIR_PATH, \"cd100IAF12.pickle\"),\n",
    "#     mdl_class=IAVAE,\n",
    "#     dataset=dataset,\n",
    "#     mdl_params=mdl_params[\"mf\"],\n",
    "#     train_params=train_params[\"mf\"],\n",
    "#     train_fn_params=train_fn_params[\"mf\"],\n",
    "# )\n"
   ]
  },
  {
   "cell_type": "code",
   "execution_count": null,
   "metadata": {},
   "outputs": [],
   "source": [
    "subset_genes = np.arange(n_genes)"
   ]
  },
  {
   "cell_type": "code",
   "execution_count": null,
   "metadata": {},
   "outputs": [],
   "source": [
    "lfcs_mf_est = lfcs_ia.reshape((-1, n_genes))[:, subset_genes]\n",
    "lfcs_ia_est = lfcs_mf.reshape((-1, n_genes))[:, subset_genes]\n",
    "lfcs_gt = - microarray_info.CD_logFC[subset_genes]\n",
    "\n",
    "fig = make_subplots(\n",
    "    rows=1,\n",
    "    cols=2,\n",
    "    subplot_titles=(\"Mean Field\", \"Inverse Autoregressive Flows\"),\n",
    "    shared_xaxes=True,\n",
    "    shared_yaxes=True,\n",
    ")\n",
    "\n",
    "add_plot(fig, lfcs_mf_est.mean(0), 0.05*lfcs_mf_est.std(0), row=1, col=1)\n",
    "fig.add_trace(\n",
    "    go.Scatter(\n",
    "        x=[-5, 5],\n",
    "        y=[-5, 5],\n",
    "        mode=\"lines\",\n",
    "        line=dict(color=\"black\", width=4, dash=\"dash\"),\n",
    "    ),\n",
    "    row=1,\n",
    "    col=1,\n",
    ")\n",
    "# add_plot(fig, lfcs_ia_est.mean(0), 0.05*lfcs_ia_est.std(0), row=1, col=2)\n",
    "# fig.add_trace(\n",
    "#     go.Scatter(\n",
    "#         x=[-5, 5],\n",
    "#         y=[-5, 5],\n",
    "#         mode=\"lines\",\n",
    "#         line=dict(color=\"black\", width=4, dash=\"dash\"),\n",
    "#     ),\n",
    "#     row=1,\n",
    "#     col=2,\n",
    "# )\n",
    "\n",
    "fig.update_xaxes(title_text=\"Ground Truth LFC\", row=1, col=1)\n",
    "fig.update_xaxes(title_text=\"Ground Truth LFC\", row=2, col=1)\n",
    "fig.update_yaxes(title_text=\"Predicted LFC\", row=1, col=1)\n",
    "fig.update_yaxes(title_text=\"Predicted LFC\", row=2, col=1)\n",
    "\n",
    "fig.update_layout(\n",
    "    height=600, width=1000, title_text=\"LFC estimation for {} sample CD cells\".format(SIZE)\n",
    ")\n",
    "\n",
    "# iplot(fig, filename=\"pbmc_microarray_lfc_with_uncertainty_{}cellsCD\".format(SIZE), sharing=\"private\")\n",
    "fig.show()"
   ]
  },
  {
   "cell_type": "markdown",
   "metadata": {},
   "source": [
    "### CD: size 10"
   ]
  },
  {
   "cell_type": "code",
   "execution_count": null,
   "metadata": {},
   "outputs": [],
   "source": [
    "# lfcs_mf = cd_densities(\n",
    "#     filename=os.path.join(DIR_PATH, \"cd10MF.pickle\"),\n",
    "#     mdl_class=VAE,\n",
    "#     dataset=dataset,\n",
    "#     mdl_params=mdl_params[\"mf\"],\n",
    "#     train_params=train_params[\"mf\"],\n",
    "#     train_fn_params=train_fn_params[\"mf\"],\n",
    "#     sz=10\n",
    "# )\n",
    "\n",
    "# lfcs_ia = cd_densities(\n",
    "#     filename=os.path.join(DIR_PATH, \"cd10IAF.pickle\"),\n",
    "#     mdl_class=IAVAE,\n",
    "#     dataset=dataset,\n",
    "#     mdl_params=mdl_params[\"mf\"],\n",
    "#     train_params=train_params[\"mf\"],\n",
    "#     train_fn_params=train_fn_params[\"mf\"],\n",
    "#     sz=10\n",
    "# )"
   ]
  },
  {
   "cell_type": "code",
   "execution_count": null,
   "metadata": {},
   "outputs": [],
   "source": [
    "# lfcs_mf_est = lfcs_ia.reshape((-1, n_genes))[:, subset_genes]\n",
    "# lfcs_ia_est = lfcs_mf.reshape((-1, n_genes))[:, subset_genes]\n",
    "# lfcs_gt = - microarray_info.BDC_logFC[subset_genes]\n",
    "\n",
    "# fig = make_subplots(\n",
    "#     rows=1,\n",
    "#     cols=2,\n",
    "#     subplot_titles=(\"Mean Field\", \"Inverse Autoregressive Flows\"),\n",
    "#     shared_xaxes=True,\n",
    "#     shared_yaxes=True,\n",
    "# )\n",
    "\n",
    "# add_plot(fig, lfcs_mf_est.mean(0), 2.0*lfcs_mf_est.std(0), row=1, col=1)\n",
    "# fig.add_trace(\n",
    "#     go.Scatter(\n",
    "#         x=[-5, 5],\n",
    "#         y=[-5, 5],\n",
    "#         mode=\"lines\",\n",
    "#         line=dict(color=\"black\", width=4, dash=\"dash\"),\n",
    "#     ),\n",
    "#     row=1,\n",
    "#     col=1,\n",
    "# )\n",
    "# add_plot(fig, lfcs_ia_est.mean(0), 2.0*lfcs_ia_est.std(0), row=1, col=2)\n",
    "# fig.add_trace(\n",
    "#     go.Scatter(\n",
    "#         x=[-5, 5],\n",
    "#         y=[-5, 5],\n",
    "#         mode=\"lines\",\n",
    "#         line=dict(color=\"black\", width=4, dash=\"dash\"),\n",
    "#     ),\n",
    "#     row=1,\n",
    "#     col=2,\n",
    "# )\n",
    "\n",
    "# fig.update_xaxes(title_text=\"Ground Truth LFC\", row=1, col=1)\n",
    "# fig.update_xaxes(title_text=\"Ground Truth LFC\", row=2, col=1)\n",
    "# fig.update_yaxes(title_text=\"Predicted LFC\", row=1, col=1)\n",
    "# fig.update_yaxes(title_text=\"Predicted LFC\", row=2, col=1)\n",
    "\n",
    "# fig.update_layout(\n",
    "#     height=600, width=1000, title_text=\"LFC estimation for {} sample CD cells\".format(10)\n",
    "# )\n",
    "\n",
    "# iplot(fig, filename=\"pbmc_microarray_lfc_with_uncertainty_{}cellsCD\".format(10), sharing=\"private\")"
   ]
  },
  {
   "cell_type": "markdown",
   "metadata": {},
   "source": [
    "## Overlap"
   ]
  },
  {
   "cell_type": "markdown",
   "metadata": {},
   "source": [
    "Voronoi Graph AKA Venn Graph"
   ]
  },
  {
   "cell_type": "code",
   "execution_count": null,
   "metadata": {},
   "outputs": [],
   "source": [
    "os.listdir(DIR_PATH)"
   ]
  },
  {
   "cell_type": "code",
   "execution_count": null,
   "metadata": {},
   "outputs": [],
   "source": [
    "de_probas_mf = estimate_de_proba(\n",
    "    filename=os.path.join(DIR_PATH, \"de_probas_mfV2.npy\"),\n",
    "    mdl_class=VAE,\n",
    "    dataset=dataset,\n",
    "    mdl_params=mdl_params[\"mf\"],\n",
    "    train_params=train_params[\"mf\"],\n",
    "    train_fn_params=train_fn_params[\"mf\"],\n",
    "    sizes=[100],\n",
    "    n_trainings=1,\n",
    "    n_picks=1,\n",
    "    label_a=label_a,\n",
    "    n_samples=300,\n",
    "    label_b=label_b\n",
    ").squeeze()\n",
    "\n",
    "de_probas_iaf = estimate_de_proba(\n",
    "    filename=os.path.join(DIR_PATH, \"de_probas_iafV2.npy\"),\n",
    "    mdl_class=IAVAE,\n",
    "    dataset=dataset,\n",
    "    mdl_params=mdl_params[\"iaf\"],\n",
    "    train_params=train_params[\"iaf\"],\n",
    "    train_fn_params=train_fn_params[\"iaf\"],\n",
    "    sizes=[100],\n",
    "    n_trainings=1,\n",
    "    n_picks=1,\n",
    "    label_a=label_a,\n",
    "    n_samples=300,\n",
    "    label_b=label_b\n",
    ").squeeze()"
   ]
  },
  {
   "cell_type": "code",
   "execution_count": null,
   "metadata": {},
   "outputs": [],
   "source": [
    "is_pred_de_mf = predict_de_genes(de_probas_mf, desired_fdr=Q0)\n",
    "is_pred_de_iaf = predict_de_genes(de_probas_iaf, desired_fdr=Q0)"
   ]
  },
  {
   "cell_type": "code",
   "execution_count": null,
   "metadata": {},
   "outputs": [],
   "source": [
    "print(other_predictions[\"deseq2\"][\"pval\"].shape, other_predictions[\"deseq2\"][\"lfc\"].shape)"
   ]
  },
  {
   "cell_type": "code",
   "execution_count": null,
   "metadata": {},
   "outputs": [],
   "source": [
    "is_pred_deseq2 = other_predictions[\"deseq2\"][\"is_de\"]\n",
    "is_pred_edger = other_predictions[\"edger\"][\"is_de\"]\n",
    "is_pred_mast = other_predictions[\"mast\"][\"is_de\"]"
   ]
  },
  {
   "cell_type": "code",
   "execution_count": null,
   "metadata": {},
   "outputs": [],
   "source": [
    "# from matplotlib_venn import venn3\n",
    "\n",
    "# labels = np.arange(n_genes)\n",
    "# de_genes_scvi = set(labels[is_pred_de_mf])\n",
    "# de_genes_deseq2 = set(labels[is_pred_deseq2])\n",
    "# de_genes_edger = set(labels[is_pred_edger])\n",
    "# de_genes_mast = set(labels[is_pred_mast])\n",
    "\n",
    "# venn3(subsets=[de_genes_scvi, de_genes_deseq2, de_genes_mast], set_labels=['scVI', 'DESeq2', \"MAST\"])\n",
    "# plt.show()\n",
    "# venn3(subsets=[de_genes_scvi, de_genes_deseq2, de_genes_edger], set_labels=['scVI', 'DESeq2', \"EdgeR\"])\n",
    "# plt.show()"
   ]
  },
  {
   "cell_type": "markdown",
   "metadata": {},
   "source": [
    "## FDR and FNR (sanity check)"
   ]
  },
  {
   "cell_type": "code",
   "execution_count": null,
   "metadata": {},
   "outputs": [],
   "source": [
    "# def get_fnr_fdr(y_true, y_pred):\n",
    "#     return dict(\n",
    "#         fnr=(y_true * (~y_pred)).sum() / (y_true).sum(),\n",
    "#         fdr=((~y_true) * (y_pred)).sum() / (y_pred).sum(),\n",
    "#     )\n",
    "\n",
    "\n",
    "# res_df = pd.DataFrame(\n",
    "#     dict(\n",
    "#         MF=get_fnr_fdr(is_pred_de_mf, is_significant_de),\n",
    "#         DESeq2=get_fnr_fdr(is_pred_deseq2, is_significant_de),\n",
    "#         EdgeR=get_fnr_fdr(is_pred_edger, is_significant_de),\n",
    "#         MAST=get_fnr_fdr(is_pred_mast, is_significant_de),\n",
    "#     )\n",
    "# ).T\n",
    "\n",
    "# res_df.plot.bar()"
   ]
  },
  {
   "cell_type": "markdown",
   "metadata": {},
   "source": [
    "## PR Curves (sanity check)"
   ]
  },
  {
   "cell_type": "code",
   "execution_count": null,
   "metadata": {},
   "outputs": [],
   "source": [
    "from sklearn.metrics import precision_recall_curve\n",
    "\n",
    "preds_mf = de_probas_mf\n",
    "preds_iaf = de_probas_iaf\n",
    "preds_deseq2 = -other_predictions['deseq2']['pval'][0, :]\n",
    "preds_edger = -other_predictions['edger']['pval'][0, :]\n",
    "preds_mast = -other_predictions['mast']['pval'][0, :]"
   ]
  },
  {
   "cell_type": "code",
   "execution_count": null,
   "metadata": {},
   "outputs": [],
   "source": [
    "dataset.de_metadata.info()"
   ]
  },
  {
   "cell_type": "code",
   "execution_count": null,
   "metadata": {},
   "outputs": [],
   "source": [
    "is_significant_de = (dataset.de_metadata[\"BDC_adj.P.Val\"] <= Q0) \n",
    "# * (dataset.de_metadata[\"BDC_logFC\"].abs() >= DELTA)"
   ]
  },
  {
   "cell_type": "code",
   "execution_count": null,
   "metadata": {},
   "outputs": [],
   "source": [
    "from sklearn.metrics import precision_recall_curve, average_precision_score\n",
    "\n",
    "def plot_pr(fig, preds, y_true, name):\n",
    "    average_precision = average_precision_score(y_true, preds)\n",
    "    preds[np.isnan(preds)] = np.min(preds[~np.isnan(preds)])\n",
    "    precs, recs, _ = precision_recall_curve(y_true=y_true, probas_pred=preds)\n",
    "    fig.add_trace(\n",
    "        go.Scatter(\n",
    "            x=recs,\n",
    "            y=precs,\n",
    "            name=name+'@AP: {0:0.2f}'.format(average_precision)\n",
    "        )\n",
    "    )\n",
    "    return\n",
    "layout = go.Layout(\n",
    "    title='Precision Recall Curves',\n",
    "    xaxis=dict(title='Recall'),\n",
    "    yaxis=dict(title='Precision'),\n",
    "    width=800,\n",
    "    height=600,\n",
    ")\n",
    "fig = go.Figure(layout=layout)\n",
    "plot_pr(fig=fig, preds=preds_mf, y_true=is_significant_de, name='MF')\n",
    "plot_pr(fig=fig, preds=preds_iaf, y_true=is_significant_de, name='IAF')\n",
    "plot_pr(fig=fig, preds=preds_deseq2, y_true=is_significant_de, name='DESeq2')\n",
    "plot_pr(fig=fig, preds=preds_edger, y_true=is_significant_de, name='EdgeR')\n",
    "plot_pr(fig=fig, preds=preds_mast, y_true=is_significant_de, name='MAST')\n",
    "\n",
    "iplot(fig, filename=\"pbmc_microarray_pr_curves\", sharing=\"private\")"
   ]
  },
  {
   "cell_type": "markdown",
   "metadata": {},
   "source": [
    "## Robustness"
   ]
  },
  {
   "cell_type": "markdown",
   "metadata": {},
   "source": [
    "As Usual Graph"
   ]
  },
  {
   "cell_type": "code",
   "execution_count": null,
   "metadata": {},
   "outputs": [],
   "source": []
  },
  {
   "cell_type": "markdown",
   "metadata": {},
   "source": [
    "## Concordance"
   ]
  },
  {
   "cell_type": "code",
   "execution_count": null,
   "metadata": {},
   "outputs": [],
   "source": [
    "from sklearn.metrics import precision_recall_curve\n",
    "\n",
    "preds_mf = de_probas_mf\n",
    "preds_iaf = de_probas_iaf\n",
    "preds_deseq2 = -other_predictions['deseq2']['pval'][0, :]\n",
    "preds_edger = -other_predictions['edger']['pval'][0, :]\n",
    "preds_mast = -other_predictions['mast']['pval'][0, :]"
   ]
  },
  {
   "cell_type": "code",
   "execution_count": null,
   "metadata": {},
   "outputs": [],
   "source": [
    "print(preds_mf.shape)\n",
    "print(preds_iaf.shape)\n",
    "print(preds_deseq2.shape)\n",
    "print(preds_edger.shape)\n",
    "print(preds_mast.shape)"
   ]
  },
  {
   "cell_type": "markdown",
   "metadata": {},
   "source": [
    "### K best"
   ]
  },
  {
   "cell_type": "code",
   "execution_count": null,
   "metadata": {},
   "outputs": [],
   "source": [
    "K = 100\n",
    "\n",
    "def get_K_best(preds):\n",
    "    sorted_best =  np.argsort(-preds) # From highest to lowest scores\n",
    "    k_best = sorted_best[:K]\n",
    "    return k_best\n",
    "\n",
    "best_mf = get_K_best(preds_mf)\n",
    "best_iaf = get_K_best(preds_iaf)\n",
    "best_deseq2 = get_K_best(preds_deseq2)\n",
    "best_edger = get_K_best(preds_edger)\n",
    "best_mast = get_K_best(preds_mast)\n",
    "\n",
    "def get_aucc_couple(best1, best2, k_val=K):\n",
    "    k_vals = np.arange(1, k_val)\n",
    "    concordances = []\n",
    "    for k in k_vals:\n",
    "        common_genes = len(np.intersect1d(best1[:k], best2[:k]))\n",
    "        concordances.append(common_genes)\n",
    "    concordances = np.array(concordances)\n",
    "    aucc = concordances.sum() / (k_val*k_val/2)\n",
    "    return aucc\n",
    "\n",
    "print(np.arange(K).sum() / (K*K/2))  # Ensure normalization OK\n",
    "\n",
    "concs_mat = np.eye(5)\n",
    "methods = [\n",
    "    best_mf,\n",
    "    best_iaf,\n",
    "    best_deseq2,\n",
    "    best_edger,\n",
    "    best_mast,\n",
    "]\n",
    "labels = [\n",
    "    \"MF\",\n",
    "    \"IAF\",\n",
    "    \"DESeq2\",\n",
    "    \"EdgeR\",\n",
    "    \"MAST\",\n",
    "]\n",
    "for (idx_a, method_a) in enumerate(tqdm_notebook(methods)):\n",
    "    for (idx_b, method_b) in enumerate(methods):\n",
    "        if idx_a == idx_b:\n",
    "            continue\n",
    "        elif idx_b <= idx_a:\n",
    "            continue\n",
    "        aucc = get_aucc_couple(method_a, method_b)\n",
    "        concs_mat[idx_a, idx_b] = aucc\n",
    "        concs_mat[idx_b, idx_a] = aucc"
   ]
  },
  {
   "cell_type": "code",
   "execution_count": null,
   "metadata": {},
   "outputs": [],
   "source": [
    "# import plotly.figure_factory as ff\n",
    "\n",
    "\n",
    "# ff.create_dendrogram(X=concs_mat, labels=labels)"
   ]
  },
  {
   "cell_type": "code",
   "execution_count": null,
   "metadata": {},
   "outputs": [],
   "source": [
    "# X = np.random.rand(10, 1)\n",
    "# names = ['Jack', 'Oxana', 'John', 'Chelsea', 'Mark', 'Alice', 'Charlie', 'Rob', 'Lisa', 'Lily']\n",
    "# fig = ff.create_dendrogram(X, orientation='left', labels=names)\n",
    "# fig.update_layout(width=800, height=800)\n",
    "# fig.show()"
   ]
  },
  {
   "cell_type": "code",
   "execution_count": null,
   "metadata": {},
   "outputs": [],
   "source": [
    "import plotly.figure_factory as ff\n",
    "\n",
    "fig = ff.create_annotated_heatmap(concs_mat, x=labels, y=labels, colorscale='Viridis', showscale=True)\n",
    "fig.show()"
   ]
  },
  {
   "cell_type": "markdown",
   "metadata": {},
   "source": [
    "### Significance"
   ]
  },
  {
   "cell_type": "code",
   "execution_count": null,
   "metadata": {},
   "outputs": [],
   "source": [
    "best_mf = np.argsort(-preds_mf)\n",
    "best_iaf = np.argsort(-preds_iaf)\n",
    "best_deseq2 = np.argsort(-preds_deseq2)\n",
    "best_edger = np.argsort(-preds_edger)\n",
    "best_mast = np.argsort(-preds_mast)\n",
    "\n",
    "concs_mat = np.eye(5)\n",
    "methods = [\n",
    "    best_mf,\n",
    "    best_iaf,\n",
    "    best_deseq2,\n",
    "    best_edger,\n",
    "    best_mast,\n",
    "]\n",
    "labels = [\n",
    "    \"MF\",\n",
    "    \"IAF\",\n",
    "    \"DESeq2\",\n",
    "    \"EdgeR\",\n",
    "    \"MAST\",\n",
    "]\n",
    "for (idx_a, method_a) in enumerate(tqdm_notebook(methods)):\n",
    "    for (idx_b, method_b) in enumerate(methods):\n",
    "        if idx_a == idx_b:\n",
    "            continue\n",
    "        elif idx_b <= idx_a:\n",
    "            continue\n",
    "        aucc = get_aucc_couple(method_a, method_b, k_val=n_genes)\n",
    "        concs_mat[idx_a, idx_b] = aucc\n",
    "        concs_mat[idx_b, idx_a] = aucc"
   ]
  },
  {
   "cell_type": "code",
   "execution_count": null,
   "metadata": {},
   "outputs": [],
   "source": [
    "import plotly.figure_factory as ff\n",
    "\n",
    "fig = ff.create_annotated_heatmap(concs_mat, x=labels, y=labels, colorscale='Viridis', showscale=True)\n",
    "fig.show()"
   ]
  },
  {
   "cell_type": "markdown",
   "metadata": {},
   "source": [
    "# Debug"
   ]
  },
  {
   "cell_type": "code",
   "execution_count": null,
   "metadata": {},
   "outputs": [],
   "source": [
    "dataset.de_metadata.info()"
   ]
  },
  {
   "cell_type": "code",
   "execution_count": null,
   "metadata": {},
   "outputs": [],
   "source": [
    "mf, mf_trainer = train_model(\n",
    "    mdl_class=VAE,\n",
    "    dataset=dataset,\n",
    "    mdl_params=mdl_params[\"mf\"],\n",
    "    train_params=train_params[\"mf\"],\n",
    "    train_fn_params=train_fn_params[\"mf\"],\n",
    ")\n",
    "iaf, iaf_trainer = train_model(\n",
    "    mdl_class=IAVAE,\n",
    "    dataset=dataset,\n",
    "    mdl_params=mdl_params[\"iaf\"],\n",
    "    train_params=train_params[\"iaf\"],\n",
    "    train_fn_params=train_fn_params[\"iaf\"]\n",
    ")\n"
   ]
  },
  {
   "cell_type": "code",
   "execution_count": null,
   "metadata": {},
   "outputs": [],
   "source": [
    "z_iaf, labels_iaf, scales_iaf = iaf_trainer.test_set.get_latents(n_samples=100, other='scales', device=\"cpu\")\n",
    "from scvi.utils import plot_identity\n"
   ]
  },
  {
   "cell_type": "code",
   "execution_count": null,
   "metadata": {},
   "outputs": [],
   "source": [
    "dataset.cell_types"
   ]
  },
  {
   "cell_type": "code",
   "execution_count": null,
   "metadata": {},
   "outputs": [],
   "source": [
    "lfcs_gt = - microarray_info.BDC2_logFC[subset_genes]\n",
    "where_a = np.where(labels_iaf == label_a)[0][:20]\n",
    "where_b = np.where(labels_iaf == label_b)[0][:20]\n",
    "\n",
    "scales_a = scales_iaf[:, where_a, :]\n",
    "scales_b = scales_iaf[:, where_b, :]\n",
    "\n",
    "lfc = np.log2(scales_a) - np.log2(scales_b)\n",
    "lfc = lfc.mean((0, 1))\n",
    "lfc = np.array(lfc)\n",
    "plt.scatter(x=lfc, y=lfcs_gt)plot_identity()\n",
    "plt.show()"
   ]
  },
  {
   "cell_type": "code",
   "execution_count": null,
   "metadata": {},
   "outputs": [],
   "source": [
    "from scvi.utils import demultiply"
   ]
  },
  {
   "cell_type": "code",
   "execution_count": null,
   "metadata": {},
   "outputs": [],
   "source": [
    "where_a = np.where(labels_iaf == 2)[0]\n",
    "len(where_a)"
   ]
  },
  {
   "cell_type": "code",
   "execution_count": null,
   "metadata": {},
   "outputs": [],
   "source": [
    "where_b = np.where(labels_iaf == 3)[0]\n",
    "len(where_b)\n"
   ]
  },
  {
   "cell_type": "code",
   "execution_count": null,
   "metadata": {},
   "outputs": [],
   "source": [
    "lfcs_gt = - microarray_info.CD_logFC[subset_genes]\n",
    "where_a = np.where(labels_iaf == 2)[0][:300]\n",
    "where_b = np.where(labels_iaf == 3)[0][:300]\n",
    "\n",
    "scales_a = scales_iaf[:, where_a, :]\n",
    "scales_b = scales_iaf[:, where_b, :]\n",
    "\n",
    "scales_a, scales_b = demultiply(scales_a, scales_b, factor=2)\n",
    "\n",
    "lfc = np.log2(scales_a) - np.log2(scales_b)\n",
    "lfc = lfc.mean((0, 1))\n",
    "lfc = np.array(lfc)\n",
    "plt.scatter(x=lfc, y=lfcs_gt)\n",
    "plot_identity()"
   ]
  },
  {
   "cell_type": "code",
   "execution_count": null,
   "metadata": {},
   "outputs": [],
   "source": [
    "import statsmodels.api as sm\n",
    "\n",
    "y = lfc\n",
    "X = lfcs_gt\n",
    "X = sm.add_constant(X)\n",
    "\n",
    "model = sm.OLS(y, X).fit()\n",
    "model.summary()\n",
    "\n",
    "x_lin = np.linspace(-4, 4)\n",
    "const = model.params.const\n",
    "y_lin = model.params.CD_logFC * x_lin + const\n",
    "\n",
    "plt.scatter(x=lfc, y=lfcs_gt)\n",
    "\n",
    "plt.plot(x_lin, y_lin)\n",
    "plot_identity()\n",
    "plt.show()"
   ]
  },
  {
   "cell_type": "code",
   "execution_count": null,
   "metadata": {},
   "outputs": [],
   "source": [
    "model.params"
   ]
  },
  {
   "cell_type": "code",
   "execution_count": null,
   "metadata": {},
   "outputs": [],
   "source": [
    "model.summary()"
   ]
  },
  {
   "cell_type": "code",
   "execution_count": null,
   "metadata": {},
   "outputs": [],
   "source": [
    "dataset.cell_types"
   ]
  },
  {
   "cell_type": "code",
   "execution_count": null,
   "metadata": {},
   "outputs": [],
   "source": []
  },
  {
   "cell_type": "code",
   "execution_count": null,
   "metadata": {},
   "outputs": [],
   "source": [
    "lfcs_gt = - microarray_info.CD_logFC[subset_genes]\n",
    "\n",
    "for label_a in range(9):\n",
    "    for label_b in range(9):\n",
    "        if label_a == label_b:\n",
    "            continue\n",
    "\n",
    "        where_a = np.where(labels_iaf == label_a)[0][:20]\n",
    "        where_b = np.where(labels_iaf == label_b)[0][:20]\n",
    "\n",
    "\n",
    "        scales_a = scales_iaf[:, where_a, :]\n",
    "        scales_b = scales_iaf[:, where_b, :]\n",
    "\n",
    "        lfc = np.log2(scales_a) - np.log2(scales_b)\n",
    "        lfc = lfc.mean((0, 1))\n",
    "        lfc = np.array(lfc)\n",
    "        plt.scatter(x=lfc, y=lfcs_gt)\n",
    "        plt.title('a={}, b={}'.format(label_a, label_b))\n",
    "        plot_identity()\n",
    "        plt.show()"
   ]
  },
  {
   "cell_type": "code",
   "execution_count": null,
   "metadata": {},
   "outputs": [],
   "source": [
    "lfcs_gt = - microarray_info.BDC2_logFC[subset_genes]\n",
    "\n",
    "for label_a in range(9):\n",
    "    for label_b in range(9):\n",
    "        if label_a == label_b:\n",
    "            continue\n",
    "\n",
    "        where_a = np.where(labels_iaf == label_a)[0][:20]\n",
    "        where_b = np.where(labels_iaf == label_b)[0][:20]\n",
    "\n",
    "\n",
    "        scales_a = scales_iaf[:, where_a, :]\n",
    "        scales_b = scales_iaf[:, where_b, :]\n",
    "\n",
    "        lfc = np.log2(scales_a) - np.log2(scales_b)\n",
    "        lfc = lfc.mean((0, 1))\n",
    "        lfc = np.array(lfc)\n",
    "        plt.scatter(x=lfc, y=lfcs_gt)\n",
    "        plt.title('a={}, b={}'.format(label_a, label_b))\n",
    "        plot_identity()\n",
    "        plt.show()"
   ]
  },
  {
   "cell_type": "code",
   "execution_count": null,
   "metadata": {},
   "outputs": [],
   "source": []
  }
 ],
 "metadata": {
  "kernelspec": {
   "display_name": "Python 3",
   "language": "python",
   "name": "python3"
  },
  "language_info": {
   "codemirror_mode": {
    "name": "ipython",
    "version": 3
   },
   "file_extension": ".py",
   "mimetype": "text/x-python",
   "name": "python",
   "nbconvert_exporter": "python",
   "pygments_lexer": "ipython3",
   "version": "3.7.3"
  },
  "toc": {
   "base_numbering": 1,
   "nav_menu": {},
   "number_sections": true,
   "sideBar": true,
   "skip_h1_title": false,
   "title_cell": "Table of Contents",
   "title_sidebar": "Contents",
   "toc_cell": false,
   "toc_position": {
    "height": "calc(100% - 180px)",
    "left": "10px",
    "top": "150px",
    "width": "257.358px"
   },
   "toc_section_display": true,
   "toc_window_display": true
  }
 },
 "nbformat": 4,
 "nbformat_minor": 2
}
